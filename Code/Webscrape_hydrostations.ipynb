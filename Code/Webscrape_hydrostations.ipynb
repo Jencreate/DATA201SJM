{
 "cells": [
  {
   "cell_type": "code",
   "execution_count": 14,
   "id": "dc77fa40",
   "metadata": {},
   "outputs": [
    {
     "name": "stderr",
     "output_type": "stream",
     "text": [
      "── \u001b[1mAttaching packages\u001b[22m ───────────────────────────────────────────────────────────────────────────────────────────────────────────────────────────────── tidyverse 1.3.1 ──\n",
      "\n",
      "\u001b[32m✔\u001b[39m \u001b[34mggplot2\u001b[39m 3.3.5     \u001b[32m✔\u001b[39m \u001b[34mpurrr  \u001b[39m 0.3.4\n",
      "\u001b[32m✔\u001b[39m \u001b[34mtibble \u001b[39m 3.1.4     \u001b[32m✔\u001b[39m \u001b[34mdplyr  \u001b[39m 1.0.7\n",
      "\u001b[32m✔\u001b[39m \u001b[34mtidyr  \u001b[39m 1.1.3     \u001b[32m✔\u001b[39m \u001b[34mstringr\u001b[39m 1.4.0\n",
      "\u001b[32m✔\u001b[39m \u001b[34mreadr  \u001b[39m 2.0.1     \u001b[32m✔\u001b[39m \u001b[34mforcats\u001b[39m 0.5.1\n",
      "\n",
      "── \u001b[1mConflicts\u001b[22m ──────────────────────────────────────────────────────────────────────────────────────────────────────────────────────────────────── tidyverse_conflicts() ──\n",
      "\u001b[31m✖\u001b[39m \u001b[34mtidyr\u001b[39m::\u001b[32mextract()\u001b[39m        masks \u001b[34mmagrittr\u001b[39m::extract()\n",
      "\u001b[31m✖\u001b[39m \u001b[34mdplyr\u001b[39m::\u001b[32mfilter()\u001b[39m         masks \u001b[34mstats\u001b[39m::filter()\n",
      "\u001b[31m✖\u001b[39m \u001b[34mreadr\u001b[39m::\u001b[32mguess_encoding()\u001b[39m masks \u001b[34mrvest\u001b[39m::guess_encoding()\n",
      "\u001b[31m✖\u001b[39m \u001b[34mdplyr\u001b[39m::\u001b[32mlag()\u001b[39m            masks \u001b[34mstats\u001b[39m::lag()\n",
      "\u001b[31m✖\u001b[39m \u001b[34mpurrr\u001b[39m::\u001b[32mset_names()\u001b[39m      masks \u001b[34mmagrittr\u001b[39m::set_names()\n",
      "\n"
     ]
    }
   ],
   "source": [
    "library(tidyverse)\n",
    "library(magrittr)\n",
    "library(xml2)\n",
    "library(rvest)"
   ]
  },
  {
   "cell_type": "code",
   "execution_count": 32,
   "id": "fb3037a2",
   "metadata": {},
   "outputs": [],
   "source": [
    "# Main site address\n",
    "main_url <- \"https://www.emi.ea.govt.nz\"\n",
    "# Sub address for electricity generation information\n",
    "power_url <- \"/Wholesale/Datasets/Generation/Generation_MD/\"\n",
    "# Acquire html code from sub address\n",
    "source <- read_html(paste(main_url, power_url, sep=\"\"))\n",
    "# Identify all links in the given html class\n",
    "all_links <- source %>% html_nodes(\".table\") %>% html_elements(\"a\") %>% html_attr(\"href\")\n",
    "# Identify appropriate urls within links and remove duplicates\n",
    "filtered_links <- all_links[startsWith(all_links, power_url) & !duplicated(all_links)]\n",
    "# Extract date information from filtered links\n",
    "dates <- substring(filtered_links , 46, 51) \n",
    "# Select links containing csv data\n",
    "selected_links <- filtered_links[substring(dates, 1, 4) == \"2020\"]\n",
    "\n",
    "\n",
    "# Extract csv data into dataframes\n",
    "generation_data <- lapply(paste(main_url, selected_links, sep=\"\"), read.csv)"
   ]
  },
  {
   "cell_type": "code",
   "execution_count": null,
   "id": "28418c47",
   "metadata": {},
   "outputs": [],
   "source": []
  }
 ],
 "metadata": {
  "kernelspec": {
   "display_name": "R",
   "language": "R",
   "name": "ir"
  },
  "language_info": {
   "codemirror_mode": "r",
   "file_extension": ".r",
   "mimetype": "text/x-r-source",
   "name": "R",
   "pygments_lexer": "r",
   "version": "4.1.1"
  }
 },
 "nbformat": 4,
 "nbformat_minor": 5
}
