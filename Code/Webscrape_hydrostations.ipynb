{
 "cells": [
  {
   "cell_type": "code",
   "execution_count": 103,
   "id": "dc77fa40",
   "metadata": {},
   "outputs": [],
   "source": [
    "library(tidyverse)\n",
    "library(xml2)\n",
    "library(rvest)\n",
    "library(httr)\n",
    "#install.packages(\"readxl\")\n",
    "library(readxl)\n",
    "#install.packages(\"furrr\")\n",
    "library(furrr)\n",
    "future::plan(multicore)"
   ]
  },
  {
   "cell_type": "markdown",
   "id": "91d9ddf0",
   "metadata": {},
   "source": [
    "## Information variables"
   ]
  },
  {
   "cell_type": "code",
   "execution_count": 4,
   "id": "634da97f",
   "metadata": {},
   "outputs": [],
   "source": [
    "# Main site address\n",
    "main_url <- \"https://www.emi.ea.govt.nz\"\n",
    "# Sub address for electricity generation information\n",
    "power_url <- \"/Wholesale/Datasets/Generation/Generation_MD\"\n",
    "# Sub address for hydrostations fleet\n",
    "stations_url <- \"/Wholesale/Datasets/Generation/Generation_fleet/Existing\"\n",
    "# Sub address for network supply points\n",
    "points_url <- \"/Wholesale/Reports/R_NSPL_DR?_si=v|3\""
   ]
  },
  {
   "cell_type": "markdown",
   "id": "36d15a47",
   "metadata": {},
   "source": [
    "## Retrieve generation output data"
   ]
  },
  {
   "cell_type": "markdown",
   "id": "47750332",
   "metadata": {},
   "source": [
    "### Web Scraping"
   ]
  },
  {
   "cell_type": "code",
   "execution_count": 105,
   "id": "fb3037a2",
   "metadata": {},
   "outputs": [
    {
     "data": {
      "text/html": [
       "'Source checkpoint'"
      ],
      "text/latex": [
       "'Source checkpoint'"
      ],
      "text/markdown": [
       "'Source checkpoint'"
      ],
      "text/plain": [
       "[1] \"Source checkpoint\""
      ]
     },
     "metadata": {},
     "output_type": "display_data"
    },
    {
     "data": {
      "text/html": [
       "'Links identification checkpoint'"
      ],
      "text/latex": [
       "'Links identification checkpoint'"
      ],
      "text/markdown": [
       "'Links identification checkpoint'"
      ],
      "text/plain": [
       "[1] \"Links identification checkpoint\""
      ]
     },
     "metadata": {},
     "output_type": "display_data"
    },
    {
     "data": {
      "text/html": [
       "'Links filtered checkpoint'"
      ],
      "text/latex": [
       "'Links filtered checkpoint'"
      ],
      "text/markdown": [
       "'Links filtered checkpoint'"
      ],
      "text/plain": [
       "[1] \"Links filtered checkpoint\""
      ]
     },
     "metadata": {},
     "output_type": "display_data"
    },
    {
     "data": {
      "text/html": [
       "'Date extraction checkpoint'"
      ],
      "text/latex": [
       "'Date extraction checkpoint'"
      ],
      "text/markdown": [
       "'Date extraction checkpoint'"
      ],
      "text/plain": [
       "[1] \"Date extraction checkpoint\""
      ]
     },
     "metadata": {},
     "output_type": "display_data"
    },
    {
     "data": {
      "text/html": [
       "'Links selected checkpoint'"
      ],
      "text/latex": [
       "'Links selected checkpoint'"
      ],
      "text/markdown": [
       "'Links selected checkpoint'"
      ],
      "text/plain": [
       "[1] \"Links selected checkpoint\""
      ]
     },
     "metadata": {},
     "output_type": "display_data"
    },
    {
     "data": {
      "text/html": [
       "'Generation retrieval checkpoint'"
      ],
      "text/latex": [
       "'Generation retrieval checkpoint'"
      ],
      "text/markdown": [
       "'Generation retrieval checkpoint'"
      ],
      "text/plain": [
       "[1] \"Generation retrieval checkpoint\""
      ]
     },
     "metadata": {},
     "output_type": "display_data"
    },
    {
     "data": {
      "text/html": [
       "'Data filter checkpoint'"
      ],
      "text/latex": [
       "'Data filter checkpoint'"
      ],
      "text/markdown": [
       "'Data filter checkpoint'"
      ],
      "text/plain": [
       "[1] \"Data filter checkpoint\""
      ]
     },
     "metadata": {},
     "output_type": "display_data"
    },
    {
     "data": {
      "text/html": [
       "'RETRIEVAL COMPLETE'"
      ],
      "text/latex": [
       "'RETRIEVAL COMPLETE'"
      ],
      "text/markdown": [
       "'RETRIEVAL COMPLETE'"
      ],
      "text/plain": [
       "[1] \"RETRIEVAL COMPLETE\""
      ]
     },
     "metadata": {},
     "output_type": "display_data"
    }
   ],
   "source": [
    "# Acquire html code from sub address\n",
    "source <- paste(main_url, power_url, sep=\"\") %>% read_html()\n",
    "\"Source checkpoint\"\n",
    "# Identify all links in the given html class\n",
    "all_links <- source %>% html_nodes(\".table\") %>% html_elements(\"a\") %>% html_attr(\"href\")\n",
    "\"Links identification checkpoint\"\n",
    "# Identify appropriate urls within links and remove duplicates\n",
    "filtered_links <- all_links[startsWith(all_links, power_url) & !duplicated(all_links)]\n",
    "\"Links filtered checkpoint\"\n",
    "# Extract date information from filtered links\n",
    "start_pos <- nchar(power_url) + 2\n",
    "dates <- substring(filtered_links , start_pos, start_pos + 3) \n",
    "\"Date extraction checkpoint\"\n",
    "# Set dates wanted\n",
    "dates_wanted <- seq(from=2015,to=2020)\n",
    "# Select links containing csv data\n",
    "selected_links <- filtered_links[dates %in% dates_wanted]\n",
    "\"Links selected checkpoint\"\n",
    "# Extract csv data into dataframes\n",
    "link <- paste(main_url, selected_links, sep=\"\") \n",
    "generation_md <- link %>% future_map_dfr(read_csv, show_col_types = FALSE)\n",
    "\"Generation retrieval checkpoint\"\n",
    "\n",
    "# Filter out non hydro stations\n",
    "generation_md_hydro <- generation_md %>% filter(Tech_Code == \"Hydro\")\n",
    "\"Data filter checkpoint\"\n",
    "\"RETRIEVAL COMPLETE\""
   ]
  },
  {
   "cell_type": "markdown",
   "id": "1678a8fd",
   "metadata": {},
   "source": [
    "## Retrieve hydrostations fleet information"
   ]
  },
  {
   "cell_type": "code",
   "execution_count": 6,
   "id": "352a4803",
   "metadata": {},
   "outputs": [],
   "source": [
    "# Acquire html code from sub address\n",
    "source <- paste(main_url, stations_url, sep=\"\") %>% read_html()\n",
    "# Identify all links in the given html class\n",
    "all_links <- source %>% html_nodes(\".xls\") %>% html_elements(\"a\") %>% html_attr(\"href\")\n",
    "# Identify appropriate urls within links and remove duplicates\n",
    "filtered_links <- all_links[startsWith(all_links, stations_url) & !duplicated(all_links)]\n",
    "selected_link <- filtered_links\n",
    "# Save spreadsheet into a temporary file and the data into a tibble\n",
    "url <- paste(main_url, selected_link,sep=\"\")\n",
    "output <- GET(url, write_disk(spreadsheet <- tempfile(fileext = \".xls\")))\n",
    "generation_fleet <- read_excel(spreadsheet, sheet = \"Generating Stations\") %>% filter(Generation_Type == \"Hydro\")\n",
    "generation_fleet_SI <- generation_fleet %>% \n",
    "                        filter(Island_Name == \"SI - South Island\") %>% \n",
    "                        group_by(GroupName) %>% \n",
    "                        arrange(.by_group = TRUE)\n",
    "generation_fleet_SI <- generation_fleet_SI[, c('Station_Name', \n",
    "                                               'GroupName', \n",
    "                                               'Owner_Name', \n",
    "                                               'Operators_Name', \n",
    "                                               'Node_Name', \n",
    "                                               'Region_Name', \n",
    "                                               'Island_Name')]"
   ]
  },
  {
   "cell_type": "markdown",
   "id": "fe7b059e-1e02-4feb-a95a-0282f133d4a3",
   "metadata": {},
   "source": [
    "## Retrieve Network supply points"
   ]
  },
  {
   "cell_type": "code",
   "execution_count": 11,
   "id": "604bbfbc-a355-44bf-a5fa-dfd7158afb55",
   "metadata": {},
   "outputs": [],
   "source": [
    "source <- paste(main_url, points_url, sep=\"\") %>% read_html()\n",
    "all_links <- source %>% html_nodes(\".emi-btn-no-border\") %>% html_elements(\"a\") %>% html_attr(\"href\")\n",
    "filtered_links <- all_links[startsWith(all_links, \"/Wholesale\") & !duplicated(all_links)] %>% na.omit()\n",
    "selected_link <- filtered_links\n",
    "url <- paste(main_url, selected_link, sep=\"\")\n",
    "supply_points <- url %>% read.csv(skip=6) %>% \n",
    "                            select(POC.code, NZTM.easting, NZTM.northing) %>% \n",
    "                            rename(Node_Name = POC.code)"
   ]
  },
  {
   "cell_type": "markdown",
   "id": "82bde0ec-14d9-410a-9e94-c2f5d789e8b4",
   "metadata": {},
   "source": [
    "## Add NZTM coordinated from supply points to generation fleet"
   ]
  },
  {
   "cell_type": "code",
   "execution_count": 12,
   "id": "b676634e-0159-4fc8-80ac-4712a9b37300",
   "metadata": {},
   "outputs": [],
   "source": [
    "gen_fleet <- merge(generation_fleet_SI, supply_points, by='Node_Name')\n",
    "gen_fleet <- gen_fleet[!duplicated(gen_fleet$Station_Name),]\n",
    "# Gen fleet contains hydrstation fleet with their locations, ot including one hydrostation without a location."
   ]
  },
  {
   "cell_type": "code",
   "execution_count": 13,
   "id": "1e29caf6-f9c4-4d8a-8d56-0e704ff057b6",
   "metadata": {},
   "outputs": [
    {
     "data": {
      "text/html": [
       "<table class=\"dataframe\">\n",
       "<caption>A data.frame: 47 × 9</caption>\n",
       "<thead>\n",
       "\t<tr><th></th><th scope=col>Node_Name</th><th scope=col>Station_Name</th><th scope=col>GroupName</th><th scope=col>Owner_Name</th><th scope=col>Operators_Name</th><th scope=col>Region_Name</th><th scope=col>Island_Name</th><th scope=col>NZTM.easting</th><th scope=col>NZTM.northing</th></tr>\n",
       "\t<tr><th></th><th scope=col>&lt;chr&gt;</th><th scope=col>&lt;chr&gt;</th><th scope=col>&lt;chr&gt;</th><th scope=col>&lt;chr&gt;</th><th scope=col>&lt;chr&gt;</th><th scope=col>&lt;chr&gt;</th><th scope=col>&lt;chr&gt;</th><th scope=col>&lt;int&gt;</th><th scope=col>&lt;int&gt;</th></tr>\n",
       "</thead>\n",
       "<tbody>\n",
       "\t<tr><th scope=row>1</th><td>ABY0111</td><td>Opuha                 </td><td>NA                         </td><td>Alpine Energy        </td><td>Contact Energy       </td><td>SCN - South Canterbury   </td><td>SI - South Island</td><td>1424397</td><td>5097843</td></tr>\n",
       "\t<tr><th scope=row>4</th><td>ARA2201</td><td>Amethyst              </td><td>NA                         </td><td>Westpower            </td><td>Westpower            </td><td>WEC - West Coast         </td><td>SI - South Island</td><td>1873657</td><td>5721161</td></tr>\n",
       "\t<tr><th scope=row>6</th><td>ARG1101</td><td>Argyle                </td><td>Branch Hydro Scheme        </td><td>Trustpower           </td><td>Trustpower           </td><td>NEL - Nelson/Marlbourough</td><td>SI - South Island</td><td>1616837</td><td>5386748</td></tr>\n",
       "\t<tr><th scope=row>9</th><td>ARG1101</td><td>Wairau                </td><td>Branch Hydro Scheme        </td><td>Trustpower           </td><td>Trustpower           </td><td>NEL - Nelson/Marlbourough</td><td>SI - South Island</td><td>1616837</td><td>5386748</td></tr>\n",
       "\t<tr><th scope=row>12</th><td>ASB0331</td><td>Montalto              </td><td>Rangitata Diversion Race   </td><td>Trustpower           </td><td>Trustpower           </td><td>CAN - Canterbury         </td><td>SI - South Island</td><td>1503871</td><td>5133909</td></tr>\n",
       "\t<tr><th scope=row>14</th><td>ASB0661</td><td>Highbank              </td><td>Rangitata Diversion Race   </td><td>Trustpower           </td><td>Trustpower           </td><td>CAN - Canterbury         </td><td>SI - South Island</td><td>1503871</td><td>5133909</td></tr>\n",
       "\t<tr><th scope=row>32</th><td>ASB0661</td><td>Cleardale             </td><td>NA                         </td><td>MainPower            </td><td>MainPower            </td><td>CAN - Canterbury         </td><td>SI - South Island</td><td>1503871</td><td>5133909</td></tr>\n",
       "\t<tr><th scope=row>50</th><td>AVI2201</td><td>Aviemore              </td><td>Waitaki Hydro Scheme       </td><td>Meridian Energy      </td><td>Meridian Energy      </td><td>SCN - South Canterbury   </td><td>SI - South Island</td><td>1390245</td><td>5051586</td></tr>\n",
       "\t<tr><th scope=row>52</th><td>BEN2202</td><td>Benmore               </td><td>Waitaki Hydro Scheme       </td><td>Meridian Energy      </td><td>Meridian Energy      </td><td>SCN - South Canterbury   </td><td>SI - South Island</td><td>1377232</td><td>5061385</td></tr>\n",
       "\t<tr><th scope=row>53</th><td>BLN0331</td><td>Waihopai              </td><td>NA                         </td><td>Trustpower           </td><td>Trustpower           </td><td>NEL - Nelson/Marlbourough</td><td>SI - South Island</td><td>1677835</td><td>5405479</td></tr>\n",
       "\t<tr><th scope=row>55</th><td>BWK1101</td><td>Waipori               </td><td>NA                         </td><td>Trustpower           </td><td>Trustpower           </td><td>OTG - Otago/Southland    </td><td>SI - South Island</td><td>1375380</td><td>4908481</td></tr>\n",
       "\t<tr><th scope=row>58</th><td>CML0331</td><td>Roaring Meg           </td><td>NA                         </td><td>Pioneer Generation   </td><td>Trustpower           </td><td>OTG - Otago/Southland    </td><td>SI - South Island</td><td>1300103</td><td>5003434</td></tr>\n",
       "\t<tr><th scope=row>60</th><td>COB0661</td><td>Cobb                  </td><td>NA                         </td><td>Trustpower           </td><td>Trustpower           </td><td>NEL - Nelson/Marlbourough</td><td>SI - South Island</td><td>1577544</td><td>5451620</td></tr>\n",
       "\t<tr><th scope=row>62</th><td>COL0661</td><td>Coleridge             </td><td>NA                         </td><td>Trustpower           </td><td>Trustpower           </td><td>CAN - Canterbury         </td><td>SI - South Island</td><td>1480646</td><td>5197734</td></tr>\n",
       "\t<tr><th scope=row>65</th><td>CYD0331</td><td>Horseshoe Bend        </td><td>Teviot Hydro Scheme        </td><td>Pioneer Generation   </td><td>Trustpower           </td><td>OTG - Otago/Southland    </td><td>SI - South Island</td><td>1309791</td><td>4990371</td></tr>\n",
       "\t<tr><th scope=row>69</th><td>CYD0331</td><td>Teviot                </td><td>Teviot Hydro Scheme        </td><td>Pioneer Generation   </td><td>Trustpower           </td><td>OTG - Otago/Southland    </td><td>SI - South Island</td><td>1309791</td><td>4990371</td></tr>\n",
       "\t<tr><th scope=row>73</th><td>CYD0331</td><td>Fraser                </td><td>NA                         </td><td>Pioneer Generation   </td><td>Trustpower           </td><td>OTG - Otago/Southland    </td><td>SI - South Island</td><td>1309791</td><td>4990371</td></tr>\n",
       "\t<tr><th scope=row>77</th><td>CYD0331</td><td>Kowhai                </td><td>Teviot Hydro Scheme        </td><td>Pioneer Generation   </td><td>Pioneer Generation   </td><td>OTG - Otago/Southland    </td><td>SI - South Island</td><td>1309791</td><td>4990371</td></tr>\n",
       "\t<tr><th scope=row>81</th><td>CYD0331</td><td>Talla Burn            </td><td>NA                         </td><td>Talla Burn Generation</td><td>Talla Burn Generation</td><td>OTG - Otago/Southland    </td><td>SI - South Island</td><td>1309791</td><td>4990371</td></tr>\n",
       "\t<tr><th scope=row>85</th><td>CYD2201</td><td>Clyde                 </td><td>Clutha Hydro Scheme        </td><td>Contact Energy       </td><td>Contact Energy       </td><td>OTG - Otago/Southland    </td><td>SI - South Island</td><td>1309791</td><td>4990371</td></tr>\n",
       "\t<tr><th scope=row>87</th><td>DOB0331</td><td>Arnold                </td><td>NA                         </td><td>Trustpower           </td><td>Trustpower           </td><td>WEC - West Coast         </td><td>SI - South Island</td><td>1460288</td><td>5298504</td></tr>\n",
       "\t<tr><th scope=row>89</th><td>DOB0331</td><td>Ngahere               </td><td>NA                         </td><td>Birchfield Minerals  </td><td>Mighty River Power   </td><td>WEC - West Coast         </td><td>SI - South Island</td><td>1460288</td><td>5298504</td></tr>\n",
       "\t<tr><th scope=row>91</th><td>FKN0331</td><td>Oxburn/Glenorchy      </td><td>NA                         </td><td>Pioneer Generation   </td><td>Pioneer Generation   </td><td>OTG - Otago/Southland    </td><td>SI - South Island</td><td>1264313</td><td>5007062</td></tr>\n",
       "\t<tr><th scope=row>94</th><td>FKN0331</td><td>Wye Creek             </td><td>NA                         </td><td>Pioneer Generation   </td><td>Trustpower           </td><td>OTG - Otago/Southland    </td><td>SI - South Island</td><td>1264313</td><td>5007062</td></tr>\n",
       "\t<tr><th scope=row>97</th><td>GOR0331</td><td>Mataura               </td><td>NA                         </td><td>Niblick Trust        </td><td>Simply Energy        </td><td>OTG - Otago/Southland    </td><td>SI - South Island</td><td>1284097</td><td>4885035</td></tr>\n",
       "\t<tr><th scope=row>100</th><td>HKK0661</td><td>Kaniere Forks         </td><td>Kaniere River              </td><td>Trustpower           </td><td>Trustpower           </td><td>WEC - West Coast         </td><td>SI - South Island</td><td>1434864</td><td>5267776</td></tr>\n",
       "\t<tr><th scope=row>104</th><td>HKK0661</td><td>McKays Creek          </td><td>Kaniere River              </td><td>Trustpower           </td><td>Trustpower           </td><td>WEC - West Coast         </td><td>SI - South Island</td><td>1434864</td><td>5267776</td></tr>\n",
       "\t<tr><th scope=row>108</th><td>HKK0661</td><td>Fox                   </td><td>NA                         </td><td>Trustpower           </td><td>Trustpower           </td><td>WEC - West Coast         </td><td>SI - South Island</td><td>1434864</td><td>5267776</td></tr>\n",
       "\t<tr><th scope=row>112</th><td>HKK0661</td><td>Wahapo (Okarito Forks)</td><td>NA                         </td><td>Trustpower           </td><td>Trustpower           </td><td>WEC - West Coast         </td><td>SI - South Island</td><td>1434864</td><td>5267776</td></tr>\n",
       "\t<tr><th scope=row>116</th><td>HWB0331</td><td>Deep Stream           </td><td>NA                         </td><td>Trustpower           </td><td>Trustpower           </td><td>OTG - Otago/Southland    </td><td>SI - South Island</td><td>1404021</td><td>4918942</td></tr>\n",
       "\t<tr><th scope=row>137</th><td>KUM0661</td><td>Dillmans              </td><td>Dillmans Hydro Power Scheme</td><td>Trustpower           </td><td>Trustpower           </td><td>WEC - West Coast         </td><td>SI - South Island</td><td>1452052</td><td>5278084</td></tr>\n",
       "\t<tr><th scope=row>139</th><td>KUM0661</td><td>Kumara                </td><td>Dillmans Hydro Power Scheme</td><td>Trustpower           </td><td>Trustpower           </td><td>WEC - West Coast         </td><td>SI - South Island</td><td>1452052</td><td>5278084</td></tr>\n",
       "\t<tr><th scope=row>141</th><td>MAN2201</td><td>Manapouri             </td><td>NA                         </td><td>Meridian Energy      </td><td>Meridian Energy      </td><td>OTG - Otago/Southland    </td><td>SI - South Island</td><td>1153139</td><td>4943246</td></tr>\n",
       "\t<tr><th scope=row>143</th><td>MOT0111</td><td>Brooklyn Power Station</td><td>NA                         </td><td>Lloyd Wensley        </td><td>Lloyd Wensley        </td><td>NEL - Nelson/Marlbourough</td><td>SI - South Island</td><td>1598341</td><td>5445956</td></tr>\n",
       "\t<tr><th scope=row>145</th><td>MPI0661</td><td>Onekaka               </td><td>NA                         </td><td>Onekaka Energy       </td><td>Onekaka Energy       </td><td>NEL - Nelson/Marlbourough</td><td>SI - South Island</td><td>1586766</td><td>5476730</td></tr>\n",
       "\t<tr><th scope=row>147</th><td>MPI0661</td><td>Pupu Hydro            </td><td>NA                         </td><td>Pupu Hydro Society   </td><td>Contact Energy       </td><td>NEL - Nelson/Marlbourough</td><td>SI - South Island</td><td>1586766</td><td>5476730</td></tr>\n",
       "\t<tr><th scope=row>149</th><td>NMA0331</td><td>Monowai               </td><td>NA                         </td><td>Pioneer Generation   </td><td>Trustpower           </td><td>OTG - Otago/Southland    </td><td>SI - South Island</td><td>1242674</td><td>4861597</td></tr>\n",
       "\t<tr><th scope=row>151</th><td>NSY0331</td><td>Paerau                </td><td>Paerau Gorge Power Scheme  </td><td>Trustpower           </td><td>Trustpower           </td><td>OTG - Otago/Southland    </td><td>SI - South Island</td><td>1371044</td><td>5009246</td></tr>\n",
       "\t<tr><th scope=row>153</th><td>NSY0331</td><td>Falls Dam             </td><td>NA                         </td><td>Pioneer Generation   </td><td>Trustpower           </td><td>OTG - Otago/Southland    </td><td>SI - South Island</td><td>1371044</td><td>5009246</td></tr>\n",
       "\t<tr><th scope=row>155</th><td>OHA2201</td><td>Ohau A                </td><td>Waitaki Hydro Scheme       </td><td>Meridian Energy      </td><td>Meridian Energy      </td><td>SCN - South Canterbury   </td><td>SI - South Island</td><td>1362893</td><td>5094306</td></tr>\n",
       "\t<tr><th scope=row>157</th><td>OHB2201</td><td>Ohau B                </td><td>Waitaki Hydro Scheme       </td><td>Meridian Energy      </td><td>Meridian Energy      </td><td>SCN - South Canterbury   </td><td>SI - South Island</td><td>1369523</td><td>5090583</td></tr>\n",
       "\t<tr><th scope=row>159</th><td>OHC2201</td><td>Ohau C                </td><td>Waitaki Hydro Scheme       </td><td>Meridian Energy      </td><td>Meridian Energy      </td><td>SCN - South Canterbury   </td><td>SI - South Island</td><td>1375191</td><td>5086131</td></tr>\n",
       "\t<tr><th scope=row>161</th><td>ORO1101</td><td>Rochfort              </td><td>NA                         </td><td>Kawatiri Energy      </td><td>Kawatiri Energy      </td><td>WEC - West Coast         </td><td>SI - South Island</td><td>1484432</td><td>5374879</td></tr>\n",
       "\t<tr><th scope=row>189</th><td>ROX1101</td><td>Roxburgh              </td><td>Clutha Hydro Scheme        </td><td>Contact Energy       </td><td>Contact Energy       </td><td>OTG - Otago/Southland    </td><td>SI - South Island</td><td>1312313</td><td>4957441</td></tr>\n",
       "\t<tr><th scope=row>191</th><td>TKA0111</td><td>Tekapo A              </td><td>Waitaki Hydro Scheme       </td><td>Genesis Energy       </td><td>Genesis Energy       </td><td>SCN - South Canterbury   </td><td>SI - South Island</td><td>1396466</td><td>5123456</td></tr>\n",
       "\t<tr><th scope=row>194</th><td>TKB2201</td><td>Tekapo B              </td><td>Waitaki Hydro Scheme       </td><td>Genesis Energy       </td><td>Genesis Energy       </td><td>SCN - South Canterbury   </td><td>SI - South Island</td><td>1376920</td><td>5110450</td></tr>\n",
       "\t<tr><th scope=row>197</th><td>WTK0111</td><td>Waitaki               </td><td>Waitaki Hydro Scheme       </td><td>Meridian Energy      </td><td>Meridian Energy      </td><td>OTG - Otago/Southland    </td><td>SI - South Island</td><td>1396274</td><td>5048061</td></tr>\n",
       "</tbody>\n",
       "</table>\n"
      ],
      "text/latex": [
       "A data.frame: 47 × 9\n",
       "\\begin{tabular}{r|lllllllll}\n",
       "  & Node\\_Name & Station\\_Name & GroupName & Owner\\_Name & Operators\\_Name & Region\\_Name & Island\\_Name & NZTM.easting & NZTM.northing\\\\\n",
       "  & <chr> & <chr> & <chr> & <chr> & <chr> & <chr> & <chr> & <int> & <int>\\\\\n",
       "\\hline\n",
       "\t1 & ABY0111 & Opuha                  & NA                          & Alpine Energy         & Contact Energy        & SCN - South Canterbury    & SI - South Island & 1424397 & 5097843\\\\\n",
       "\t4 & ARA2201 & Amethyst               & NA                          & Westpower             & Westpower             & WEC - West Coast          & SI - South Island & 1873657 & 5721161\\\\\n",
       "\t6 & ARG1101 & Argyle                 & Branch Hydro Scheme         & Trustpower            & Trustpower            & NEL - Nelson/Marlbourough & SI - South Island & 1616837 & 5386748\\\\\n",
       "\t9 & ARG1101 & Wairau                 & Branch Hydro Scheme         & Trustpower            & Trustpower            & NEL - Nelson/Marlbourough & SI - South Island & 1616837 & 5386748\\\\\n",
       "\t12 & ASB0331 & Montalto               & Rangitata Diversion Race    & Trustpower            & Trustpower            & CAN - Canterbury          & SI - South Island & 1503871 & 5133909\\\\\n",
       "\t14 & ASB0661 & Highbank               & Rangitata Diversion Race    & Trustpower            & Trustpower            & CAN - Canterbury          & SI - South Island & 1503871 & 5133909\\\\\n",
       "\t32 & ASB0661 & Cleardale              & NA                          & MainPower             & MainPower             & CAN - Canterbury          & SI - South Island & 1503871 & 5133909\\\\\n",
       "\t50 & AVI2201 & Aviemore               & Waitaki Hydro Scheme        & Meridian Energy       & Meridian Energy       & SCN - South Canterbury    & SI - South Island & 1390245 & 5051586\\\\\n",
       "\t52 & BEN2202 & Benmore                & Waitaki Hydro Scheme        & Meridian Energy       & Meridian Energy       & SCN - South Canterbury    & SI - South Island & 1377232 & 5061385\\\\\n",
       "\t53 & BLN0331 & Waihopai               & NA                          & Trustpower            & Trustpower            & NEL - Nelson/Marlbourough & SI - South Island & 1677835 & 5405479\\\\\n",
       "\t55 & BWK1101 & Waipori                & NA                          & Trustpower            & Trustpower            & OTG - Otago/Southland     & SI - South Island & 1375380 & 4908481\\\\\n",
       "\t58 & CML0331 & Roaring Meg            & NA                          & Pioneer Generation    & Trustpower            & OTG - Otago/Southland     & SI - South Island & 1300103 & 5003434\\\\\n",
       "\t60 & COB0661 & Cobb                   & NA                          & Trustpower            & Trustpower            & NEL - Nelson/Marlbourough & SI - South Island & 1577544 & 5451620\\\\\n",
       "\t62 & COL0661 & Coleridge              & NA                          & Trustpower            & Trustpower            & CAN - Canterbury          & SI - South Island & 1480646 & 5197734\\\\\n",
       "\t65 & CYD0331 & Horseshoe Bend         & Teviot Hydro Scheme         & Pioneer Generation    & Trustpower            & OTG - Otago/Southland     & SI - South Island & 1309791 & 4990371\\\\\n",
       "\t69 & CYD0331 & Teviot                 & Teviot Hydro Scheme         & Pioneer Generation    & Trustpower            & OTG - Otago/Southland     & SI - South Island & 1309791 & 4990371\\\\\n",
       "\t73 & CYD0331 & Fraser                 & NA                          & Pioneer Generation    & Trustpower            & OTG - Otago/Southland     & SI - South Island & 1309791 & 4990371\\\\\n",
       "\t77 & CYD0331 & Kowhai                 & Teviot Hydro Scheme         & Pioneer Generation    & Pioneer Generation    & OTG - Otago/Southland     & SI - South Island & 1309791 & 4990371\\\\\n",
       "\t81 & CYD0331 & Talla Burn             & NA                          & Talla Burn Generation & Talla Burn Generation & OTG - Otago/Southland     & SI - South Island & 1309791 & 4990371\\\\\n",
       "\t85 & CYD2201 & Clyde                  & Clutha Hydro Scheme         & Contact Energy        & Contact Energy        & OTG - Otago/Southland     & SI - South Island & 1309791 & 4990371\\\\\n",
       "\t87 & DOB0331 & Arnold                 & NA                          & Trustpower            & Trustpower            & WEC - West Coast          & SI - South Island & 1460288 & 5298504\\\\\n",
       "\t89 & DOB0331 & Ngahere                & NA                          & Birchfield Minerals   & Mighty River Power    & WEC - West Coast          & SI - South Island & 1460288 & 5298504\\\\\n",
       "\t91 & FKN0331 & Oxburn/Glenorchy       & NA                          & Pioneer Generation    & Pioneer Generation    & OTG - Otago/Southland     & SI - South Island & 1264313 & 5007062\\\\\n",
       "\t94 & FKN0331 & Wye Creek              & NA                          & Pioneer Generation    & Trustpower            & OTG - Otago/Southland     & SI - South Island & 1264313 & 5007062\\\\\n",
       "\t97 & GOR0331 & Mataura                & NA                          & Niblick Trust         & Simply Energy         & OTG - Otago/Southland     & SI - South Island & 1284097 & 4885035\\\\\n",
       "\t100 & HKK0661 & Kaniere Forks          & Kaniere River               & Trustpower            & Trustpower            & WEC - West Coast          & SI - South Island & 1434864 & 5267776\\\\\n",
       "\t104 & HKK0661 & McKays Creek           & Kaniere River               & Trustpower            & Trustpower            & WEC - West Coast          & SI - South Island & 1434864 & 5267776\\\\\n",
       "\t108 & HKK0661 & Fox                    & NA                          & Trustpower            & Trustpower            & WEC - West Coast          & SI - South Island & 1434864 & 5267776\\\\\n",
       "\t112 & HKK0661 & Wahapo (Okarito Forks) & NA                          & Trustpower            & Trustpower            & WEC - West Coast          & SI - South Island & 1434864 & 5267776\\\\\n",
       "\t116 & HWB0331 & Deep Stream            & NA                          & Trustpower            & Trustpower            & OTG - Otago/Southland     & SI - South Island & 1404021 & 4918942\\\\\n",
       "\t137 & KUM0661 & Dillmans               & Dillmans Hydro Power Scheme & Trustpower            & Trustpower            & WEC - West Coast          & SI - South Island & 1452052 & 5278084\\\\\n",
       "\t139 & KUM0661 & Kumara                 & Dillmans Hydro Power Scheme & Trustpower            & Trustpower            & WEC - West Coast          & SI - South Island & 1452052 & 5278084\\\\\n",
       "\t141 & MAN2201 & Manapouri              & NA                          & Meridian Energy       & Meridian Energy       & OTG - Otago/Southland     & SI - South Island & 1153139 & 4943246\\\\\n",
       "\t143 & MOT0111 & Brooklyn Power Station & NA                          & Lloyd Wensley         & Lloyd Wensley         & NEL - Nelson/Marlbourough & SI - South Island & 1598341 & 5445956\\\\\n",
       "\t145 & MPI0661 & Onekaka                & NA                          & Onekaka Energy        & Onekaka Energy        & NEL - Nelson/Marlbourough & SI - South Island & 1586766 & 5476730\\\\\n",
       "\t147 & MPI0661 & Pupu Hydro             & NA                          & Pupu Hydro Society    & Contact Energy        & NEL - Nelson/Marlbourough & SI - South Island & 1586766 & 5476730\\\\\n",
       "\t149 & NMA0331 & Monowai                & NA                          & Pioneer Generation    & Trustpower            & OTG - Otago/Southland     & SI - South Island & 1242674 & 4861597\\\\\n",
       "\t151 & NSY0331 & Paerau                 & Paerau Gorge Power Scheme   & Trustpower            & Trustpower            & OTG - Otago/Southland     & SI - South Island & 1371044 & 5009246\\\\\n",
       "\t153 & NSY0331 & Falls Dam              & NA                          & Pioneer Generation    & Trustpower            & OTG - Otago/Southland     & SI - South Island & 1371044 & 5009246\\\\\n",
       "\t155 & OHA2201 & Ohau A                 & Waitaki Hydro Scheme        & Meridian Energy       & Meridian Energy       & SCN - South Canterbury    & SI - South Island & 1362893 & 5094306\\\\\n",
       "\t157 & OHB2201 & Ohau B                 & Waitaki Hydro Scheme        & Meridian Energy       & Meridian Energy       & SCN - South Canterbury    & SI - South Island & 1369523 & 5090583\\\\\n",
       "\t159 & OHC2201 & Ohau C                 & Waitaki Hydro Scheme        & Meridian Energy       & Meridian Energy       & SCN - South Canterbury    & SI - South Island & 1375191 & 5086131\\\\\n",
       "\t161 & ORO1101 & Rochfort               & NA                          & Kawatiri Energy       & Kawatiri Energy       & WEC - West Coast          & SI - South Island & 1484432 & 5374879\\\\\n",
       "\t189 & ROX1101 & Roxburgh               & Clutha Hydro Scheme         & Contact Energy        & Contact Energy        & OTG - Otago/Southland     & SI - South Island & 1312313 & 4957441\\\\\n",
       "\t191 & TKA0111 & Tekapo A               & Waitaki Hydro Scheme        & Genesis Energy        & Genesis Energy        & SCN - South Canterbury    & SI - South Island & 1396466 & 5123456\\\\\n",
       "\t194 & TKB2201 & Tekapo B               & Waitaki Hydro Scheme        & Genesis Energy        & Genesis Energy        & SCN - South Canterbury    & SI - South Island & 1376920 & 5110450\\\\\n",
       "\t197 & WTK0111 & Waitaki                & Waitaki Hydro Scheme        & Meridian Energy       & Meridian Energy       & OTG - Otago/Southland     & SI - South Island & 1396274 & 5048061\\\\\n",
       "\\end{tabular}\n"
      ],
      "text/markdown": [
       "\n",
       "A data.frame: 47 × 9\n",
       "\n",
       "| <!--/--> | Node_Name &lt;chr&gt; | Station_Name &lt;chr&gt; | GroupName &lt;chr&gt; | Owner_Name &lt;chr&gt; | Operators_Name &lt;chr&gt; | Region_Name &lt;chr&gt; | Island_Name &lt;chr&gt; | NZTM.easting &lt;int&gt; | NZTM.northing &lt;int&gt; |\n",
       "|---|---|---|---|---|---|---|---|---|---|\n",
       "| 1 | ABY0111 | Opuha                  | NA                          | Alpine Energy         | Contact Energy        | SCN - South Canterbury    | SI - South Island | 1424397 | 5097843 |\n",
       "| 4 | ARA2201 | Amethyst               | NA                          | Westpower             | Westpower             | WEC - West Coast          | SI - South Island | 1873657 | 5721161 |\n",
       "| 6 | ARG1101 | Argyle                 | Branch Hydro Scheme         | Trustpower            | Trustpower            | NEL - Nelson/Marlbourough | SI - South Island | 1616837 | 5386748 |\n",
       "| 9 | ARG1101 | Wairau                 | Branch Hydro Scheme         | Trustpower            | Trustpower            | NEL - Nelson/Marlbourough | SI - South Island | 1616837 | 5386748 |\n",
       "| 12 | ASB0331 | Montalto               | Rangitata Diversion Race    | Trustpower            | Trustpower            | CAN - Canterbury          | SI - South Island | 1503871 | 5133909 |\n",
       "| 14 | ASB0661 | Highbank               | Rangitata Diversion Race    | Trustpower            | Trustpower            | CAN - Canterbury          | SI - South Island | 1503871 | 5133909 |\n",
       "| 32 | ASB0661 | Cleardale              | NA                          | MainPower             | MainPower             | CAN - Canterbury          | SI - South Island | 1503871 | 5133909 |\n",
       "| 50 | AVI2201 | Aviemore               | Waitaki Hydro Scheme        | Meridian Energy       | Meridian Energy       | SCN - South Canterbury    | SI - South Island | 1390245 | 5051586 |\n",
       "| 52 | BEN2202 | Benmore                | Waitaki Hydro Scheme        | Meridian Energy       | Meridian Energy       | SCN - South Canterbury    | SI - South Island | 1377232 | 5061385 |\n",
       "| 53 | BLN0331 | Waihopai               | NA                          | Trustpower            | Trustpower            | NEL - Nelson/Marlbourough | SI - South Island | 1677835 | 5405479 |\n",
       "| 55 | BWK1101 | Waipori                | NA                          | Trustpower            | Trustpower            | OTG - Otago/Southland     | SI - South Island | 1375380 | 4908481 |\n",
       "| 58 | CML0331 | Roaring Meg            | NA                          | Pioneer Generation    | Trustpower            | OTG - Otago/Southland     | SI - South Island | 1300103 | 5003434 |\n",
       "| 60 | COB0661 | Cobb                   | NA                          | Trustpower            | Trustpower            | NEL - Nelson/Marlbourough | SI - South Island | 1577544 | 5451620 |\n",
       "| 62 | COL0661 | Coleridge              | NA                          | Trustpower            | Trustpower            | CAN - Canterbury          | SI - South Island | 1480646 | 5197734 |\n",
       "| 65 | CYD0331 | Horseshoe Bend         | Teviot Hydro Scheme         | Pioneer Generation    | Trustpower            | OTG - Otago/Southland     | SI - South Island | 1309791 | 4990371 |\n",
       "| 69 | CYD0331 | Teviot                 | Teviot Hydro Scheme         | Pioneer Generation    | Trustpower            | OTG - Otago/Southland     | SI - South Island | 1309791 | 4990371 |\n",
       "| 73 | CYD0331 | Fraser                 | NA                          | Pioneer Generation    | Trustpower            | OTG - Otago/Southland     | SI - South Island | 1309791 | 4990371 |\n",
       "| 77 | CYD0331 | Kowhai                 | Teviot Hydro Scheme         | Pioneer Generation    | Pioneer Generation    | OTG - Otago/Southland     | SI - South Island | 1309791 | 4990371 |\n",
       "| 81 | CYD0331 | Talla Burn             | NA                          | Talla Burn Generation | Talla Burn Generation | OTG - Otago/Southland     | SI - South Island | 1309791 | 4990371 |\n",
       "| 85 | CYD2201 | Clyde                  | Clutha Hydro Scheme         | Contact Energy        | Contact Energy        | OTG - Otago/Southland     | SI - South Island | 1309791 | 4990371 |\n",
       "| 87 | DOB0331 | Arnold                 | NA                          | Trustpower            | Trustpower            | WEC - West Coast          | SI - South Island | 1460288 | 5298504 |\n",
       "| 89 | DOB0331 | Ngahere                | NA                          | Birchfield Minerals   | Mighty River Power    | WEC - West Coast          | SI - South Island | 1460288 | 5298504 |\n",
       "| 91 | FKN0331 | Oxburn/Glenorchy       | NA                          | Pioneer Generation    | Pioneer Generation    | OTG - Otago/Southland     | SI - South Island | 1264313 | 5007062 |\n",
       "| 94 | FKN0331 | Wye Creek              | NA                          | Pioneer Generation    | Trustpower            | OTG - Otago/Southland     | SI - South Island | 1264313 | 5007062 |\n",
       "| 97 | GOR0331 | Mataura                | NA                          | Niblick Trust         | Simply Energy         | OTG - Otago/Southland     | SI - South Island | 1284097 | 4885035 |\n",
       "| 100 | HKK0661 | Kaniere Forks          | Kaniere River               | Trustpower            | Trustpower            | WEC - West Coast          | SI - South Island | 1434864 | 5267776 |\n",
       "| 104 | HKK0661 | McKays Creek           | Kaniere River               | Trustpower            | Trustpower            | WEC - West Coast          | SI - South Island | 1434864 | 5267776 |\n",
       "| 108 | HKK0661 | Fox                    | NA                          | Trustpower            | Trustpower            | WEC - West Coast          | SI - South Island | 1434864 | 5267776 |\n",
       "| 112 | HKK0661 | Wahapo (Okarito Forks) | NA                          | Trustpower            | Trustpower            | WEC - West Coast          | SI - South Island | 1434864 | 5267776 |\n",
       "| 116 | HWB0331 | Deep Stream            | NA                          | Trustpower            | Trustpower            | OTG - Otago/Southland     | SI - South Island | 1404021 | 4918942 |\n",
       "| 137 | KUM0661 | Dillmans               | Dillmans Hydro Power Scheme | Trustpower            | Trustpower            | WEC - West Coast          | SI - South Island | 1452052 | 5278084 |\n",
       "| 139 | KUM0661 | Kumara                 | Dillmans Hydro Power Scheme | Trustpower            | Trustpower            | WEC - West Coast          | SI - South Island | 1452052 | 5278084 |\n",
       "| 141 | MAN2201 | Manapouri              | NA                          | Meridian Energy       | Meridian Energy       | OTG - Otago/Southland     | SI - South Island | 1153139 | 4943246 |\n",
       "| 143 | MOT0111 | Brooklyn Power Station | NA                          | Lloyd Wensley         | Lloyd Wensley         | NEL - Nelson/Marlbourough | SI - South Island | 1598341 | 5445956 |\n",
       "| 145 | MPI0661 | Onekaka                | NA                          | Onekaka Energy        | Onekaka Energy        | NEL - Nelson/Marlbourough | SI - South Island | 1586766 | 5476730 |\n",
       "| 147 | MPI0661 | Pupu Hydro             | NA                          | Pupu Hydro Society    | Contact Energy        | NEL - Nelson/Marlbourough | SI - South Island | 1586766 | 5476730 |\n",
       "| 149 | NMA0331 | Monowai                | NA                          | Pioneer Generation    | Trustpower            | OTG - Otago/Southland     | SI - South Island | 1242674 | 4861597 |\n",
       "| 151 | NSY0331 | Paerau                 | Paerau Gorge Power Scheme   | Trustpower            | Trustpower            | OTG - Otago/Southland     | SI - South Island | 1371044 | 5009246 |\n",
       "| 153 | NSY0331 | Falls Dam              | NA                          | Pioneer Generation    | Trustpower            | OTG - Otago/Southland     | SI - South Island | 1371044 | 5009246 |\n",
       "| 155 | OHA2201 | Ohau A                 | Waitaki Hydro Scheme        | Meridian Energy       | Meridian Energy       | SCN - South Canterbury    | SI - South Island | 1362893 | 5094306 |\n",
       "| 157 | OHB2201 | Ohau B                 | Waitaki Hydro Scheme        | Meridian Energy       | Meridian Energy       | SCN - South Canterbury    | SI - South Island | 1369523 | 5090583 |\n",
       "| 159 | OHC2201 | Ohau C                 | Waitaki Hydro Scheme        | Meridian Energy       | Meridian Energy       | SCN - South Canterbury    | SI - South Island | 1375191 | 5086131 |\n",
       "| 161 | ORO1101 | Rochfort               | NA                          | Kawatiri Energy       | Kawatiri Energy       | WEC - West Coast          | SI - South Island | 1484432 | 5374879 |\n",
       "| 189 | ROX1101 | Roxburgh               | Clutha Hydro Scheme         | Contact Energy        | Contact Energy        | OTG - Otago/Southland     | SI - South Island | 1312313 | 4957441 |\n",
       "| 191 | TKA0111 | Tekapo A               | Waitaki Hydro Scheme        | Genesis Energy        | Genesis Energy        | SCN - South Canterbury    | SI - South Island | 1396466 | 5123456 |\n",
       "| 194 | TKB2201 | Tekapo B               | Waitaki Hydro Scheme        | Genesis Energy        | Genesis Energy        | SCN - South Canterbury    | SI - South Island | 1376920 | 5110450 |\n",
       "| 197 | WTK0111 | Waitaki                | Waitaki Hydro Scheme        | Meridian Energy       | Meridian Energy       | OTG - Otago/Southland     | SI - South Island | 1396274 | 5048061 |\n",
       "\n"
      ],
      "text/plain": [
       "    Node_Name Station_Name           GroupName                  \n",
       "1   ABY0111   Opuha                  NA                         \n",
       "4   ARA2201   Amethyst               NA                         \n",
       "6   ARG1101   Argyle                 Branch Hydro Scheme        \n",
       "9   ARG1101   Wairau                 Branch Hydro Scheme        \n",
       "12  ASB0331   Montalto               Rangitata Diversion Race   \n",
       "14  ASB0661   Highbank               Rangitata Diversion Race   \n",
       "32  ASB0661   Cleardale              NA                         \n",
       "50  AVI2201   Aviemore               Waitaki Hydro Scheme       \n",
       "52  BEN2202   Benmore                Waitaki Hydro Scheme       \n",
       "53  BLN0331   Waihopai               NA                         \n",
       "55  BWK1101   Waipori                NA                         \n",
       "58  CML0331   Roaring Meg            NA                         \n",
       "60  COB0661   Cobb                   NA                         \n",
       "62  COL0661   Coleridge              NA                         \n",
       "65  CYD0331   Horseshoe Bend         Teviot Hydro Scheme        \n",
       "69  CYD0331   Teviot                 Teviot Hydro Scheme        \n",
       "73  CYD0331   Fraser                 NA                         \n",
       "77  CYD0331   Kowhai                 Teviot Hydro Scheme        \n",
       "81  CYD0331   Talla Burn             NA                         \n",
       "85  CYD2201   Clyde                  Clutha Hydro Scheme        \n",
       "87  DOB0331   Arnold                 NA                         \n",
       "89  DOB0331   Ngahere                NA                         \n",
       "91  FKN0331   Oxburn/Glenorchy       NA                         \n",
       "94  FKN0331   Wye Creek              NA                         \n",
       "97  GOR0331   Mataura                NA                         \n",
       "100 HKK0661   Kaniere Forks          Kaniere River              \n",
       "104 HKK0661   McKays Creek           Kaniere River              \n",
       "108 HKK0661   Fox                    NA                         \n",
       "112 HKK0661   Wahapo (Okarito Forks) NA                         \n",
       "116 HWB0331   Deep Stream            NA                         \n",
       "137 KUM0661   Dillmans               Dillmans Hydro Power Scheme\n",
       "139 KUM0661   Kumara                 Dillmans Hydro Power Scheme\n",
       "141 MAN2201   Manapouri              NA                         \n",
       "143 MOT0111   Brooklyn Power Station NA                         \n",
       "145 MPI0661   Onekaka                NA                         \n",
       "147 MPI0661   Pupu Hydro             NA                         \n",
       "149 NMA0331   Monowai                NA                         \n",
       "151 NSY0331   Paerau                 Paerau Gorge Power Scheme  \n",
       "153 NSY0331   Falls Dam              NA                         \n",
       "155 OHA2201   Ohau A                 Waitaki Hydro Scheme       \n",
       "157 OHB2201   Ohau B                 Waitaki Hydro Scheme       \n",
       "159 OHC2201   Ohau C                 Waitaki Hydro Scheme       \n",
       "161 ORO1101   Rochfort               NA                         \n",
       "189 ROX1101   Roxburgh               Clutha Hydro Scheme        \n",
       "191 TKA0111   Tekapo A               Waitaki Hydro Scheme       \n",
       "194 TKB2201   Tekapo B               Waitaki Hydro Scheme       \n",
       "197 WTK0111   Waitaki                Waitaki Hydro Scheme       \n",
       "    Owner_Name            Operators_Name        Region_Name              \n",
       "1   Alpine Energy         Contact Energy        SCN - South Canterbury   \n",
       "4   Westpower             Westpower             WEC - West Coast         \n",
       "6   Trustpower            Trustpower            NEL - Nelson/Marlbourough\n",
       "9   Trustpower            Trustpower            NEL - Nelson/Marlbourough\n",
       "12  Trustpower            Trustpower            CAN - Canterbury         \n",
       "14  Trustpower            Trustpower            CAN - Canterbury         \n",
       "32  MainPower             MainPower             CAN - Canterbury         \n",
       "50  Meridian Energy       Meridian Energy       SCN - South Canterbury   \n",
       "52  Meridian Energy       Meridian Energy       SCN - South Canterbury   \n",
       "53  Trustpower            Trustpower            NEL - Nelson/Marlbourough\n",
       "55  Trustpower            Trustpower            OTG - Otago/Southland    \n",
       "58  Pioneer Generation    Trustpower            OTG - Otago/Southland    \n",
       "60  Trustpower            Trustpower            NEL - Nelson/Marlbourough\n",
       "62  Trustpower            Trustpower            CAN - Canterbury         \n",
       "65  Pioneer Generation    Trustpower            OTG - Otago/Southland    \n",
       "69  Pioneer Generation    Trustpower            OTG - Otago/Southland    \n",
       "73  Pioneer Generation    Trustpower            OTG - Otago/Southland    \n",
       "77  Pioneer Generation    Pioneer Generation    OTG - Otago/Southland    \n",
       "81  Talla Burn Generation Talla Burn Generation OTG - Otago/Southland    \n",
       "85  Contact Energy        Contact Energy        OTG - Otago/Southland    \n",
       "87  Trustpower            Trustpower            WEC - West Coast         \n",
       "89  Birchfield Minerals   Mighty River Power    WEC - West Coast         \n",
       "91  Pioneer Generation    Pioneer Generation    OTG - Otago/Southland    \n",
       "94  Pioneer Generation    Trustpower            OTG - Otago/Southland    \n",
       "97  Niblick Trust         Simply Energy         OTG - Otago/Southland    \n",
       "100 Trustpower            Trustpower            WEC - West Coast         \n",
       "104 Trustpower            Trustpower            WEC - West Coast         \n",
       "108 Trustpower            Trustpower            WEC - West Coast         \n",
       "112 Trustpower            Trustpower            WEC - West Coast         \n",
       "116 Trustpower            Trustpower            OTG - Otago/Southland    \n",
       "137 Trustpower            Trustpower            WEC - West Coast         \n",
       "139 Trustpower            Trustpower            WEC - West Coast         \n",
       "141 Meridian Energy       Meridian Energy       OTG - Otago/Southland    \n",
       "143 Lloyd Wensley         Lloyd Wensley         NEL - Nelson/Marlbourough\n",
       "145 Onekaka Energy        Onekaka Energy        NEL - Nelson/Marlbourough\n",
       "147 Pupu Hydro Society    Contact Energy        NEL - Nelson/Marlbourough\n",
       "149 Pioneer Generation    Trustpower            OTG - Otago/Southland    \n",
       "151 Trustpower            Trustpower            OTG - Otago/Southland    \n",
       "153 Pioneer Generation    Trustpower            OTG - Otago/Southland    \n",
       "155 Meridian Energy       Meridian Energy       SCN - South Canterbury   \n",
       "157 Meridian Energy       Meridian Energy       SCN - South Canterbury   \n",
       "159 Meridian Energy       Meridian Energy       SCN - South Canterbury   \n",
       "161 Kawatiri Energy       Kawatiri Energy       WEC - West Coast         \n",
       "189 Contact Energy        Contact Energy        OTG - Otago/Southland    \n",
       "191 Genesis Energy        Genesis Energy        SCN - South Canterbury   \n",
       "194 Genesis Energy        Genesis Energy        SCN - South Canterbury   \n",
       "197 Meridian Energy       Meridian Energy       OTG - Otago/Southland    \n",
       "    Island_Name       NZTM.easting NZTM.northing\n",
       "1   SI - South Island 1424397      5097843      \n",
       "4   SI - South Island 1873657      5721161      \n",
       "6   SI - South Island 1616837      5386748      \n",
       "9   SI - South Island 1616837      5386748      \n",
       "12  SI - South Island 1503871      5133909      \n",
       "14  SI - South Island 1503871      5133909      \n",
       "32  SI - South Island 1503871      5133909      \n",
       "50  SI - South Island 1390245      5051586      \n",
       "52  SI - South Island 1377232      5061385      \n",
       "53  SI - South Island 1677835      5405479      \n",
       "55  SI - South Island 1375380      4908481      \n",
       "58  SI - South Island 1300103      5003434      \n",
       "60  SI - South Island 1577544      5451620      \n",
       "62  SI - South Island 1480646      5197734      \n",
       "65  SI - South Island 1309791      4990371      \n",
       "69  SI - South Island 1309791      4990371      \n",
       "73  SI - South Island 1309791      4990371      \n",
       "77  SI - South Island 1309791      4990371      \n",
       "81  SI - South Island 1309791      4990371      \n",
       "85  SI - South Island 1309791      4990371      \n",
       "87  SI - South Island 1460288      5298504      \n",
       "89  SI - South Island 1460288      5298504      \n",
       "91  SI - South Island 1264313      5007062      \n",
       "94  SI - South Island 1264313      5007062      \n",
       "97  SI - South Island 1284097      4885035      \n",
       "100 SI - South Island 1434864      5267776      \n",
       "104 SI - South Island 1434864      5267776      \n",
       "108 SI - South Island 1434864      5267776      \n",
       "112 SI - South Island 1434864      5267776      \n",
       "116 SI - South Island 1404021      4918942      \n",
       "137 SI - South Island 1452052      5278084      \n",
       "139 SI - South Island 1452052      5278084      \n",
       "141 SI - South Island 1153139      4943246      \n",
       "143 SI - South Island 1598341      5445956      \n",
       "145 SI - South Island 1586766      5476730      \n",
       "147 SI - South Island 1586766      5476730      \n",
       "149 SI - South Island 1242674      4861597      \n",
       "151 SI - South Island 1371044      5009246      \n",
       "153 SI - South Island 1371044      5009246      \n",
       "155 SI - South Island 1362893      5094306      \n",
       "157 SI - South Island 1369523      5090583      \n",
       "159 SI - South Island 1375191      5086131      \n",
       "161 SI - South Island 1484432      5374879      \n",
       "189 SI - South Island 1312313      4957441      \n",
       "191 SI - South Island 1396466      5123456      \n",
       "194 SI - South Island 1376920      5110450      \n",
       "197 SI - South Island 1396274      5048061      "
      ]
     },
     "metadata": {},
     "output_type": "display_data"
    }
   ],
   "source": [
    "gen_fleet "
   ]
  },
  {
   "cell_type": "code",
   "execution_count": 1,
   "id": "8f66cb01",
   "metadata": {},
   "outputs": [
    {
     "ename": "ERROR",
     "evalue": "Error in eval(expr, envir, enclos): object 'gen_fleet' not found\n",
     "output_type": "error",
     "traceback": [
      "Error in eval(expr, envir, enclos): object 'gen_fleet' not found\nTraceback:\n"
     ]
    }
   ],
   "source": []
  },
  {
   "cell_type": "code",
   "execution_count": null,
   "id": "eba75fca",
   "metadata": {},
   "outputs": [],
   "source": []
  }
 ],
 "metadata": {
  "kernelspec": {
   "display_name": "R",
   "language": "R",
   "name": "ir"
  },
  "language_info": {
   "codemirror_mode": "r",
   "file_extension": ".r",
   "mimetype": "text/x-r-source",
   "name": "R",
   "pygments_lexer": "r",
   "version": "4.1.1"
  }
 },
 "nbformat": 4,
 "nbformat_minor": 5
}
