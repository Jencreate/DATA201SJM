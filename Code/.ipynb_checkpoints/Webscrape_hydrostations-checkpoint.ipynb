{
 "cells": [
  {
   "cell_type": "code",
   "execution_count": 1,
   "id": "dc77fa40",
   "metadata": {},
   "outputs": [
    {
     "name": "stderr",
     "output_type": "stream",
     "text": [
      "── \u001b[1mAttaching packages\u001b[22m ───────────────────────────────────────────────────────────────────────────────────────────────────────────────────────────────── tidyverse 1.3.1 ──\n",
      "\n",
      "\u001b[32m✔\u001b[39m \u001b[34mggplot2\u001b[39m 3.3.5     \u001b[32m✔\u001b[39m \u001b[34mpurrr  \u001b[39m 0.3.4\n",
      "\u001b[32m✔\u001b[39m \u001b[34mtibble \u001b[39m 3.1.4     \u001b[32m✔\u001b[39m \u001b[34mdplyr  \u001b[39m 1.0.7\n",
      "\u001b[32m✔\u001b[39m \u001b[34mtidyr  \u001b[39m 1.1.3     \u001b[32m✔\u001b[39m \u001b[34mstringr\u001b[39m 1.4.0\n",
      "\u001b[32m✔\u001b[39m \u001b[34mreadr  \u001b[39m 2.0.1     \u001b[32m✔\u001b[39m \u001b[34mforcats\u001b[39m 0.5.1\n",
      "\n",
      "── \u001b[1mConflicts\u001b[22m ──────────────────────────────────────────────────────────────────────────────────────────────────────────────────────────────────── tidyverse_conflicts() ──\n",
      "\u001b[31m✖\u001b[39m \u001b[34mdplyr\u001b[39m::\u001b[32mfilter()\u001b[39m masks \u001b[34mstats\u001b[39m::filter()\n",
      "\u001b[31m✖\u001b[39m \u001b[34mdplyr\u001b[39m::\u001b[32mlag()\u001b[39m    masks \u001b[34mstats\u001b[39m::lag()\n",
      "\n",
      "\n",
      "Attaching package: ‘magrittr’\n",
      "\n",
      "\n",
      "The following object is masked from ‘package:purrr’:\n",
      "\n",
      "    set_names\n",
      "\n",
      "\n",
      "The following object is masked from ‘package:tidyr’:\n",
      "\n",
      "    extract\n",
      "\n",
      "\n",
      "\n",
      "Attaching package: ‘rvest’\n",
      "\n",
      "\n",
      "The following object is masked from ‘package:readr’:\n",
      "\n",
      "    guess_encoding\n",
      "\n",
      "\n"
     ]
    }
   ],
   "source": [
    "library(tidyverse)\n",
    "library(magrittr)\n",
    "library(xml2)\n",
    "library(rvest)\n",
    "library(httr)\n",
    "#install.packages(\"readxl\")\n",
    "library(readxl)"
   ]
  },
  {
   "cell_type": "markdown",
   "id": "91d9ddf0",
   "metadata": {},
   "source": [
    "## Information variables"
   ]
  },
  {
   "cell_type": "code",
   "execution_count": 2,
   "id": "634da97f",
   "metadata": {},
   "outputs": [],
   "source": [
    "# Main site address\n",
    "main_url <- \"https://www.emi.ea.govt.nz\"\n",
    "# Sub address for electricity generation information\n",
    "power_url <- \"/Wholesale/Datasets/Generation/Generation_MD\"\n",
    "# Sub address for hydrostations fleet\n",
    "stations_url <- \"/Wholesale/Datasets/Generation/Generation_fleet/Existing\""
   ]
  },
  {
   "cell_type": "markdown",
   "id": "36d15a47",
   "metadata": {},
   "source": [
    "## Retrieve generation output data"
   ]
  },
  {
   "cell_type": "code",
   "execution_count": 15,
   "id": "fb3037a2",
   "metadata": {},
   "outputs": [
    {
     "ename": "ERROR",
     "evalue": "Error in match.fun(FUN): object 'fread' not found\n",
     "output_type": "error",
     "traceback": [
      "Error in match.fun(FUN): object 'fread' not found\nTraceback:\n",
      "1. lapply(paste(main_url, selected_links, sep = \"\"), fread)",
      "2. match.fun(FUN)"
     ]
    }
   ],
   "source": [
    "# Acquire html code from sub address\n",
    "source <- paste(main_url, power_url, sep=\"\") %>% read_html()\n",
    "# Identify all links in the given html class\n",
    "all_links <- source %>% html_nodes(\".table\") %>% html_elements(\"a\") %>% html_attr(\"href\")\n",
    "# Identify appropriate urls within links and remove duplicates\n",
    "filtered_links <- all_links[startsWith(all_links, power_url) & !duplicated(all_links)]\n",
    "# Extract date information from filtered links\n",
    "start_pos <- nchar(power_url) + 1\n",
    "dates <- substring(filtered_links , start_pos, start_pos + 3) \n",
    "# Select links containing csv data\n",
    "selected_links <- filtered_links[substring(dates, 1, 4) == \"2020\"]\n",
    "# Extract csv data into dataframes\n",
    "generation_md <- lapply(paste(main_url, selected_links, sep=\"\"), fread)"
   ]
  },
  {
   "cell_type": "markdown",
   "id": "1678a8fd",
   "metadata": {},
   "source": [
    "## Retrieve hydrostations fleet information"
   ]
  },
  {
   "cell_type": "code",
   "execution_count": 14,
   "id": "352a4803",
   "metadata": {},
   "outputs": [
    {
     "data": {
      "text/plain": [
       "Response [https://emidatasets.blob.core.windows.net/publicdata/Datasets/Wholesale/Generation/Generation_fleet/Existing/20151030_Existing_generating_plant.xls]\n",
       "  Date: 2021-10-08 00:50\n",
       "  Status: 200\n",
       "  Content-Type: application/vnd.ms-excel\n",
       "  Size: 202 kB\n",
       "<ON DISK>  /tmp/RtmptwrsYs/file5381376a6e9a0.xlsNULL"
      ]
     },
     "metadata": {},
     "output_type": "display_data"
    }
   ],
   "source": [
    "# Acquire html code from sub address\n",
    "source <- paste(main_url, stations_url, sep=\"\") %>% read_html()\n",
    "# Identify all links in the given html class\n",
    "all_links <- source %>% html_nodes(\".xls\") %>% html_elements(\"a\") %>% html_attr(\"href\")\n",
    "# Identify appropriate urls within links and remove duplicates\n",
    "filtered_links <- all_links[startsWith(all_links, stations_url) & !duplicated(all_links)]\n",
    "# Save spreadsheet into a temporary file and the data into a tibble\n",
    "url <- paste(main_url,filtered_links,sep=\"\")\n",
    "GET(url, write_disk(spreadsheet <- tempfile(fileext = \".xls\")))\n",
    "generation_fleet <- read_excel(spreadsheet, sheet = \"Generating Stations\")"
   ]
  },
  {
   "cell_type": "code",
   "execution_count": 8,
   "id": "7f79e8c3",
   "metadata": {},
   "outputs": [
    {
     "name": "stderr",
     "output_type": "stream",
     "text": [
      "Warning message in seq_len(head.end.idx):\n",
      "“first element used of 'length.out' argument”\n",
      "ERROR while rich displaying an object: Error in seq_len(head.end.idx): argument must be coercible to non-negative integer\n",
      "\n",
      "Traceback:\n",
      "1. FUN(X[[i]], ...)\n",
      "2. tryCatch(withCallingHandlers({\n",
      " .     if (!mime %in% names(repr::mime2repr)) \n",
      " .         stop(\"No repr_* for mimetype \", mime, \" in repr::mime2repr\")\n",
      " .     rpr <- repr::mime2repr[[mime]](obj)\n",
      " .     if (is.null(rpr)) \n",
      " .         return(NULL)\n",
      " .     prepare_content(is.raw(rpr), rpr)\n",
      " . }, error = error_handler), error = outer_handler)\n",
      "3. tryCatchList(expr, classes, parentenv, handlers)\n",
      "4. tryCatchOne(expr, names, parentenv, handlers[[1L]])\n",
      "5. doTryCatch(return(expr), name, parentenv, handler)\n",
      "6. withCallingHandlers({\n",
      " .     if (!mime %in% names(repr::mime2repr)) \n",
      " .         stop(\"No repr_* for mimetype \", mime, \" in repr::mime2repr\")\n",
      " .     rpr <- repr::mime2repr[[mime]](obj)\n",
      " .     if (is.null(rpr)) \n",
      " .         return(NULL)\n",
      " .     prepare_content(is.raw(rpr), rpr)\n",
      " . }, error = error_handler)\n",
      "7. repr::mime2repr[[mime]](obj)\n",
      "8. repr_html.help_files_with_topic(obj)\n",
      "9. repr_help_files_with_topic_generic(obj, Rd2HTML)\n"
     ]
    }
   ],
   "source": [
    "?tempfile"
   ]
  },
  {
   "cell_type": "code",
   "execution_count": null,
   "id": "12d14781",
   "metadata": {},
   "outputs": [],
   "source": []
  }
 ],
 "metadata": {
  "kernelspec": {
   "display_name": "R",
   "language": "R",
   "name": "ir"
  },
  "language_info": {
   "codemirror_mode": "r",
   "file_extension": ".r",
   "mimetype": "text/x-r-source",
   "name": "R",
   "pygments_lexer": "r",
   "version": "4.1.1"
  }
 },
 "nbformat": 4,
 "nbformat_minor": 5
}
