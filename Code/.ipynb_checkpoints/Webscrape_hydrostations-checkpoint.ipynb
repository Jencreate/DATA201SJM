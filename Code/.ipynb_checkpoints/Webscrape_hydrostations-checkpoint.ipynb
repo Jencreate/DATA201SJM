{
 "cells": [
  {
   "cell_type": "code",
   "execution_count": 1,
   "id": "dc77fa40",
   "metadata": {},
   "outputs": [
    {
     "name": "stderr",
     "output_type": "stream",
     "text": [
      "── \u001b[1mAttaching packages\u001b[22m ───────────────────────────────────────────────────────────────────────────────────────────────────────────────────────────────── tidyverse 1.3.1 ──\n",
      "\n",
      "\u001b[32m✔\u001b[39m \u001b[34mggplot2\u001b[39m 3.3.5     \u001b[32m✔\u001b[39m \u001b[34mpurrr  \u001b[39m 0.3.4\n",
      "\u001b[32m✔\u001b[39m \u001b[34mtibble \u001b[39m 3.1.4     \u001b[32m✔\u001b[39m \u001b[34mdplyr  \u001b[39m 1.0.7\n",
      "\u001b[32m✔\u001b[39m \u001b[34mtidyr  \u001b[39m 1.1.3     \u001b[32m✔\u001b[39m \u001b[34mstringr\u001b[39m 1.4.0\n",
      "\u001b[32m✔\u001b[39m \u001b[34mreadr  \u001b[39m 2.0.1     \u001b[32m✔\u001b[39m \u001b[34mforcats\u001b[39m 0.5.1\n",
      "\n",
      "── \u001b[1mConflicts\u001b[22m ──────────────────────────────────────────────────────────────────────────────────────────────────────────────────────────────────── tidyverse_conflicts() ──\n",
      "\u001b[31m✖\u001b[39m \u001b[34mdplyr\u001b[39m::\u001b[32mfilter()\u001b[39m masks \u001b[34mstats\u001b[39m::filter()\n",
      "\u001b[31m✖\u001b[39m \u001b[34mdplyr\u001b[39m::\u001b[32mlag()\u001b[39m    masks \u001b[34mstats\u001b[39m::lag()\n",
      "\n",
      "\n",
      "Attaching package: ‘rvest’\n",
      "\n",
      "\n",
      "The following object is masked from ‘package:readr’:\n",
      "\n",
      "    guess_encoding\n",
      "\n",
      "\n",
      "\n",
      "Attaching package: ‘data.table’\n",
      "\n",
      "\n",
      "The following objects are masked from ‘package:dplyr’:\n",
      "\n",
      "    between, first, last\n",
      "\n",
      "\n",
      "The following object is masked from ‘package:purrr’:\n",
      "\n",
      "    transpose\n",
      "\n",
      "\n"
     ]
    }
   ],
   "source": [
    "library(tidyverse)\n",
    "library(xml2)\n",
    "library(rvest)\n",
    "library(httr)\n",
    "#install.packages(\"readxl\")\n",
    "library(readxl)\n",
    "library(data.table)"
   ]
  },
  {
   "cell_type": "markdown",
   "id": "91d9ddf0",
   "metadata": {},
   "source": [
    "## Information variables"
   ]
  },
  {
   "cell_type": "code",
   "execution_count": 2,
   "id": "634da97f",
   "metadata": {},
   "outputs": [],
   "source": [
    "# Main site address\n",
    "main_url <- \"https://www.emi.ea.govt.nz\"\n",
    "# Sub address for electricity generation information\n",
    "power_url <- \"/Wholesale/Datasets/Generation/Generation_MD\"\n",
    "# Sub address for hydrostations fleet\n",
    "stations_url <- \"/Wholesale/Datasets/Generation/Generation_fleet/Existing\"\n",
    "# Sub address for network supply points\n",
    "points_url <- \"/Wholesale/Reports/R_NSPL_DR?_si=v|3\""
   ]
  },
  {
   "cell_type": "markdown",
   "id": "36d15a47",
   "metadata": {},
   "source": [
    "## Retrieve generation output data"
   ]
  },
  {
   "cell_type": "code",
   "execution_count": 3,
   "id": "fb3037a2",
   "metadata": {},
   "outputs": [
    {
     "data": {
      "text/html": [
       "<style>\n",
       ".list-inline {list-style: none; margin:0; padding: 0}\n",
       ".list-inline>li {display: inline-block}\n",
       ".list-inline>li:not(:last-child)::after {content: \"\\00b7\"; padding: 0 .5ex}\n",
       "</style>\n",
       "<ol class=list-inline><li>'/Wholesale/Datasets/Generation/Generation_MD/202012_Generation_MD.csv'</li><li>'/Wholesale/Datasets/Generation/Generation_MD/202011_Generation_MD.csv'</li><li>'/Wholesale/Datasets/Generation/Generation_MD/202010_Generation_MD.csv'</li><li>'/Wholesale/Datasets/Generation/Generation_MD/202009_Generation_MD.csv'</li><li>'/Wholesale/Datasets/Generation/Generation_MD/202008_Generation_MD.csv'</li><li>'/Wholesale/Datasets/Generation/Generation_MD/202007_Generation_MD.csv'</li><li>'/Wholesale/Datasets/Generation/Generation_MD/202006_Generation_MD.csv'</li><li>'/Wholesale/Datasets/Generation/Generation_MD/202005_Generation_MD.csv'</li><li>'/Wholesale/Datasets/Generation/Generation_MD/202004_Generation_MD.csv'</li><li>'/Wholesale/Datasets/Generation/Generation_MD/202003_Generation_MD.csv'</li><li>'/Wholesale/Datasets/Generation/Generation_MD/202002_Generation_MD.csv'</li><li>'/Wholesale/Datasets/Generation/Generation_MD/202001_Generation_MD.csv'</li></ol>\n"
      ],
      "text/latex": [
       "\\begin{enumerate*}\n",
       "\\item '/Wholesale/Datasets/Generation/Generation\\_MD/202012\\_Generation\\_MD.csv'\n",
       "\\item '/Wholesale/Datasets/Generation/Generation\\_MD/202011\\_Generation\\_MD.csv'\n",
       "\\item '/Wholesale/Datasets/Generation/Generation\\_MD/202010\\_Generation\\_MD.csv'\n",
       "\\item '/Wholesale/Datasets/Generation/Generation\\_MD/202009\\_Generation\\_MD.csv'\n",
       "\\item '/Wholesale/Datasets/Generation/Generation\\_MD/202008\\_Generation\\_MD.csv'\n",
       "\\item '/Wholesale/Datasets/Generation/Generation\\_MD/202007\\_Generation\\_MD.csv'\n",
       "\\item '/Wholesale/Datasets/Generation/Generation\\_MD/202006\\_Generation\\_MD.csv'\n",
       "\\item '/Wholesale/Datasets/Generation/Generation\\_MD/202005\\_Generation\\_MD.csv'\n",
       "\\item '/Wholesale/Datasets/Generation/Generation\\_MD/202004\\_Generation\\_MD.csv'\n",
       "\\item '/Wholesale/Datasets/Generation/Generation\\_MD/202003\\_Generation\\_MD.csv'\n",
       "\\item '/Wholesale/Datasets/Generation/Generation\\_MD/202002\\_Generation\\_MD.csv'\n",
       "\\item '/Wholesale/Datasets/Generation/Generation\\_MD/202001\\_Generation\\_MD.csv'\n",
       "\\end{enumerate*}\n"
      ],
      "text/markdown": [
       "1. '/Wholesale/Datasets/Generation/Generation_MD/202012_Generation_MD.csv'\n",
       "2. '/Wholesale/Datasets/Generation/Generation_MD/202011_Generation_MD.csv'\n",
       "3. '/Wholesale/Datasets/Generation/Generation_MD/202010_Generation_MD.csv'\n",
       "4. '/Wholesale/Datasets/Generation/Generation_MD/202009_Generation_MD.csv'\n",
       "5. '/Wholesale/Datasets/Generation/Generation_MD/202008_Generation_MD.csv'\n",
       "6. '/Wholesale/Datasets/Generation/Generation_MD/202007_Generation_MD.csv'\n",
       "7. '/Wholesale/Datasets/Generation/Generation_MD/202006_Generation_MD.csv'\n",
       "8. '/Wholesale/Datasets/Generation/Generation_MD/202005_Generation_MD.csv'\n",
       "9. '/Wholesale/Datasets/Generation/Generation_MD/202004_Generation_MD.csv'\n",
       "10. '/Wholesale/Datasets/Generation/Generation_MD/202003_Generation_MD.csv'\n",
       "11. '/Wholesale/Datasets/Generation/Generation_MD/202002_Generation_MD.csv'\n",
       "12. '/Wholesale/Datasets/Generation/Generation_MD/202001_Generation_MD.csv'\n",
       "\n",
       "\n"
      ],
      "text/plain": [
       " [1] \"/Wholesale/Datasets/Generation/Generation_MD/202012_Generation_MD.csv\"\n",
       " [2] \"/Wholesale/Datasets/Generation/Generation_MD/202011_Generation_MD.csv\"\n",
       " [3] \"/Wholesale/Datasets/Generation/Generation_MD/202010_Generation_MD.csv\"\n",
       " [4] \"/Wholesale/Datasets/Generation/Generation_MD/202009_Generation_MD.csv\"\n",
       " [5] \"/Wholesale/Datasets/Generation/Generation_MD/202008_Generation_MD.csv\"\n",
       " [6] \"/Wholesale/Datasets/Generation/Generation_MD/202007_Generation_MD.csv\"\n",
       " [7] \"/Wholesale/Datasets/Generation/Generation_MD/202006_Generation_MD.csv\"\n",
       " [8] \"/Wholesale/Datasets/Generation/Generation_MD/202005_Generation_MD.csv\"\n",
       " [9] \"/Wholesale/Datasets/Generation/Generation_MD/202004_Generation_MD.csv\"\n",
       "[10] \"/Wholesale/Datasets/Generation/Generation_MD/202003_Generation_MD.csv\"\n",
       "[11] \"/Wholesale/Datasets/Generation/Generation_MD/202002_Generation_MD.csv\"\n",
       "[12] \"/Wholesale/Datasets/Generation/Generation_MD/202001_Generation_MD.csv\""
      ]
     },
     "metadata": {},
     "output_type": "display_data"
    },
    {
     "data": {
      "text/html": [
       "<style>\n",
       ".list-inline {list-style: none; margin:0; padding: 0}\n",
       ".list-inline>li {display: inline-block}\n",
       ".list-inline>li:not(:last-child)::after {content: \"\\00b7\"; padding: 0 .5ex}\n",
       "</style>\n",
       "<ol class=list-inline><li>'https://www.emi.ea.govt.nz/Wholesale/Datasets/Generation/Generation_MD/202012_Generation_MD.csv'</li><li>'https://www.emi.ea.govt.nz/Wholesale/Datasets/Generation/Generation_MD/202011_Generation_MD.csv'</li><li>'https://www.emi.ea.govt.nz/Wholesale/Datasets/Generation/Generation_MD/202010_Generation_MD.csv'</li><li>'https://www.emi.ea.govt.nz/Wholesale/Datasets/Generation/Generation_MD/202009_Generation_MD.csv'</li><li>'https://www.emi.ea.govt.nz/Wholesale/Datasets/Generation/Generation_MD/202008_Generation_MD.csv'</li><li>'https://www.emi.ea.govt.nz/Wholesale/Datasets/Generation/Generation_MD/202007_Generation_MD.csv'</li><li>'https://www.emi.ea.govt.nz/Wholesale/Datasets/Generation/Generation_MD/202006_Generation_MD.csv'</li><li>'https://www.emi.ea.govt.nz/Wholesale/Datasets/Generation/Generation_MD/202005_Generation_MD.csv'</li><li>'https://www.emi.ea.govt.nz/Wholesale/Datasets/Generation/Generation_MD/202004_Generation_MD.csv'</li><li>'https://www.emi.ea.govt.nz/Wholesale/Datasets/Generation/Generation_MD/202003_Generation_MD.csv'</li><li>'https://www.emi.ea.govt.nz/Wholesale/Datasets/Generation/Generation_MD/202002_Generation_MD.csv'</li><li>'https://www.emi.ea.govt.nz/Wholesale/Datasets/Generation/Generation_MD/202001_Generation_MD.csv'</li></ol>\n"
      ],
      "text/latex": [
       "\\begin{enumerate*}\n",
       "\\item 'https://www.emi.ea.govt.nz/Wholesale/Datasets/Generation/Generation\\_MD/202012\\_Generation\\_MD.csv'\n",
       "\\item 'https://www.emi.ea.govt.nz/Wholesale/Datasets/Generation/Generation\\_MD/202011\\_Generation\\_MD.csv'\n",
       "\\item 'https://www.emi.ea.govt.nz/Wholesale/Datasets/Generation/Generation\\_MD/202010\\_Generation\\_MD.csv'\n",
       "\\item 'https://www.emi.ea.govt.nz/Wholesale/Datasets/Generation/Generation\\_MD/202009\\_Generation\\_MD.csv'\n",
       "\\item 'https://www.emi.ea.govt.nz/Wholesale/Datasets/Generation/Generation\\_MD/202008\\_Generation\\_MD.csv'\n",
       "\\item 'https://www.emi.ea.govt.nz/Wholesale/Datasets/Generation/Generation\\_MD/202007\\_Generation\\_MD.csv'\n",
       "\\item 'https://www.emi.ea.govt.nz/Wholesale/Datasets/Generation/Generation\\_MD/202006\\_Generation\\_MD.csv'\n",
       "\\item 'https://www.emi.ea.govt.nz/Wholesale/Datasets/Generation/Generation\\_MD/202005\\_Generation\\_MD.csv'\n",
       "\\item 'https://www.emi.ea.govt.nz/Wholesale/Datasets/Generation/Generation\\_MD/202004\\_Generation\\_MD.csv'\n",
       "\\item 'https://www.emi.ea.govt.nz/Wholesale/Datasets/Generation/Generation\\_MD/202003\\_Generation\\_MD.csv'\n",
       "\\item 'https://www.emi.ea.govt.nz/Wholesale/Datasets/Generation/Generation\\_MD/202002\\_Generation\\_MD.csv'\n",
       "\\item 'https://www.emi.ea.govt.nz/Wholesale/Datasets/Generation/Generation\\_MD/202001\\_Generation\\_MD.csv'\n",
       "\\end{enumerate*}\n"
      ],
      "text/markdown": [
       "1. 'https://www.emi.ea.govt.nz/Wholesale/Datasets/Generation/Generation_MD/202012_Generation_MD.csv'\n",
       "2. 'https://www.emi.ea.govt.nz/Wholesale/Datasets/Generation/Generation_MD/202011_Generation_MD.csv'\n",
       "3. 'https://www.emi.ea.govt.nz/Wholesale/Datasets/Generation/Generation_MD/202010_Generation_MD.csv'\n",
       "4. 'https://www.emi.ea.govt.nz/Wholesale/Datasets/Generation/Generation_MD/202009_Generation_MD.csv'\n",
       "5. 'https://www.emi.ea.govt.nz/Wholesale/Datasets/Generation/Generation_MD/202008_Generation_MD.csv'\n",
       "6. 'https://www.emi.ea.govt.nz/Wholesale/Datasets/Generation/Generation_MD/202007_Generation_MD.csv'\n",
       "7. 'https://www.emi.ea.govt.nz/Wholesale/Datasets/Generation/Generation_MD/202006_Generation_MD.csv'\n",
       "8. 'https://www.emi.ea.govt.nz/Wholesale/Datasets/Generation/Generation_MD/202005_Generation_MD.csv'\n",
       "9. 'https://www.emi.ea.govt.nz/Wholesale/Datasets/Generation/Generation_MD/202004_Generation_MD.csv'\n",
       "10. 'https://www.emi.ea.govt.nz/Wholesale/Datasets/Generation/Generation_MD/202003_Generation_MD.csv'\n",
       "11. 'https://www.emi.ea.govt.nz/Wholesale/Datasets/Generation/Generation_MD/202002_Generation_MD.csv'\n",
       "12. 'https://www.emi.ea.govt.nz/Wholesale/Datasets/Generation/Generation_MD/202001_Generation_MD.csv'\n",
       "\n",
       "\n"
      ],
      "text/plain": [
       " [1] \"https://www.emi.ea.govt.nz/Wholesale/Datasets/Generation/Generation_MD/202012_Generation_MD.csv\"\n",
       " [2] \"https://www.emi.ea.govt.nz/Wholesale/Datasets/Generation/Generation_MD/202011_Generation_MD.csv\"\n",
       " [3] \"https://www.emi.ea.govt.nz/Wholesale/Datasets/Generation/Generation_MD/202010_Generation_MD.csv\"\n",
       " [4] \"https://www.emi.ea.govt.nz/Wholesale/Datasets/Generation/Generation_MD/202009_Generation_MD.csv\"\n",
       " [5] \"https://www.emi.ea.govt.nz/Wholesale/Datasets/Generation/Generation_MD/202008_Generation_MD.csv\"\n",
       " [6] \"https://www.emi.ea.govt.nz/Wholesale/Datasets/Generation/Generation_MD/202007_Generation_MD.csv\"\n",
       " [7] \"https://www.emi.ea.govt.nz/Wholesale/Datasets/Generation/Generation_MD/202006_Generation_MD.csv\"\n",
       " [8] \"https://www.emi.ea.govt.nz/Wholesale/Datasets/Generation/Generation_MD/202005_Generation_MD.csv\"\n",
       " [9] \"https://www.emi.ea.govt.nz/Wholesale/Datasets/Generation/Generation_MD/202004_Generation_MD.csv\"\n",
       "[10] \"https://www.emi.ea.govt.nz/Wholesale/Datasets/Generation/Generation_MD/202003_Generation_MD.csv\"\n",
       "[11] \"https://www.emi.ea.govt.nz/Wholesale/Datasets/Generation/Generation_MD/202002_Generation_MD.csv\"\n",
       "[12] \"https://www.emi.ea.govt.nz/Wholesale/Datasets/Generation/Generation_MD/202001_Generation_MD.csv\""
      ]
     },
     "metadata": {},
     "output_type": "display_data"
    },
    {
     "ename": "ERROR",
     "evalue": "Error in url(link): invalid 'description' argument\n",
     "output_type": "error",
     "traceback": [
      "Error in url(link): invalid 'description' argument\nTraceback:\n",
      "1. lapply(url(link), read.csv)",
      "2. url(link)"
     ]
    }
   ],
   "source": [
    "# Acquire html code from sub address\n",
    "source <- paste(main_url, power_url, sep=\"\") %>% read_html()\n",
    "# Identify all links in the given html class\n",
    "all_links <- source %>% html_nodes(\".table\") %>% html_elements(\"a\") %>% html_attr(\"href\")\n",
    "# Identify appropriate urls within links and remove duplicates\n",
    "filtered_links <- all_links[startsWith(all_links, power_url) & !duplicated(all_links)]\n",
    "# Extract date information from filtered links\n",
    "start_pos <- nchar(power_url) + 2\n",
    "dates <- substring(filtered_links , start_pos, start_pos + 3) \n",
    "# Select links containing csv data\n",
    "selected_links <- filtered_links[dates == \"2020\"]\n",
    "selected_links\n",
    "# Extract csv data into dataframes\n",
    "link <- paste(main_url, selected_links, sep=\"\") \n",
    "link\n",
    "generation_md <- lapply(url(link), read.csv)\n",
    "generation_md"
   ]
  },
  {
   "cell_type": "code",
   "execution_count": null,
   "id": "4ccdf236",
   "metadata": {},
   "outputs": [],
   "source": [
    "?read.csv"
   ]
  },
  {
   "cell_type": "code",
   "execution_count": 4,
   "id": "5080cbc2",
   "metadata": {},
   "outputs": [
    {
     "name": "stderr",
     "output_type": "stream",
     "text": [
      "Warning message in seq_len(head.end.idx):\n",
      "“first element used of 'length.out' argument”\n",
      "ERROR while rich displaying an object: Error in seq_len(head.end.idx): argument must be coercible to non-negative integer\n",
      "\n",
      "Traceback:\n",
      "1. FUN(X[[i]], ...)\n",
      "2. tryCatch(withCallingHandlers({\n",
      " .     if (!mime %in% names(repr::mime2repr)) \n",
      " .         stop(\"No repr_* for mimetype \", mime, \" in repr::mime2repr\")\n",
      " .     rpr <- repr::mime2repr[[mime]](obj)\n",
      " .     if (is.null(rpr)) \n",
      " .         return(NULL)\n",
      " .     prepare_content(is.raw(rpr), rpr)\n",
      " . }, error = error_handler), error = outer_handler)\n",
      "3. tryCatchList(expr, classes, parentenv, handlers)\n",
      "4. tryCatchOne(expr, names, parentenv, handlers[[1L]])\n",
      "5. doTryCatch(return(expr), name, parentenv, handler)\n",
      "6. withCallingHandlers({\n",
      " .     if (!mime %in% names(repr::mime2repr)) \n",
      " .         stop(\"No repr_* for mimetype \", mime, \" in repr::mime2repr\")\n",
      " .     rpr <- repr::mime2repr[[mime]](obj)\n",
      " .     if (is.null(rpr)) \n",
      " .         return(NULL)\n",
      " .     prepare_content(is.raw(rpr), rpr)\n",
      " . }, error = error_handler)\n",
      "7. repr::mime2repr[[mime]](obj)\n",
      "8. repr_html.help_files_with_topic(obj)\n",
      "9. repr_help_files_with_topic_generic(obj, Rd2HTML)\n"
     ]
    }
   ],
   "source": [
    "?url"
   ]
  },
  {
   "cell_type": "markdown",
   "id": "1678a8fd",
   "metadata": {},
   "source": [
    "## Retrieve hydrostations fleet information"
   ]
  },
  {
   "cell_type": "code",
   "execution_count": null,
   "id": "352a4803",
   "metadata": {},
   "outputs": [],
   "source": [
    "# Acquire html code from sub address\n",
    "source <- paste(main_url, stations_url, sep=\"\") %>% read_html()\n",
    "# Identify all links in the given html class\n",
    "all_links <- source %>% html_nodes(\".xls\") %>% html_elements(\"a\") %>% html_attr(\"href\")\n",
    "# Identify appropriate urls within links and remove duplicates\n",
    "filtered_links <- all_links[startsWith(all_links, stations_url) & !duplicated(all_links)]\n",
    "selected_link <- filtered_links\n",
    "# Save spreadsheet into a temporary file and the data into a tibble\n",
    "url <- paste(main_url, selected_link,sep=\"\")\n",
    "output <- GET(url, write_disk(spreadsheet <- tempfile(fileext = \".xls\")))\n",
    "generation_fleet <- read_excel(spreadsheet, sheet = \"Generating Stations\") %>% filter(Generation_Type == \"Hydro\")\n",
    "generation_fleet_SI <- generation_fleet %>% \n",
    "                        filter(Island_Name == \"SI - South Island\") %>% \n",
    "                        group_by(GroupName) %>% \n",
    "                        arr2ange(.by_group = TRUE)\n",
    "generation_fleet_SI <- generation_fleet_SI[, c('Station_Name', \n",
    "                                               'GroupName', \n",
    "                                               'Owner_Name', \n",
    "                                               'Operators_Name', \n",
    "                                               'Node_Name', \n",
    "                                               'Region_Name', \n",
    "                                               'Island_Name')]"
   ]
  },
  {
   "cell_type": "markdown",
   "id": "fe7b059e-1e02-4feb-a95a-0282f133d4a3",
   "metadata": {},
   "source": [
    "## Retrieve Network supply points"
   ]
  },
  {
   "cell_type": "code",
   "execution_count": null,
   "id": "604bbfbc-a355-44bf-a5fa-dfd7158afb55",
   "metadata": {},
   "outputs": [],
   "source": [
    "source <- paste(main_url, points_url, sep=\"\") %>% read_html()\n",
    "all_links <- source %>% html_nodes(\".emi-btn-no-border\") %>% html_elements(\"a\") %>% html_attr(\"href\")\n",
    "filtered_links <- all_links[startsWith(all_links, \"/Wholesale\") & !duplicated(all_links)] %>% na.omit()\n",
    "selected_link <- filtered_links\n",
    "url <- paste(main_url, selected_link, sep=\"\")\n",
    "supply_points <- url %>% read.csv(skip=6) %>% \n",
    "                            select(POC.code, NZTM.easting, NZTM.northing) %>% \n",
    "                            rename(Node_Name = POC.code)"
   ]
  },
  {
   "cell_type": "markdown",
   "id": "82bde0ec-14d9-410a-9e94-c2f5d789e8b4",
   "metadata": {},
   "source": [
    "## Add NZTM coordinated from supply points to generation fleet"
   ]
  },
  {
   "cell_type": "code",
   "execution_count": null,
   "id": "b676634e-0159-4fc8-80ac-4712a9b37300",
   "metadata": {},
   "outputs": [],
   "source": [
    "gen_fleet <- merge(generation_fleet_SI, supply_points, by='Node_Name')\n",
    "gen_fleet <- gen_fleet[!duplicated(gen_fleet$Station_Name),]\n",
    "# Gen fleet contains hydrstation fleet with their locations, ot including one hydrostation without a location."
   ]
  },
  {
   "cell_type": "code",
   "execution_count": null,
   "id": "1e29caf6-f9c4-4d8a-8d56-0e704ff057b6",
   "metadata": {},
   "outputs": [],
   "source": []
  }
 ],
 "metadata": {
  "kernelspec": {
   "display_name": "R",
   "language": "R",
   "name": "ir"
  },
  "language_info": {
   "codemirror_mode": "r",
   "file_extension": ".r",
   "mimetype": "text/x-r-source",
   "name": "R",
   "pygments_lexer": "r",
   "version": "4.1.1"
  }
 },
 "nbformat": 4,
 "nbformat_minor": 5
}
