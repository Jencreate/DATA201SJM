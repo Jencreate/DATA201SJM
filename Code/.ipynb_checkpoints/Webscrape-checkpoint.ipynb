{
 "cells": [
  {
   "cell_type": "code",
   "execution_count": 5,
   "id": "31775b11-b6e9-4983-9804-d86e2eefb0bc",
   "metadata": {},
   "outputs": [
    {
     "name": "stderr",
     "output_type": "stream",
     "text": [
      "Loading required package: future\n",
      "\n"
     ]
    }
   ],
   "source": [
    "#Matt\n",
    "#install.packages(\"RCurl\")\n",
    "library(RCurl)\n",
    "library(tidyverse, warn.conflicts = FALSE)\n",
    "library(lubridate, warn.conflicts = FALSE)\n",
    "\n",
    "#Jensen\n",
    "library(xml2)\n",
    "library(rvest)\n",
    "library(httr)\n",
    "#install.packages(\"readxl\")\n",
    "library(readxl)\n",
    "#install.packages(\"furrr\")\n",
    "library(furrr)\n",
    "future::plan(multicore)\n",
    "\n",
    "#Sujung\n"
   ]
  },
  {
   "cell_type": "markdown",
   "id": "bae0e610",
   "metadata": {},
   "source": [
    "## Webscrape river flows\n",
    "Matt"
   ]
  },
  {
   "cell_type": "code",
   "execution_count": 40,
   "id": "6313119c",
   "metadata": {},
   "outputs": [],
   "source": [
    "opuha_url <- \"https://hydrowebportal.niwa.co.nz/Export/BulkExport?DateRange=Custom&StartTime=2015-01-01%2000%3A00&EndTime=2020-12-31%2000%3A00&TimeZone=12&Calendar=CALENDARYEAR&Interval=Monthly&Step=1&ExportFormat=csv&TimeAligned=True&RoundData=False&IncludeGradeCodes=False&IncludeApprovalLevels=False&IncludeInterpolationTypes=False&Datasets[0].DatasetName=Discharge%20Value.NRWQN%40TK3&Datasets[0].Calculation=Aggregate&Datasets[0].UnitId=140\"\n",
    "rakaia_url <- \"https://hydrowebportal.niwa.co.nz/Export/BulkExport?DateRange=Custom&StartTime=2015-01-01%2000%3A00&EndTime=2020-12-31%2000%3A00&TimeZone=12&Calendar=CALENDARYEAR&Interval=Monthly&Step=1&ExportFormat=csv&TimeAligned=True&RoundData=False&IncludeGradeCodes=False&IncludeApprovalLevels=False&IncludeInterpolationTypes=False&Datasets[0].DatasetName=Discharge.Master%4068526&Datasets[0].Calculation=Instantaneous&Datasets[0].UnitId=140\"\n",
    "waitaki_url <- \"https://hydrowebportal.niwa.co.nz/Export/BulkExport?DateRange=Custom&StartTime=2015-01-01%2000%3A00&EndTime=2020-12-31%2000%3A00&TimeZone=12&Calendar=CALENDARYEAR&Interval=PointsAsRecorded&Step=1&ExportFormat=csv&TimeAligned=True&RoundData=False&IncludeGradeCodes=False&IncludeApprovalLevels=False&IncludeInterpolationTypes=False&Datasets[0].DatasetName=Discharge%20Value.NRWQN%40TK6&Datasets[0].Calculation=Instantaneous&Datasets[0].UnitId=140\"\n",
    "kawarau_url <- \"https://hydrowebportal.niwa.co.nz/Export/BulkExport?DateRange=Custom&StartTime=2015-01-01%2000%3A00&EndTime=2020-12-31%2000%3A00&TimeZone=12&Calendar=CALENDARYEAR&Interval=PointsAsRecorded&Step=1&ExportFormat=csv&TimeAligned=True&RoundData=False&IncludeGradeCodes=False&IncludeApprovalLevels=False&IncludeInterpolationTypes=False&Datasets[0].DatasetName=Discharge%20Value.NRWQN%40AX2&Datasets[0].Calculation=Instantaneous&Datasets[0].UnitId=140\"\n",
    "clutha_url <- \"https://hydrowebportal.niwa.co.nz/Export/BulkExport?DateRange=Custom&StartTime=2015-01-01%2000%3A00&EndTime=2020-12-31%2000%3A00&TimeZone=12&Calendar=CALENDARYEAR&Interval=Monthly&Step=1&ExportFormat=csv&TimeAligned=True&RoundData=False&IncludeGradeCodes=False&IncludeApprovalLevels=False&IncludeInterpolationTypes=False&Datasets[0].DatasetName=Discharge.Master%4075207&Datasets[0].Calculation=Instantaneous&Datasets[0].UnitId=140\"\n",
    "mataura_url <- \"https://hydrowebportal.niwa.co.nz/Export/BulkExport?DateRange=Custom&StartTime=2015-01-01%2000%3A00&EndTime=2020-12-31%2000%3A00&TimeZone=12&Calendar=CALENDARYEAR&Interval=PointsAsRecorded&Step=1&ExportFormat=csv&TimeAligned=True&RoundData=False&IncludeGradeCodes=False&IncludeApprovalLevels=False&IncludeInterpolationTypes=False&Datasets[0].DatasetName=Discharge%20Value.NRWQN%40DN5&Datasets[0].Calculation=Instantaneous&Datasets[0].UnitId=140\""
   ]
  },
  {
   "cell_type": "code",
   "execution_count": 135,
   "id": "5b3b8b3a-a97d-4d29-af1a-96beba5fd16e",
   "metadata": {},
   "outputs": [
    {
     "data": {
      "text/html": [
       "'Opuha checkpoint'"
      ],
      "text/latex": [
       "'Opuha checkpoint'"
      ],
      "text/markdown": [
       "'Opuha checkpoint'"
      ],
      "text/plain": [
       "[1] \"Opuha checkpoint\""
      ]
     },
     "metadata": {},
     "output_type": "display_data"
    },
    {
     "data": {
      "text/html": [
       "'Rakaia checkpoint'"
      ],
      "text/latex": [
       "'Rakaia checkpoint'"
      ],
      "text/markdown": [
       "'Rakaia checkpoint'"
      ],
      "text/plain": [
       "[1] \"Rakaia checkpoint\""
      ]
     },
     "metadata": {},
     "output_type": "display_data"
    },
    {
     "data": {
      "text/html": [
       "'Waitaki checkpoint'"
      ],
      "text/latex": [
       "'Waitaki checkpoint'"
      ],
      "text/markdown": [
       "'Waitaki checkpoint'"
      ],
      "text/plain": [
       "[1] \"Waitaki checkpoint\""
      ]
     },
     "metadata": {},
     "output_type": "display_data"
    },
    {
     "data": {
      "text/html": [
       "'Kawarau checkpoint'"
      ],
      "text/latex": [
       "'Kawarau checkpoint'"
      ],
      "text/markdown": [
       "'Kawarau checkpoint'"
      ],
      "text/plain": [
       "[1] \"Kawarau checkpoint\""
      ]
     },
     "metadata": {},
     "output_type": "display_data"
    },
    {
     "data": {
      "text/html": [
       "'Clutha checkpoint'"
      ],
      "text/latex": [
       "'Clutha checkpoint'"
      ],
      "text/markdown": [
       "'Clutha checkpoint'"
      ],
      "text/plain": [
       "[1] \"Clutha checkpoint\""
      ]
     },
     "metadata": {},
     "output_type": "display_data"
    },
    {
     "data": {
      "text/html": [
       "'Mataura checkpoint'"
      ],
      "text/latex": [
       "'Mataura checkpoint'"
      ],
      "text/markdown": [
       "'Mataura checkpoint'"
      ],
      "text/plain": [
       "[1] \"Mataura checkpoint\""
      ]
     },
     "metadata": {},
     "output_type": "display_data"
    }
   ],
   "source": [
    "#Matt\n",
    "\n",
    "row_calc1 <- function(tibble){\n",
    "    n = as.integer(nrow(tibble))\n",
    "    data <- tail(tibble, (n-4))\n",
    "    names(data) <- c('Time','Value(m^3/s)')\n",
    "    return(data)\n",
    "}\n",
    "\n",
    "row_calc2 <- function(tibble){\n",
    "    n = as.integer(nrow(tibble))\n",
    "    data <- tail(tibble, (n-4)) %>% select(-X) \n",
    "    names(data) <- c('Time','Value(m^3/s)')\n",
    "    return(data)  \n",
    "}\n",
    " \n",
    "convert_to_date <- function(tibble) {\n",
    "    converted <- separate(tibble, Time, c(\"date\", \"time\"), \" \")  %>% mutate(date = as.Date(date))\n",
    "    return(converted)\n",
    "}\n",
    "opuha <- opuha_url %>% read.csv() %>% as_tibble() %>% row_calc2() %>% convert_to_date()\n",
    "\"Opuha checkpoint\"\n",
    "\n",
    "rakaia <- rakaia_url %>% read.csv() %>% as_tibble() %>% row_calc2() %>% convert_to_date()\n",
    "rakaia_name <- rep(\"rakaia\", times=nrow(rakaia))\n",
    "rakaia_station <- rep(\"highbank\", times=nrow(rakaia))\n",
    "rakaia$river <- rakaia_name\n",
    "rakaia$Gen_Code <- rakaia_station\n",
    "\"Rakaia checkpoint\"\n",
    "\n",
    "waitaki <- waitaki_url %>% read.csv() %>% as_tibble() %>% row_calc1() %>% convert_to_date()\n",
    "waitaki_name <- rep(\"waitaki\", times=nrow(waitaki))\n",
    "waitaki_station <- rep(\"waitaki\", times=nrow(waitaki))\n",
    "waitaki$river <- waitaki_name\n",
    "waitaki$Gen_Code <- waitaki_station\n",
    "\"Waitaki checkpoint\"\n",
    "\n",
    "kawarau <- kawarau_url %>% read.csv() %>% as_tibble() %>% row_calc1() %>% convert_to_date()                                  \n",
    "\"Kawarau checkpoint\"\n",
    "\n",
    "clutha <- clutha_url %>% read.csv() %>% as_tibble() %>% row_calc2() %>% convert_to_date()   \n",
    "clutha_name <- rep(\"clutha\", times=nrow(clutha))\n",
    "clutha_station <- rep(\"clyde\", times=nrow(clutha))\n",
    "clutha$river <- clutha_name\n",
    "clutha$Gen_Code <- clutha_station\n",
    "\"Clutha checkpoint\"\n",
    "\n",
    "mataura <- mataura_url %>% read.csv() %>% as_tibble() %>% row_calc1() %>% convert_to_date()\n",
    "\"Mataura checkpoint\"\n",
    "#empty data sets, monowai <- read.csv(text = getURL(\"https://hydrowebportal.niwa.co.nz/Export/BulkExport?DateRange=Custom&StartTime=2020-01-01%2000%3A00&EndTime=2020-12-31%2000%3A00&TimeZone=12&Calendar=CALENDARYEAR&Interval=PointsAsRecorded&Step=1&ExportFormat=csv&TimeAligned=True&RoundData=False&IncludeGradeCodes=False&IncludeApprovalLevels=False&IncludeInterpolationTypes=False&Datasets[0].DatasetName=Discharge%20Value.NRWQN%40DN10&Datasets[0].Calculation=Instantaneous&Datasets[0].UnitId=140\"))                    \n",
    "#taieri <- read.csv(text = getURL(\"https://hydrowebportal.niwa.co.nz/Export/BulkExport?DateRange=Custom&StartTime=2020-01-01%2000%3A00&EndTime=2020-12-31%2000%3A00&TimeZone=12&Calendar=CALENDARYEAR&Interval=PointsAsRecorded&Step=1&ExportFormat=csv&TimeAligned=True&RoundData=False&IncludeGradeCodes=False&IncludeApprovalLevels=False&IncludeInterpolationTypes=False&Datasets[0].DatasetName=Discharge%20Value.NRWQN%40DN3&Datasets[0].Calculation=Instantaneous&Datasets[0].UnitId=140\"))\n",
    "\n",
    "## Concatenating all relevant rivers\n",
    "river_data <- bind_rows(rakaia, waitaki, clutha)"
   ]
  },
  {
   "cell_type": "code",
   "execution_count": 136,
   "id": "2c147ba0",
   "metadata": {},
   "outputs": [
    {
     "data": {
      "text/html": [
       "<table class=\"dataframe\">\n",
       "<caption>A tibble: 213 × 5</caption>\n",
       "<thead>\n",
       "\t<tr><th scope=col>date</th><th scope=col>time</th><th scope=col>Value(m^3/s)</th><th scope=col>river</th><th scope=col>Gen_Code</th></tr>\n",
       "\t<tr><th scope=col>&lt;date&gt;</th><th scope=col>&lt;chr&gt;</th><th scope=col>&lt;chr&gt;</th><th scope=col>&lt;chr&gt;</th><th scope=col>&lt;chr&gt;</th></tr>\n",
       "</thead>\n",
       "<tbody>\n",
       "\t<tr><td>2015-01-01</td><td>00:00:00</td><td>145.568221403779</td><td>rakaia</td><td>highbank</td></tr>\n",
       "\t<tr><td>2015-02-01</td><td>00:00:00</td><td>114.976124514825</td><td>rakaia</td><td>highbank</td></tr>\n",
       "\t<tr><td>2015-03-01</td><td>00:00:00</td><td>98.5150735676918</td><td>rakaia</td><td>highbank</td></tr>\n",
       "\t<tr><td>2015-04-01</td><td>00:00:00</td><td>260.14434004806 </td><td>rakaia</td><td>highbank</td></tr>\n",
       "\t<tr><td>2015-05-01</td><td>00:00:00</td><td>139.35321437759 </td><td>rakaia</td><td>highbank</td></tr>\n",
       "\t<tr><td>2015-06-01</td><td>00:00:00</td><td>158.668757343844</td><td>rakaia</td><td>highbank</td></tr>\n",
       "\t<tr><td>2015-07-01</td><td>00:00:00</td><td>141.940141886092</td><td>rakaia</td><td>highbank</td></tr>\n",
       "\t<tr><td>2015-08-01</td><td>00:00:00</td><td>148.165122186851</td><td>rakaia</td><td>highbank</td></tr>\n",
       "\t<tr><td>2015-09-01</td><td>00:00:00</td><td>128.414025644167</td><td>rakaia</td><td>highbank</td></tr>\n",
       "\t<tr><td>2015-10-01</td><td>00:00:00</td><td>156.361142966169</td><td>rakaia</td><td>highbank</td></tr>\n",
       "\t<tr><td>2015-11-01</td><td>00:00:00</td><td>250.530169149834</td><td>rakaia</td><td>highbank</td></tr>\n",
       "\t<tr><td>2015-12-01</td><td>00:00:00</td><td>152.890476217624</td><td>rakaia</td><td>highbank</td></tr>\n",
       "\t<tr><td>2016-01-01</td><td>00:00:00</td><td>191.692741845126</td><td>rakaia</td><td>highbank</td></tr>\n",
       "\t<tr><td>2016-02-01</td><td>00:00:00</td><td>164.658561695425</td><td>rakaia</td><td>highbank</td></tr>\n",
       "\t<tr><td>2016-03-01</td><td>00:00:00</td><td>129.82642060974 </td><td>rakaia</td><td>highbank</td></tr>\n",
       "\t<tr><td>2016-04-01</td><td>00:00:00</td><td>107.233578025792</td><td>rakaia</td><td>highbank</td></tr>\n",
       "\t<tr><td>2016-05-01</td><td>00:00:00</td><td>160.70905462907 </td><td>rakaia</td><td>highbank</td></tr>\n",
       "\t<tr><td>2016-06-01</td><td>00:00:00</td><td>149.34060682575 </td><td>rakaia</td><td>highbank</td></tr>\n",
       "\t<tr><td>2016-07-01</td><td>00:00:00</td><td>160.083995358947</td><td>rakaia</td><td>highbank</td></tr>\n",
       "\t<tr><td>2016-08-01</td><td>00:00:00</td><td>111.599360791635</td><td>rakaia</td><td>highbank</td></tr>\n",
       "\t<tr><td>2016-09-01</td><td>00:00:00</td><td>138.468012898238</td><td>rakaia</td><td>highbank</td></tr>\n",
       "\t<tr><td>2016-10-01</td><td>00:00:00</td><td>134.44249883536 </td><td>rakaia</td><td>highbank</td></tr>\n",
       "\t<tr><td>2016-11-01</td><td>00:00:00</td><td>277.148234972394</td><td>rakaia</td><td>highbank</td></tr>\n",
       "\t<tr><td>2016-12-01</td><td>00:00:00</td><td>159.322636901782</td><td>rakaia</td><td>highbank</td></tr>\n",
       "\t<tr><td>2017-01-01</td><td>00:00:00</td><td>248.763591909666</td><td>rakaia</td><td>highbank</td></tr>\n",
       "\t<tr><td>2017-02-01</td><td>00:00:00</td><td>120.129404717144</td><td>rakaia</td><td>highbank</td></tr>\n",
       "\t<tr><td>2017-03-01</td><td>00:00:00</td><td>123.412504044668</td><td>rakaia</td><td>highbank</td></tr>\n",
       "\t<tr><td>2017-04-01</td><td>00:00:00</td><td>138.766920253232</td><td>rakaia</td><td>highbank</td></tr>\n",
       "\t<tr><td>2017-05-01</td><td>00:00:00</td><td>112.448447474117</td><td>rakaia</td><td>highbank</td></tr>\n",
       "\t<tr><td>2017-06-01</td><td>00:00:00</td><td>85.6539753327072</td><td>rakaia</td><td>highbank</td></tr>\n",
       "\t<tr><td>⋮</td><td>⋮</td><td>⋮</td><td>⋮</td><td>⋮</td></tr>\n",
       "\t<tr><td>2018-06-01</td><td>00:00:00</td><td>478.163042794204</td><td>clutha</td><td>clyde</td></tr>\n",
       "\t<tr><td>2018-07-01</td><td>00:00:00</td><td>640.865724329402</td><td>clutha</td><td>clyde</td></tr>\n",
       "\t<tr><td>2018-08-01</td><td>00:00:00</td><td>561.769173849101</td><td>clutha</td><td>clyde</td></tr>\n",
       "\t<tr><td>2018-09-01</td><td>00:00:00</td><td>507.127561084524</td><td>clutha</td><td>clyde</td></tr>\n",
       "\t<tr><td>2018-10-01</td><td>00:00:00</td><td>673.1629213195  </td><td>clutha</td><td>clyde</td></tr>\n",
       "\t<tr><td>2018-11-01</td><td>00:00:00</td><td>879.317763384706</td><td>clutha</td><td>clyde</td></tr>\n",
       "\t<tr><td>2018-12-01</td><td>00:00:00</td><td>521.211774238966</td><td>clutha</td><td>clyde</td></tr>\n",
       "\t<tr><td>2019-01-01</td><td>00:00:00</td><td>653.068959330141</td><td>clutha</td><td>clyde</td></tr>\n",
       "\t<tr><td>2019-02-01</td><td>00:00:00</td><td>574.24546106502 </td><td>clutha</td><td>clyde</td></tr>\n",
       "\t<tr><td>2019-03-01</td><td>00:00:00</td><td>768.229668179433</td><td>clutha</td><td>clyde</td></tr>\n",
       "\t<tr><td>2019-04-01</td><td>00:00:00</td><td>745.866458715635</td><td>clutha</td><td>clyde</td></tr>\n",
       "\t<tr><td>2019-05-01</td><td>00:00:00</td><td>1183.72275646648</td><td>clutha</td><td>clyde</td></tr>\n",
       "\t<tr><td>2019-06-01</td><td>00:00:00</td><td>652.614551223071</td><td>clutha</td><td>clyde</td></tr>\n",
       "\t<tr><td>2019-07-01</td><td>00:00:00</td><td>627.85507958245 </td><td>clutha</td><td>clyde</td></tr>\n",
       "\t<tr><td>2019-08-01</td><td>00:00:00</td><td>351.566219354047</td><td>clutha</td><td>clyde</td></tr>\n",
       "\t<tr><td>2019-09-01</td><td>00:00:00</td><td>411.750354948318</td><td>clutha</td><td>clyde</td></tr>\n",
       "\t<tr><td>2019-10-01</td><td>00:00:00</td><td>663.091541018584</td><td>clutha</td><td>clyde</td></tr>\n",
       "\t<tr><td>2019-11-01</td><td>00:00:00</td><td>1043.21467793656</td><td>clutha</td><td>clyde</td></tr>\n",
       "\t<tr><td>2019-12-01</td><td>00:00:00</td><td>773.014974417731</td><td>clutha</td><td>clyde</td></tr>\n",
       "\t<tr><td>2020-01-01</td><td>00:00:00</td><td>499.309010756408</td><td>clutha</td><td>clyde</td></tr>\n",
       "\t<tr><td>2020-02-01</td><td>00:00:00</td><td>801.940823124828</td><td>clutha</td><td>clyde</td></tr>\n",
       "\t<tr><td>2020-03-01</td><td>00:00:00</td><td>410.961863556967</td><td>clutha</td><td>clyde</td></tr>\n",
       "\t<tr><td>2020-04-01</td><td>00:00:00</td><td>434.426471535836</td><td>clutha</td><td>clyde</td></tr>\n",
       "\t<tr><td>2020-05-01</td><td>00:00:00</td><td>546.430474475349</td><td>clutha</td><td>clyde</td></tr>\n",
       "\t<tr><td>2020-06-01</td><td>00:00:00</td><td>681.439253953681</td><td>clutha</td><td>clyde</td></tr>\n",
       "\t<tr><td>2020-07-01</td><td>00:00:00</td><td>635.022870622245</td><td>clutha</td><td>clyde</td></tr>\n",
       "\t<tr><td>2020-08-01</td><td>00:00:00</td><td>500.130249691918</td><td>clutha</td><td>clyde</td></tr>\n",
       "\t<tr><td>2020-09-01</td><td>00:00:00</td><td>988.518272459083</td><td>clutha</td><td>clyde</td></tr>\n",
       "\t<tr><td>2020-10-01</td><td>00:00:00</td><td>885.869744735674</td><td>clutha</td><td>clyde</td></tr>\n",
       "\t<tr><td>2020-11-01</td><td>00:00:00</td><td>492.355901342211</td><td>clutha</td><td>clyde</td></tr>\n",
       "</tbody>\n",
       "</table>\n"
      ],
      "text/latex": [
       "A tibble: 213 × 5\n",
       "\\begin{tabular}{lllll}\n",
       " date & time & Value(m\\textasciicircum{}3/s) & river & Gen\\_Code\\\\\n",
       " <date> & <chr> & <chr> & <chr> & <chr>\\\\\n",
       "\\hline\n",
       "\t 2015-01-01 & 00:00:00 & 145.568221403779 & rakaia & highbank\\\\\n",
       "\t 2015-02-01 & 00:00:00 & 114.976124514825 & rakaia & highbank\\\\\n",
       "\t 2015-03-01 & 00:00:00 & 98.5150735676918 & rakaia & highbank\\\\\n",
       "\t 2015-04-01 & 00:00:00 & 260.14434004806  & rakaia & highbank\\\\\n",
       "\t 2015-05-01 & 00:00:00 & 139.35321437759  & rakaia & highbank\\\\\n",
       "\t 2015-06-01 & 00:00:00 & 158.668757343844 & rakaia & highbank\\\\\n",
       "\t 2015-07-01 & 00:00:00 & 141.940141886092 & rakaia & highbank\\\\\n",
       "\t 2015-08-01 & 00:00:00 & 148.165122186851 & rakaia & highbank\\\\\n",
       "\t 2015-09-01 & 00:00:00 & 128.414025644167 & rakaia & highbank\\\\\n",
       "\t 2015-10-01 & 00:00:00 & 156.361142966169 & rakaia & highbank\\\\\n",
       "\t 2015-11-01 & 00:00:00 & 250.530169149834 & rakaia & highbank\\\\\n",
       "\t 2015-12-01 & 00:00:00 & 152.890476217624 & rakaia & highbank\\\\\n",
       "\t 2016-01-01 & 00:00:00 & 191.692741845126 & rakaia & highbank\\\\\n",
       "\t 2016-02-01 & 00:00:00 & 164.658561695425 & rakaia & highbank\\\\\n",
       "\t 2016-03-01 & 00:00:00 & 129.82642060974  & rakaia & highbank\\\\\n",
       "\t 2016-04-01 & 00:00:00 & 107.233578025792 & rakaia & highbank\\\\\n",
       "\t 2016-05-01 & 00:00:00 & 160.70905462907  & rakaia & highbank\\\\\n",
       "\t 2016-06-01 & 00:00:00 & 149.34060682575  & rakaia & highbank\\\\\n",
       "\t 2016-07-01 & 00:00:00 & 160.083995358947 & rakaia & highbank\\\\\n",
       "\t 2016-08-01 & 00:00:00 & 111.599360791635 & rakaia & highbank\\\\\n",
       "\t 2016-09-01 & 00:00:00 & 138.468012898238 & rakaia & highbank\\\\\n",
       "\t 2016-10-01 & 00:00:00 & 134.44249883536  & rakaia & highbank\\\\\n",
       "\t 2016-11-01 & 00:00:00 & 277.148234972394 & rakaia & highbank\\\\\n",
       "\t 2016-12-01 & 00:00:00 & 159.322636901782 & rakaia & highbank\\\\\n",
       "\t 2017-01-01 & 00:00:00 & 248.763591909666 & rakaia & highbank\\\\\n",
       "\t 2017-02-01 & 00:00:00 & 120.129404717144 & rakaia & highbank\\\\\n",
       "\t 2017-03-01 & 00:00:00 & 123.412504044668 & rakaia & highbank\\\\\n",
       "\t 2017-04-01 & 00:00:00 & 138.766920253232 & rakaia & highbank\\\\\n",
       "\t 2017-05-01 & 00:00:00 & 112.448447474117 & rakaia & highbank\\\\\n",
       "\t 2017-06-01 & 00:00:00 & 85.6539753327072 & rakaia & highbank\\\\\n",
       "\t ⋮ & ⋮ & ⋮ & ⋮ & ⋮\\\\\n",
       "\t 2018-06-01 & 00:00:00 & 478.163042794204 & clutha & clyde\\\\\n",
       "\t 2018-07-01 & 00:00:00 & 640.865724329402 & clutha & clyde\\\\\n",
       "\t 2018-08-01 & 00:00:00 & 561.769173849101 & clutha & clyde\\\\\n",
       "\t 2018-09-01 & 00:00:00 & 507.127561084524 & clutha & clyde\\\\\n",
       "\t 2018-10-01 & 00:00:00 & 673.1629213195   & clutha & clyde\\\\\n",
       "\t 2018-11-01 & 00:00:00 & 879.317763384706 & clutha & clyde\\\\\n",
       "\t 2018-12-01 & 00:00:00 & 521.211774238966 & clutha & clyde\\\\\n",
       "\t 2019-01-01 & 00:00:00 & 653.068959330141 & clutha & clyde\\\\\n",
       "\t 2019-02-01 & 00:00:00 & 574.24546106502  & clutha & clyde\\\\\n",
       "\t 2019-03-01 & 00:00:00 & 768.229668179433 & clutha & clyde\\\\\n",
       "\t 2019-04-01 & 00:00:00 & 745.866458715635 & clutha & clyde\\\\\n",
       "\t 2019-05-01 & 00:00:00 & 1183.72275646648 & clutha & clyde\\\\\n",
       "\t 2019-06-01 & 00:00:00 & 652.614551223071 & clutha & clyde\\\\\n",
       "\t 2019-07-01 & 00:00:00 & 627.85507958245  & clutha & clyde\\\\\n",
       "\t 2019-08-01 & 00:00:00 & 351.566219354047 & clutha & clyde\\\\\n",
       "\t 2019-09-01 & 00:00:00 & 411.750354948318 & clutha & clyde\\\\\n",
       "\t 2019-10-01 & 00:00:00 & 663.091541018584 & clutha & clyde\\\\\n",
       "\t 2019-11-01 & 00:00:00 & 1043.21467793656 & clutha & clyde\\\\\n",
       "\t 2019-12-01 & 00:00:00 & 773.014974417731 & clutha & clyde\\\\\n",
       "\t 2020-01-01 & 00:00:00 & 499.309010756408 & clutha & clyde\\\\\n",
       "\t 2020-02-01 & 00:00:00 & 801.940823124828 & clutha & clyde\\\\\n",
       "\t 2020-03-01 & 00:00:00 & 410.961863556967 & clutha & clyde\\\\\n",
       "\t 2020-04-01 & 00:00:00 & 434.426471535836 & clutha & clyde\\\\\n",
       "\t 2020-05-01 & 00:00:00 & 546.430474475349 & clutha & clyde\\\\\n",
       "\t 2020-06-01 & 00:00:00 & 681.439253953681 & clutha & clyde\\\\\n",
       "\t 2020-07-01 & 00:00:00 & 635.022870622245 & clutha & clyde\\\\\n",
       "\t 2020-08-01 & 00:00:00 & 500.130249691918 & clutha & clyde\\\\\n",
       "\t 2020-09-01 & 00:00:00 & 988.518272459083 & clutha & clyde\\\\\n",
       "\t 2020-10-01 & 00:00:00 & 885.869744735674 & clutha & clyde\\\\\n",
       "\t 2020-11-01 & 00:00:00 & 492.355901342211 & clutha & clyde\\\\\n",
       "\\end{tabular}\n"
      ],
      "text/markdown": [
       "\n",
       "A tibble: 213 × 5\n",
       "\n",
       "| date &lt;date&gt; | time &lt;chr&gt; | Value(m^3/s) &lt;chr&gt; | river &lt;chr&gt; | Gen_Code &lt;chr&gt; |\n",
       "|---|---|---|---|---|\n",
       "| 2015-01-01 | 00:00:00 | 145.568221403779 | rakaia | highbank |\n",
       "| 2015-02-01 | 00:00:00 | 114.976124514825 | rakaia | highbank |\n",
       "| 2015-03-01 | 00:00:00 | 98.5150735676918 | rakaia | highbank |\n",
       "| 2015-04-01 | 00:00:00 | 260.14434004806  | rakaia | highbank |\n",
       "| 2015-05-01 | 00:00:00 | 139.35321437759  | rakaia | highbank |\n",
       "| 2015-06-01 | 00:00:00 | 158.668757343844 | rakaia | highbank |\n",
       "| 2015-07-01 | 00:00:00 | 141.940141886092 | rakaia | highbank |\n",
       "| 2015-08-01 | 00:00:00 | 148.165122186851 | rakaia | highbank |\n",
       "| 2015-09-01 | 00:00:00 | 128.414025644167 | rakaia | highbank |\n",
       "| 2015-10-01 | 00:00:00 | 156.361142966169 | rakaia | highbank |\n",
       "| 2015-11-01 | 00:00:00 | 250.530169149834 | rakaia | highbank |\n",
       "| 2015-12-01 | 00:00:00 | 152.890476217624 | rakaia | highbank |\n",
       "| 2016-01-01 | 00:00:00 | 191.692741845126 | rakaia | highbank |\n",
       "| 2016-02-01 | 00:00:00 | 164.658561695425 | rakaia | highbank |\n",
       "| 2016-03-01 | 00:00:00 | 129.82642060974  | rakaia | highbank |\n",
       "| 2016-04-01 | 00:00:00 | 107.233578025792 | rakaia | highbank |\n",
       "| 2016-05-01 | 00:00:00 | 160.70905462907  | rakaia | highbank |\n",
       "| 2016-06-01 | 00:00:00 | 149.34060682575  | rakaia | highbank |\n",
       "| 2016-07-01 | 00:00:00 | 160.083995358947 | rakaia | highbank |\n",
       "| 2016-08-01 | 00:00:00 | 111.599360791635 | rakaia | highbank |\n",
       "| 2016-09-01 | 00:00:00 | 138.468012898238 | rakaia | highbank |\n",
       "| 2016-10-01 | 00:00:00 | 134.44249883536  | rakaia | highbank |\n",
       "| 2016-11-01 | 00:00:00 | 277.148234972394 | rakaia | highbank |\n",
       "| 2016-12-01 | 00:00:00 | 159.322636901782 | rakaia | highbank |\n",
       "| 2017-01-01 | 00:00:00 | 248.763591909666 | rakaia | highbank |\n",
       "| 2017-02-01 | 00:00:00 | 120.129404717144 | rakaia | highbank |\n",
       "| 2017-03-01 | 00:00:00 | 123.412504044668 | rakaia | highbank |\n",
       "| 2017-04-01 | 00:00:00 | 138.766920253232 | rakaia | highbank |\n",
       "| 2017-05-01 | 00:00:00 | 112.448447474117 | rakaia | highbank |\n",
       "| 2017-06-01 | 00:00:00 | 85.6539753327072 | rakaia | highbank |\n",
       "| ⋮ | ⋮ | ⋮ | ⋮ | ⋮ |\n",
       "| 2018-06-01 | 00:00:00 | 478.163042794204 | clutha | clyde |\n",
       "| 2018-07-01 | 00:00:00 | 640.865724329402 | clutha | clyde |\n",
       "| 2018-08-01 | 00:00:00 | 561.769173849101 | clutha | clyde |\n",
       "| 2018-09-01 | 00:00:00 | 507.127561084524 | clutha | clyde |\n",
       "| 2018-10-01 | 00:00:00 | 673.1629213195   | clutha | clyde |\n",
       "| 2018-11-01 | 00:00:00 | 879.317763384706 | clutha | clyde |\n",
       "| 2018-12-01 | 00:00:00 | 521.211774238966 | clutha | clyde |\n",
       "| 2019-01-01 | 00:00:00 | 653.068959330141 | clutha | clyde |\n",
       "| 2019-02-01 | 00:00:00 | 574.24546106502  | clutha | clyde |\n",
       "| 2019-03-01 | 00:00:00 | 768.229668179433 | clutha | clyde |\n",
       "| 2019-04-01 | 00:00:00 | 745.866458715635 | clutha | clyde |\n",
       "| 2019-05-01 | 00:00:00 | 1183.72275646648 | clutha | clyde |\n",
       "| 2019-06-01 | 00:00:00 | 652.614551223071 | clutha | clyde |\n",
       "| 2019-07-01 | 00:00:00 | 627.85507958245  | clutha | clyde |\n",
       "| 2019-08-01 | 00:00:00 | 351.566219354047 | clutha | clyde |\n",
       "| 2019-09-01 | 00:00:00 | 411.750354948318 | clutha | clyde |\n",
       "| 2019-10-01 | 00:00:00 | 663.091541018584 | clutha | clyde |\n",
       "| 2019-11-01 | 00:00:00 | 1043.21467793656 | clutha | clyde |\n",
       "| 2019-12-01 | 00:00:00 | 773.014974417731 | clutha | clyde |\n",
       "| 2020-01-01 | 00:00:00 | 499.309010756408 | clutha | clyde |\n",
       "| 2020-02-01 | 00:00:00 | 801.940823124828 | clutha | clyde |\n",
       "| 2020-03-01 | 00:00:00 | 410.961863556967 | clutha | clyde |\n",
       "| 2020-04-01 | 00:00:00 | 434.426471535836 | clutha | clyde |\n",
       "| 2020-05-01 | 00:00:00 | 546.430474475349 | clutha | clyde |\n",
       "| 2020-06-01 | 00:00:00 | 681.439253953681 | clutha | clyde |\n",
       "| 2020-07-01 | 00:00:00 | 635.022870622245 | clutha | clyde |\n",
       "| 2020-08-01 | 00:00:00 | 500.130249691918 | clutha | clyde |\n",
       "| 2020-09-01 | 00:00:00 | 988.518272459083 | clutha | clyde |\n",
       "| 2020-10-01 | 00:00:00 | 885.869744735674 | clutha | clyde |\n",
       "| 2020-11-01 | 00:00:00 | 492.355901342211 | clutha | clyde |\n",
       "\n"
      ],
      "text/plain": [
       "    date       time     Value(m^3/s)     river  Gen_Code\n",
       "1   2015-01-01 00:00:00 145.568221403779 rakaia highbank\n",
       "2   2015-02-01 00:00:00 114.976124514825 rakaia highbank\n",
       "3   2015-03-01 00:00:00 98.5150735676918 rakaia highbank\n",
       "4   2015-04-01 00:00:00 260.14434004806  rakaia highbank\n",
       "5   2015-05-01 00:00:00 139.35321437759  rakaia highbank\n",
       "6   2015-06-01 00:00:00 158.668757343844 rakaia highbank\n",
       "7   2015-07-01 00:00:00 141.940141886092 rakaia highbank\n",
       "8   2015-08-01 00:00:00 148.165122186851 rakaia highbank\n",
       "9   2015-09-01 00:00:00 128.414025644167 rakaia highbank\n",
       "10  2015-10-01 00:00:00 156.361142966169 rakaia highbank\n",
       "11  2015-11-01 00:00:00 250.530169149834 rakaia highbank\n",
       "12  2015-12-01 00:00:00 152.890476217624 rakaia highbank\n",
       "13  2016-01-01 00:00:00 191.692741845126 rakaia highbank\n",
       "14  2016-02-01 00:00:00 164.658561695425 rakaia highbank\n",
       "15  2016-03-01 00:00:00 129.82642060974  rakaia highbank\n",
       "16  2016-04-01 00:00:00 107.233578025792 rakaia highbank\n",
       "17  2016-05-01 00:00:00 160.70905462907  rakaia highbank\n",
       "18  2016-06-01 00:00:00 149.34060682575  rakaia highbank\n",
       "19  2016-07-01 00:00:00 160.083995358947 rakaia highbank\n",
       "20  2016-08-01 00:00:00 111.599360791635 rakaia highbank\n",
       "21  2016-09-01 00:00:00 138.468012898238 rakaia highbank\n",
       "22  2016-10-01 00:00:00 134.44249883536  rakaia highbank\n",
       "23  2016-11-01 00:00:00 277.148234972394 rakaia highbank\n",
       "24  2016-12-01 00:00:00 159.322636901782 rakaia highbank\n",
       "25  2017-01-01 00:00:00 248.763591909666 rakaia highbank\n",
       "26  2017-02-01 00:00:00 120.129404717144 rakaia highbank\n",
       "27  2017-03-01 00:00:00 123.412504044668 rakaia highbank\n",
       "28  2017-04-01 00:00:00 138.766920253232 rakaia highbank\n",
       "29  2017-05-01 00:00:00 112.448447474117 rakaia highbank\n",
       "30  2017-06-01 00:00:00 85.6539753327072 rakaia highbank\n",
       "⋮   ⋮          ⋮        ⋮                ⋮      ⋮       \n",
       "184 2018-06-01 00:00:00 478.163042794204 clutha clyde   \n",
       "185 2018-07-01 00:00:00 640.865724329402 clutha clyde   \n",
       "186 2018-08-01 00:00:00 561.769173849101 clutha clyde   \n",
       "187 2018-09-01 00:00:00 507.127561084524 clutha clyde   \n",
       "188 2018-10-01 00:00:00 673.1629213195   clutha clyde   \n",
       "189 2018-11-01 00:00:00 879.317763384706 clutha clyde   \n",
       "190 2018-12-01 00:00:00 521.211774238966 clutha clyde   \n",
       "191 2019-01-01 00:00:00 653.068959330141 clutha clyde   \n",
       "192 2019-02-01 00:00:00 574.24546106502  clutha clyde   \n",
       "193 2019-03-01 00:00:00 768.229668179433 clutha clyde   \n",
       "194 2019-04-01 00:00:00 745.866458715635 clutha clyde   \n",
       "195 2019-05-01 00:00:00 1183.72275646648 clutha clyde   \n",
       "196 2019-06-01 00:00:00 652.614551223071 clutha clyde   \n",
       "197 2019-07-01 00:00:00 627.85507958245  clutha clyde   \n",
       "198 2019-08-01 00:00:00 351.566219354047 clutha clyde   \n",
       "199 2019-09-01 00:00:00 411.750354948318 clutha clyde   \n",
       "200 2019-10-01 00:00:00 663.091541018584 clutha clyde   \n",
       "201 2019-11-01 00:00:00 1043.21467793656 clutha clyde   \n",
       "202 2019-12-01 00:00:00 773.014974417731 clutha clyde   \n",
       "203 2020-01-01 00:00:00 499.309010756408 clutha clyde   \n",
       "204 2020-02-01 00:00:00 801.940823124828 clutha clyde   \n",
       "205 2020-03-01 00:00:00 410.961863556967 clutha clyde   \n",
       "206 2020-04-01 00:00:00 434.426471535836 clutha clyde   \n",
       "207 2020-05-01 00:00:00 546.430474475349 clutha clyde   \n",
       "208 2020-06-01 00:00:00 681.439253953681 clutha clyde   \n",
       "209 2020-07-01 00:00:00 635.022870622245 clutha clyde   \n",
       "210 2020-08-01 00:00:00 500.130249691918 clutha clyde   \n",
       "211 2020-09-01 00:00:00 988.518272459083 clutha clyde   \n",
       "212 2020-10-01 00:00:00 885.869744735674 clutha clyde   \n",
       "213 2020-11-01 00:00:00 492.355901342211 clutha clyde   "
      ]
     },
     "metadata": {},
     "output_type": "display_data"
    }
   ],
   "source": [
    "river_data"
   ]
  },
  {
   "cell_type": "markdown",
   "id": "872af53f",
   "metadata": {},
   "source": [
    "## Webscrape hydro stations power output\n",
    "Jensen"
   ]
  },
  {
   "cell_type": "markdown",
   "id": "d9eb0a9c",
   "metadata": {},
   "source": [
    "### Information variables"
   ]
  },
  {
   "cell_type": "code",
   "execution_count": 6,
   "id": "8b51a8d1-e252-4dc3-b0bb-c066b64bb2db",
   "metadata": {},
   "outputs": [],
   "source": [
    "# Main site address\n",
    "main_url <- \"https://www.emi.ea.govt.nz\"\n",
    "# Sub address for electricity generation information\n",
    "power_url <- \"/Wholesale/Datasets/Generation/Generation_MD\"\n",
    "# Sub address for hydrostations fleet\n",
    "stations_url <- \"/Wholesale/Datasets/Generation/Generation_fleet/Existing\"\n",
    "# Sub address for network supply points\n",
    "points_url <- \"/Wholesale/Reports/R_NSPL_DR?_si=v|3\""
   ]
  },
  {
   "cell_type": "markdown",
   "id": "c9940866",
   "metadata": {},
   "source": [
    "### Retrieve generation output data"
   ]
  },
  {
   "cell_type": "code",
   "execution_count": 7,
   "id": "8ef47cc4",
   "metadata": {},
   "outputs": [
    {
     "data": {
      "text/html": [
       "'Source checkpoint'"
      ],
      "text/latex": [
       "'Source checkpoint'"
      ],
      "text/markdown": [
       "'Source checkpoint'"
      ],
      "text/plain": [
       "[1] \"Source checkpoint\""
      ]
     },
     "metadata": {},
     "output_type": "display_data"
    },
    {
     "data": {
      "text/html": [
       "'Links identification checkpoint'"
      ],
      "text/latex": [
       "'Links identification checkpoint'"
      ],
      "text/markdown": [
       "'Links identification checkpoint'"
      ],
      "text/plain": [
       "[1] \"Links identification checkpoint\""
      ]
     },
     "metadata": {},
     "output_type": "display_data"
    },
    {
     "data": {
      "text/html": [
       "'Links filtered checkpoint'"
      ],
      "text/latex": [
       "'Links filtered checkpoint'"
      ],
      "text/markdown": [
       "'Links filtered checkpoint'"
      ],
      "text/plain": [
       "[1] \"Links filtered checkpoint\""
      ]
     },
     "metadata": {},
     "output_type": "display_data"
    },
    {
     "data": {
      "text/html": [
       "'Date extraction checkpoint'"
      ],
      "text/latex": [
       "'Date extraction checkpoint'"
      ],
      "text/markdown": [
       "'Date extraction checkpoint'"
      ],
      "text/plain": [
       "[1] \"Date extraction checkpoint\""
      ]
     },
     "metadata": {},
     "output_type": "display_data"
    },
    {
     "data": {
      "text/html": [
       "'Links selected checkpoint'"
      ],
      "text/latex": [
       "'Links selected checkpoint'"
      ],
      "text/markdown": [
       "'Links selected checkpoint'"
      ],
      "text/plain": [
       "[1] \"Links selected checkpoint\""
      ]
     },
     "metadata": {},
     "output_type": "display_data"
    },
    {
     "data": {
      "text/html": [
       "'Generation retrieval checkpoint'"
      ],
      "text/latex": [
       "'Generation retrieval checkpoint'"
      ],
      "text/markdown": [
       "'Generation retrieval checkpoint'"
      ],
      "text/plain": [
       "[1] \"Generation retrieval checkpoint\""
      ]
     },
     "metadata": {},
     "output_type": "display_data"
    },
    {
     "data": {
      "text/html": [
       "'Data filter checkpoint'"
      ],
      "text/latex": [
       "'Data filter checkpoint'"
      ],
      "text/markdown": [
       "'Data filter checkpoint'"
      ],
      "text/plain": [
       "[1] \"Data filter checkpoint\""
      ]
     },
     "metadata": {},
     "output_type": "display_data"
    },
    {
     "data": {
      "text/html": [
       "'RETRIEVAL COMPLETE'"
      ],
      "text/latex": [
       "'RETRIEVAL COMPLETE'"
      ],
      "text/markdown": [
       "'RETRIEVAL COMPLETE'"
      ],
      "text/plain": [
       "[1] \"RETRIEVAL COMPLETE\""
      ]
     },
     "metadata": {},
     "output_type": "display_data"
    }
   ],
   "source": [
    "# Acquire html code from sub address\n",
    "source <- paste(main_url, power_url, sep=\"\") %>% read_html()\n",
    "\"Source checkpoint\"\n",
    "# Identify all links in the given html class\n",
    "all_links <- source %>% html_nodes(\".table\") %>% html_elements(\"a\") %>% html_attr(\"href\")\n",
    "\"Links identification checkpoint\"\n",
    "# Identify appropriate urls within links and remove duplicates\n",
    "filtered_links <- all_links[startsWith(all_links, power_url) & !duplicated(all_links)]\n",
    "\"Links filtered checkpoint\"\n",
    "# Extract date information from filtered links\n",
    "start_pos <- nchar(power_url) + 2\n",
    "dates <- substring(filtered_links , start_pos, start_pos + 3) \n",
    "\"Date extraction checkpoint\"\n",
    "# Set dates wanted\n",
    "dates_wanted <- seq(from=2015,to=2020)\n",
    "# Select links containing csv data\n",
    "selected_links <- filtered_links[dates %in% dates_wanted]\n",
    "\"Links selected checkpoint\"\n",
    "# Extract csv data into dataframes\n",
    "link <- paste(main_url, selected_links, sep=\"\") \n",
    "generation_md <- link %>% future_map_dfr(read_csv, show_col_types = FALSE)\n",
    "\"Generation retrieval checkpoint\"\n",
    "\n",
    "# Filter out non hydro stations\n",
    "generation_md_hydro <- generation_md %>% filter(Tech_Code == \"Hydro\")\n",
    "\"Data filter checkpoint\"\n",
    "\"RETRIEVAL COMPLETE\""
   ]
  },
  {
   "cell_type": "code",
   "execution_count": null,
   "id": "a07bf93b-3ac9-4ac5-bc4d-680dfa7d965d",
   "metadata": {},
   "outputs": [],
   "source": [
    "#Sujung"
   ]
  },
  {
   "cell_type": "markdown",
   "id": "5ea2c897",
   "metadata": {},
   "source": [
    "## River flows and hydrostations power output combination"
   ]
  },
  {
   "cell_type": "code",
   "execution_count": 130,
   "id": "c1223730",
   "metadata": {},
   "outputs": [
    {
     "data": {
      "text/html": [
       "<table class=\"dataframe\">\n",
       "<caption>A spec_tbl_df: 8452 × 57</caption>\n",
       "<thead>\n",
       "\t<tr><th scope=col>Site_Code</th><th scope=col>POC_Code</th><th scope=col>Nwk_Code</th><th scope=col>Gen_Code</th><th scope=col>Fuel_Code</th><th scope=col>Tech_Code</th><th scope=col>date</th><th scope=col>TP1</th><th scope=col>TP2</th><th scope=col>TP3</th><th scope=col>⋯</th><th scope=col>TP41</th><th scope=col>TP42</th><th scope=col>TP43</th><th scope=col>TP44</th><th scope=col>TP45</th><th scope=col>TP46</th><th scope=col>TP47</th><th scope=col>TP48</th><th scope=col>TP49</th><th scope=col>TP50</th></tr>\n",
       "\t<tr><th scope=col>&lt;chr&gt;</th><th scope=col>&lt;chr&gt;</th><th scope=col>&lt;chr&gt;</th><th scope=col>&lt;chr&gt;</th><th scope=col>&lt;chr&gt;</th><th scope=col>&lt;chr&gt;</th><th scope=col>&lt;date&gt;</th><th scope=col>&lt;dbl&gt;</th><th scope=col>&lt;dbl&gt;</th><th scope=col>&lt;dbl&gt;</th><th scope=col>⋯</th><th scope=col>&lt;dbl&gt;</th><th scope=col>&lt;dbl&gt;</th><th scope=col>&lt;dbl&gt;</th><th scope=col>&lt;dbl&gt;</th><th scope=col>&lt;dbl&gt;</th><th scope=col>&lt;dbl&gt;</th><th scope=col>&lt;dbl&gt;</th><th scope=col>&lt;dbl&gt;</th><th scope=col>&lt;dbl&gt;</th><th scope=col>&lt;dbl&gt;</th></tr>\n",
       "</thead>\n",
       "<tbody>\n",
       "\t<tr><td>HBK</td><td>ASB0661</td><td>EASH</td><td>highbank</td><td>Hydro</td><td>Hydro</td><td>2020-12-01</td><td>10394.654</td><td>10402.396</td><td>10400.515</td><td>⋯</td><td>10770.984</td><td>10779.275</td><td>10777.726</td><td>10787.507</td><td>10778.765</td><td>10776.972</td><td>10780.90</td><td>10781.60</td><td>NA</td><td>NA</td></tr>\n",
       "\t<tr><td>HBK</td><td>ASB0661</td><td>EASH</td><td>highbank</td><td>Hydro</td><td>Hydro</td><td>2020-12-02</td><td>10774.541</td><td>10779.167</td><td>10776.531</td><td>⋯</td><td>10287.001</td><td>10300.329</td><td>10288.844</td><td>10294.949</td><td>10295.537</td><td>10296.272</td><td>10308.60</td><td>10298.00</td><td>NA</td><td>NA</td></tr>\n",
       "\t<tr><td>HBK</td><td>ASB0661</td><td>EASH</td><td>highbank</td><td>Hydro</td><td>Hydro</td><td>2020-12-03</td><td>10282.572</td><td>10294.136</td><td>10296.615</td><td>⋯</td><td> 9656.420</td><td> 9431.461</td><td> 9409.842</td><td> 8952.222</td><td> 8913.463</td><td> 8924.997</td><td> 8928.25</td><td> 8926.29</td><td>NA</td><td>NA</td></tr>\n",
       "\t<tr><td>HBK</td><td>ASB0661</td><td>EASH</td><td>highbank</td><td>Hydro</td><td>Hydro</td><td>2020-12-04</td><td> 9050.878</td><td> 9072.595</td><td> 9059.610</td><td>⋯</td><td> 5953.667</td><td> 5956.185</td><td> 5956.146</td><td> 5497.241</td><td> 5465.989</td><td> 5464.470</td><td> 5466.65</td><td> 5466.53</td><td>NA</td><td>NA</td></tr>\n",
       "\t<tr><td>HBK</td><td>ASB0661</td><td>EASH</td><td>highbank</td><td>Hydro</td><td>Hydro</td><td>2020-12-05</td><td> 5465.519</td><td> 4542.917</td><td> 4492.036</td><td>⋯</td><td>    0.000</td><td>    0.000</td><td>    0.000</td><td>    0.000</td><td>    0.000</td><td>    0.000</td><td>    0.00</td><td>    0.00</td><td>NA</td><td>NA</td></tr>\n",
       "\t<tr><td>HBK</td><td>ASB0661</td><td>EASH</td><td>highbank</td><td>Hydro</td><td>Hydro</td><td>2020-12-06</td><td>    0.000</td><td>    0.000</td><td>    0.000</td><td>⋯</td><td>    0.000</td><td>    0.000</td><td>    0.000</td><td>    0.000</td><td>    0.000</td><td>    0.000</td><td>    0.00</td><td>    0.00</td><td>NA</td><td>NA</td></tr>\n",
       "\t<tr><td>HBK</td><td>ASB0661</td><td>EASH</td><td>highbank</td><td>Hydro</td><td>Hydro</td><td>2020-12-07</td><td>    0.000</td><td>    0.000</td><td>    0.000</td><td>⋯</td><td>    0.000</td><td>    0.000</td><td>    0.000</td><td>    0.000</td><td>    0.000</td><td>    0.000</td><td>    0.00</td><td>    0.00</td><td>NA</td><td>NA</td></tr>\n",
       "\t<tr><td>HBK</td><td>ASB0661</td><td>EASH</td><td>highbank</td><td>Hydro</td><td>Hydro</td><td>2020-12-08</td><td>    0.000</td><td>    0.000</td><td>    0.000</td><td>⋯</td><td>    0.000</td><td>    0.000</td><td>    0.000</td><td>    0.000</td><td>    0.000</td><td>    0.000</td><td>    0.00</td><td>    0.00</td><td>NA</td><td>NA</td></tr>\n",
       "\t<tr><td>HBK</td><td>ASB0661</td><td>EASH</td><td>highbank</td><td>Hydro</td><td>Hydro</td><td>2020-12-09</td><td>    0.000</td><td>    0.000</td><td>    0.000</td><td>⋯</td><td>    0.000</td><td>    0.000</td><td>    0.000</td><td>    0.000</td><td>    0.000</td><td>    0.000</td><td>    0.00</td><td>    0.00</td><td>NA</td><td>NA</td></tr>\n",
       "\t<tr><td>HBK</td><td>ASB0661</td><td>EASH</td><td>highbank</td><td>Hydro</td><td>Hydro</td><td>2020-12-10</td><td>    0.000</td><td>    0.000</td><td>    0.000</td><td>⋯</td><td>    0.000</td><td>    0.000</td><td>    0.000</td><td>    0.000</td><td>    0.000</td><td>    0.000</td><td>    0.00</td><td>    0.00</td><td>NA</td><td>NA</td></tr>\n",
       "\t<tr><td>HBK</td><td>ASB0661</td><td>EASH</td><td>highbank</td><td>Hydro</td><td>Hydro</td><td>2020-12-11</td><td>    0.000</td><td>    0.000</td><td>    0.000</td><td>⋯</td><td>    0.000</td><td>    0.000</td><td>    0.000</td><td>    0.000</td><td>    0.000</td><td>    0.000</td><td>    0.00</td><td>    0.00</td><td>NA</td><td>NA</td></tr>\n",
       "\t<tr><td>HBK</td><td>ASB0661</td><td>EASH</td><td>highbank</td><td>Hydro</td><td>Hydro</td><td>2020-12-12</td><td>    0.000</td><td>    0.000</td><td>    0.000</td><td>⋯</td><td>    0.000</td><td>    0.000</td><td>    0.000</td><td>    0.000</td><td>    0.000</td><td>    0.000</td><td>    0.00</td><td>    0.00</td><td>NA</td><td>NA</td></tr>\n",
       "\t<tr><td>HBK</td><td>ASB0661</td><td>EASH</td><td>highbank</td><td>Hydro</td><td>Hydro</td><td>2020-12-13</td><td>    0.000</td><td>    0.000</td><td>    0.000</td><td>⋯</td><td>    0.000</td><td>    0.000</td><td>    0.000</td><td>    0.000</td><td>    0.000</td><td>    0.000</td><td>    0.00</td><td>    0.00</td><td>NA</td><td>NA</td></tr>\n",
       "\t<tr><td>HBK</td><td>ASB0661</td><td>EASH</td><td>highbank</td><td>Hydro</td><td>Hydro</td><td>2020-12-14</td><td>    0.000</td><td>    0.000</td><td>    0.000</td><td>⋯</td><td>    0.000</td><td>    0.000</td><td>    0.000</td><td>    0.000</td><td>    0.000</td><td>    0.000</td><td>    0.00</td><td>    0.00</td><td>NA</td><td>NA</td></tr>\n",
       "\t<tr><td>HBK</td><td>ASB0661</td><td>EASH</td><td>highbank</td><td>Hydro</td><td>Hydro</td><td>2020-12-15</td><td>    0.000</td><td>    0.000</td><td>    0.000</td><td>⋯</td><td>    0.000</td><td>    0.000</td><td>    0.000</td><td>    0.000</td><td>    0.000</td><td>    0.000</td><td>    0.00</td><td>    0.00</td><td>NA</td><td>NA</td></tr>\n",
       "\t<tr><td>HBK</td><td>ASB0661</td><td>EASH</td><td>highbank</td><td>Hydro</td><td>Hydro</td><td>2020-12-16</td><td>    0.000</td><td>    0.000</td><td>    0.000</td><td>⋯</td><td>    0.000</td><td>    0.000</td><td>    0.000</td><td>    0.000</td><td>    0.000</td><td>    0.000</td><td>    0.00</td><td>    0.00</td><td>NA</td><td>NA</td></tr>\n",
       "\t<tr><td>HBK</td><td>ASB0661</td><td>EASH</td><td>highbank</td><td>Hydro</td><td>Hydro</td><td>2020-12-17</td><td>    0.000</td><td>    0.000</td><td>    0.000</td><td>⋯</td><td>    0.000</td><td>    0.000</td><td>    0.000</td><td>    0.000</td><td>    0.000</td><td>    0.000</td><td>    0.00</td><td>    0.00</td><td>NA</td><td>NA</td></tr>\n",
       "\t<tr><td>HBK</td><td>ASB0661</td><td>EASH</td><td>highbank</td><td>Hydro</td><td>Hydro</td><td>2020-12-18</td><td>    0.000</td><td>    0.000</td><td>    0.000</td><td>⋯</td><td>    0.000</td><td>    0.000</td><td>    0.000</td><td>    0.000</td><td>    0.000</td><td>    0.000</td><td>    0.00</td><td>    0.00</td><td>NA</td><td>NA</td></tr>\n",
       "\t<tr><td>HBK</td><td>ASB0661</td><td>EASH</td><td>highbank</td><td>Hydro</td><td>Hydro</td><td>2020-12-19</td><td>    0.000</td><td>    0.000</td><td>    0.000</td><td>⋯</td><td>    0.000</td><td>    0.000</td><td>    0.000</td><td>    0.000</td><td>    0.000</td><td>    0.000</td><td>    0.00</td><td>    0.00</td><td>NA</td><td>NA</td></tr>\n",
       "\t<tr><td>HBK</td><td>ASB0661</td><td>EASH</td><td>highbank</td><td>Hydro</td><td>Hydro</td><td>2020-12-20</td><td>    0.000</td><td>    0.000</td><td>    0.000</td><td>⋯</td><td>    0.000</td><td>    0.000</td><td>    0.000</td><td>    0.000</td><td>    0.000</td><td>    0.000</td><td>    0.00</td><td>    0.00</td><td>NA</td><td>NA</td></tr>\n",
       "\t<tr><td>HBK</td><td>ASB0661</td><td>EASH</td><td>highbank</td><td>Hydro</td><td>Hydro</td><td>2020-12-21</td><td>    0.000</td><td>    0.000</td><td>    0.000</td><td>⋯</td><td>    0.000</td><td>    0.000</td><td>    0.000</td><td>    0.000</td><td>    0.000</td><td>    0.000</td><td>    0.00</td><td>    0.00</td><td>NA</td><td>NA</td></tr>\n",
       "\t<tr><td>HBK</td><td>ASB0661</td><td>EASH</td><td>highbank</td><td>Hydro</td><td>Hydro</td><td>2020-12-22</td><td>    0.000</td><td>    0.000</td><td>    0.000</td><td>⋯</td><td>    0.000</td><td>    0.000</td><td>    0.000</td><td>    0.000</td><td>    0.000</td><td>    0.000</td><td>    0.00</td><td>    0.00</td><td>NA</td><td>NA</td></tr>\n",
       "\t<tr><td>HBK</td><td>ASB0661</td><td>EASH</td><td>highbank</td><td>Hydro</td><td>Hydro</td><td>2020-12-23</td><td>    0.000</td><td>    0.000</td><td>    0.000</td><td>⋯</td><td>    0.000</td><td>    0.000</td><td>    0.000</td><td>    0.000</td><td>    0.000</td><td>    0.000</td><td>    0.00</td><td>    0.00</td><td>NA</td><td>NA</td></tr>\n",
       "\t<tr><td>HBK</td><td>ASB0661</td><td>EASH</td><td>highbank</td><td>Hydro</td><td>Hydro</td><td>2020-12-24</td><td>    0.000</td><td>    0.000</td><td>    0.000</td><td>⋯</td><td> 4342.390</td><td> 4382.717</td><td> 5286.051</td><td> 5370.390</td><td> 6327.713</td><td> 6345.314</td><td> 6347.73</td><td> 6349.67</td><td>NA</td><td>NA</td></tr>\n",
       "\t<tr><td>HBK</td><td>ASB0661</td><td>EASH</td><td>highbank</td><td>Hydro</td><td>Hydro</td><td>2020-12-25</td><td> 6350.008</td><td> 5135.729</td><td> 4259.678</td><td>⋯</td><td> 7084.567</td><td> 7797.654</td><td> 7829.524</td><td> 8297.983</td><td> 8320.474</td><td> 8319.102</td><td> 8325.92</td><td> 8318.18</td><td>NA</td><td>NA</td></tr>\n",
       "\t<tr><td>HBK</td><td>ASB0661</td><td>EASH</td><td>highbank</td><td>Hydro</td><td>Hydro</td><td>2020-12-26</td><td> 8316.496</td><td> 8805.016</td><td> 8826.664</td><td>⋯</td><td> 9302.591</td><td> 9303.160</td><td> 9302.542</td><td> 9778.930</td><td> 9807.634</td><td>10270.792</td><td>10287.70</td><td>10283.20</td><td>NA</td><td>NA</td></tr>\n",
       "\t<tr><td>HBK</td><td>ASB0661</td><td>EASH</td><td>highbank</td><td>Hydro</td><td>Hydro</td><td>2020-12-27</td><td>10286.854</td><td>10284.884</td><td>10291.352</td><td>⋯</td><td>10046.989</td><td>10049.802</td><td>10048.508</td><td>10047.421</td><td>10365.901</td><td>10392.655</td><td>10390.20</td><td>10392.80</td><td>NA</td><td>NA</td></tr>\n",
       "\t<tr><td>HBK</td><td>ASB0661</td><td>EASH</td><td>highbank</td><td>Hydro</td><td>Hydro</td><td>2020-12-28</td><td>10405.434</td><td>10392.322</td><td>10395.448</td><td>⋯</td><td>10779.716</td><td>10779.118</td><td>10781.264</td><td>10779.706</td><td>10784.096</td><td>10780.833</td><td>10404.40</td><td>10390.30</td><td>NA</td><td>NA</td></tr>\n",
       "\t<tr><td>HBK</td><td>ASB0661</td><td>EASH</td><td>highbank</td><td>Hydro</td><td>Hydro</td><td>2020-12-29</td><td>10393.184</td><td>10392.234</td><td>10391.283</td><td>⋯</td><td>10634.597</td><td>10415.597</td><td>10393.282</td><td>10401.622</td><td>10400.358</td><td>10401.387</td><td>10402.80</td><td>10402.10</td><td>NA</td><td>NA</td></tr>\n",
       "\t<tr><td>HBK</td><td>ASB0661</td><td>EASH</td><td>highbank</td><td>Hydro</td><td>Hydro</td><td>2020-12-30</td><td>10401.749</td><td>10398.878</td><td>10400.250</td><td>⋯</td><td>10148.762</td><td>10151.065</td><td>10149.811</td><td>10149.399</td><td>10150.556</td><td>10148.988</td><td>10151.10</td><td>10283.80</td><td>NA</td><td>NA</td></tr>\n",
       "\t<tr><td>⋮</td><td>⋮</td><td>⋮</td><td>⋮</td><td>⋮</td><td>⋮</td><td>⋮</td><td>⋮</td><td>⋮</td><td>⋮</td><td>⋱</td><td>⋮</td><td>⋮</td><td>⋮</td><td>⋮</td><td>⋮</td><td>⋮</td><td>⋮</td><td>⋮</td><td>⋮</td><td>⋮</td></tr>\n",
       "\t<tr><td>HBK</td><td>ASB0661</td><td>EASH</td><td>highbank</td><td>Hydro</td><td>Hydro</td><td>2015-01-02</td><td>0</td><td>0</td><td>0</td><td>⋯</td><td>   0.00</td><td>  0.000</td><td>0</td><td>0</td><td>0</td><td>0</td><td>0</td><td>0</td><td>NA</td><td>NA</td></tr>\n",
       "\t<tr><td>HBK</td><td>ASB0661</td><td>EASH</td><td>highbank</td><td>Hydro</td><td>Hydro</td><td>2015-01-03</td><td>0</td><td>0</td><td>0</td><td>⋯</td><td>   0.00</td><td>  0.000</td><td>0</td><td>0</td><td>0</td><td>0</td><td>0</td><td>0</td><td>NA</td><td>NA</td></tr>\n",
       "\t<tr><td>HBK</td><td>ASB0661</td><td>EASH</td><td>highbank</td><td>Hydro</td><td>Hydro</td><td>2015-01-04</td><td>0</td><td>0</td><td>0</td><td>⋯</td><td>   0.00</td><td>  0.000</td><td>0</td><td>0</td><td>0</td><td>0</td><td>0</td><td>0</td><td>NA</td><td>NA</td></tr>\n",
       "\t<tr><td>HBK</td><td>ASB0661</td><td>EASH</td><td>highbank</td><td>Hydro</td><td>Hydro</td><td>2015-01-05</td><td>0</td><td>0</td><td>0</td><td>⋯</td><td>   0.00</td><td>  0.000</td><td>0</td><td>0</td><td>0</td><td>0</td><td>0</td><td>0</td><td>NA</td><td>NA</td></tr>\n",
       "\t<tr><td>HBK</td><td>ASB0661</td><td>EASH</td><td>highbank</td><td>Hydro</td><td>Hydro</td><td>2015-01-06</td><td>0</td><td>0</td><td>0</td><td>⋯</td><td>   0.00</td><td>  0.000</td><td>0</td><td>0</td><td>0</td><td>0</td><td>0</td><td>0</td><td>NA</td><td>NA</td></tr>\n",
       "\t<tr><td>HBK</td><td>ASB0661</td><td>EASH</td><td>highbank</td><td>Hydro</td><td>Hydro</td><td>2015-01-07</td><td>0</td><td>0</td><td>0</td><td>⋯</td><td>   0.00</td><td>  0.000</td><td>0</td><td>0</td><td>0</td><td>0</td><td>0</td><td>0</td><td>NA</td><td>NA</td></tr>\n",
       "\t<tr><td>HBK</td><td>ASB0661</td><td>EASH</td><td>highbank</td><td>Hydro</td><td>Hydro</td><td>2015-01-08</td><td>0</td><td>0</td><td>0</td><td>⋯</td><td>   0.00</td><td>  0.000</td><td>0</td><td>0</td><td>0</td><td>0</td><td>0</td><td>0</td><td>NA</td><td>NA</td></tr>\n",
       "\t<tr><td>HBK</td><td>ASB0661</td><td>EASH</td><td>highbank</td><td>Hydro</td><td>Hydro</td><td>2015-01-09</td><td>0</td><td>0</td><td>0</td><td>⋯</td><td>   0.00</td><td>  0.000</td><td>0</td><td>0</td><td>0</td><td>0</td><td>0</td><td>0</td><td>NA</td><td>NA</td></tr>\n",
       "\t<tr><td>HBK</td><td>ASB0661</td><td>EASH</td><td>highbank</td><td>Hydro</td><td>Hydro</td><td>2015-01-10</td><td>0</td><td>0</td><td>0</td><td>⋯</td><td>   0.00</td><td>  0.000</td><td>0</td><td>0</td><td>0</td><td>0</td><td>0</td><td>0</td><td>NA</td><td>NA</td></tr>\n",
       "\t<tr><td>HBK</td><td>ASB0661</td><td>EASH</td><td>highbank</td><td>Hydro</td><td>Hydro</td><td>2015-01-11</td><td>0</td><td>0</td><td>0</td><td>⋯</td><td>   0.00</td><td>  0.000</td><td>0</td><td>0</td><td>0</td><td>0</td><td>0</td><td>0</td><td>NA</td><td>NA</td></tr>\n",
       "\t<tr><td>HBK</td><td>ASB0661</td><td>EASH</td><td>highbank</td><td>Hydro</td><td>Hydro</td><td>2015-01-12</td><td>0</td><td>0</td><td>0</td><td>⋯</td><td>   0.00</td><td>  0.000</td><td>0</td><td>0</td><td>0</td><td>0</td><td>0</td><td>0</td><td>NA</td><td>NA</td></tr>\n",
       "\t<tr><td>HBK</td><td>ASB0661</td><td>EASH</td><td>highbank</td><td>Hydro</td><td>Hydro</td><td>2015-01-13</td><td>0</td><td>0</td><td>0</td><td>⋯</td><td>   0.00</td><td>  0.000</td><td>0</td><td>0</td><td>0</td><td>0</td><td>0</td><td>0</td><td>NA</td><td>NA</td></tr>\n",
       "\t<tr><td>HBK</td><td>ASB0661</td><td>EASH</td><td>highbank</td><td>Hydro</td><td>Hydro</td><td>2015-01-14</td><td>0</td><td>0</td><td>0</td><td>⋯</td><td>   0.00</td><td>  0.000</td><td>0</td><td>0</td><td>0</td><td>0</td><td>0</td><td>0</td><td>NA</td><td>NA</td></tr>\n",
       "\t<tr><td>HBK</td><td>ASB0661</td><td>EASH</td><td>highbank</td><td>Hydro</td><td>Hydro</td><td>2015-01-15</td><td>0</td><td>0</td><td>0</td><td>⋯</td><td>   0.00</td><td>  0.000</td><td>0</td><td>0</td><td>0</td><td>0</td><td>0</td><td>0</td><td>NA</td><td>NA</td></tr>\n",
       "\t<tr><td>HBK</td><td>ASB0661</td><td>EASH</td><td>highbank</td><td>Hydro</td><td>Hydro</td><td>2015-01-16</td><td>0</td><td>0</td><td>0</td><td>⋯</td><td>   0.00</td><td>  0.000</td><td>0</td><td>0</td><td>0</td><td>0</td><td>0</td><td>0</td><td>NA</td><td>NA</td></tr>\n",
       "\t<tr><td>HBK</td><td>ASB0661</td><td>EASH</td><td>highbank</td><td>Hydro</td><td>Hydro</td><td>2015-01-17</td><td>0</td><td>0</td><td>0</td><td>⋯</td><td>   0.00</td><td>  0.000</td><td>0</td><td>0</td><td>0</td><td>0</td><td>0</td><td>0</td><td>NA</td><td>NA</td></tr>\n",
       "\t<tr><td>HBK</td><td>ASB0661</td><td>EASH</td><td>highbank</td><td>Hydro</td><td>Hydro</td><td>2015-01-18</td><td>0</td><td>0</td><td>0</td><td>⋯</td><td>   0.00</td><td>  0.000</td><td>0</td><td>0</td><td>0</td><td>0</td><td>0</td><td>0</td><td>NA</td><td>NA</td></tr>\n",
       "\t<tr><td>HBK</td><td>ASB0661</td><td>EASH</td><td>highbank</td><td>Hydro</td><td>Hydro</td><td>2015-01-19</td><td>0</td><td>0</td><td>0</td><td>⋯</td><td>   0.00</td><td>  0.000</td><td>0</td><td>0</td><td>0</td><td>0</td><td>0</td><td>0</td><td>NA</td><td>NA</td></tr>\n",
       "\t<tr><td>HBK</td><td>ASB0661</td><td>EASH</td><td>highbank</td><td>Hydro</td><td>Hydro</td><td>2015-01-20</td><td>0</td><td>0</td><td>0</td><td>⋯</td><td>   0.00</td><td>  0.000</td><td>0</td><td>0</td><td>0</td><td>0</td><td>0</td><td>0</td><td>NA</td><td>NA</td></tr>\n",
       "\t<tr><td>HBK</td><td>ASB0661</td><td>EASH</td><td>highbank</td><td>Hydro</td><td>Hydro</td><td>2015-01-21</td><td>0</td><td>0</td><td>0</td><td>⋯</td><td>   0.00</td><td>  0.000</td><td>0</td><td>0</td><td>0</td><td>0</td><td>0</td><td>0</td><td>NA</td><td>NA</td></tr>\n",
       "\t<tr><td>HBK</td><td>ASB0661</td><td>EASH</td><td>highbank</td><td>Hydro</td><td>Hydro</td><td>2015-01-22</td><td>0</td><td>0</td><td>0</td><td>⋯</td><td>   0.00</td><td>  0.000</td><td>0</td><td>0</td><td>0</td><td>0</td><td>0</td><td>0</td><td>NA</td><td>NA</td></tr>\n",
       "\t<tr><td>HBK</td><td>ASB0661</td><td>EASH</td><td>highbank</td><td>Hydro</td><td>Hydro</td><td>2015-01-23</td><td>0</td><td>0</td><td>0</td><td>⋯</td><td>   0.00</td><td>  0.000</td><td>0</td><td>0</td><td>0</td><td>0</td><td>0</td><td>0</td><td>NA</td><td>NA</td></tr>\n",
       "\t<tr><td>HBK</td><td>ASB0661</td><td>EASH</td><td>highbank</td><td>Hydro</td><td>Hydro</td><td>2015-01-24</td><td>0</td><td>0</td><td>0</td><td>⋯</td><td>   0.00</td><td>  0.000</td><td>0</td><td>0</td><td>0</td><td>0</td><td>0</td><td>0</td><td>NA</td><td>NA</td></tr>\n",
       "\t<tr><td>HBK</td><td>ASB0661</td><td>EASH</td><td>highbank</td><td>Hydro</td><td>Hydro</td><td>2015-01-25</td><td>0</td><td>0</td><td>0</td><td>⋯</td><td>   0.00</td><td>  0.000</td><td>0</td><td>0</td><td>0</td><td>0</td><td>0</td><td>0</td><td>NA</td><td>NA</td></tr>\n",
       "\t<tr><td>HBK</td><td>ASB0661</td><td>EASH</td><td>highbank</td><td>Hydro</td><td>Hydro</td><td>2015-01-26</td><td>0</td><td>0</td><td>0</td><td>⋯</td><td>   0.00</td><td>  0.000</td><td>0</td><td>0</td><td>0</td><td>0</td><td>0</td><td>0</td><td>NA</td><td>NA</td></tr>\n",
       "\t<tr><td>HBK</td><td>ASB0661</td><td>EASH</td><td>highbank</td><td>Hydro</td><td>Hydro</td><td>2015-01-27</td><td>0</td><td>0</td><td>0</td><td>⋯</td><td>   0.00</td><td>  0.000</td><td>0</td><td>0</td><td>0</td><td>0</td><td>0</td><td>0</td><td>NA</td><td>NA</td></tr>\n",
       "\t<tr><td>HBK</td><td>ASB0661</td><td>EASH</td><td>highbank</td><td>Hydro</td><td>Hydro</td><td>2015-01-28</td><td>0</td><td>0</td><td>0</td><td>⋯</td><td>2342.42</td><td>973.957</td><td>0</td><td>0</td><td>0</td><td>0</td><td>0</td><td>0</td><td>NA</td><td>NA</td></tr>\n",
       "\t<tr><td>HBK</td><td>ASB0661</td><td>EASH</td><td>highbank</td><td>Hydro</td><td>Hydro</td><td>2015-01-29</td><td>0</td><td>0</td><td>0</td><td>⋯</td><td>   0.00</td><td>  0.000</td><td>0</td><td>0</td><td>0</td><td>0</td><td>0</td><td>0</td><td>NA</td><td>NA</td></tr>\n",
       "\t<tr><td>HBK</td><td>ASB0661</td><td>EASH</td><td>highbank</td><td>Hydro</td><td>Hydro</td><td>2015-01-30</td><td>0</td><td>0</td><td>0</td><td>⋯</td><td>   0.00</td><td>  0.000</td><td>0</td><td>0</td><td>0</td><td>0</td><td>0</td><td>0</td><td>NA</td><td>NA</td></tr>\n",
       "\t<tr><td>HBK</td><td>ASB0661</td><td>EASH</td><td>highbank</td><td>Hydro</td><td>Hydro</td><td>2015-01-31</td><td>0</td><td>0</td><td>0</td><td>⋯</td><td>   0.00</td><td>  0.000</td><td>0</td><td>0</td><td>0</td><td>0</td><td>0</td><td>0</td><td>NA</td><td>NA</td></tr>\n",
       "</tbody>\n",
       "</table>\n"
      ],
      "text/latex": [
       "A spec\\_tbl\\_df: 8452 × 57\n",
       "\\begin{tabular}{lllllllllllllllllllll}\n",
       " Site\\_Code & POC\\_Code & Nwk\\_Code & Gen\\_Code & Fuel\\_Code & Tech\\_Code & date & TP1 & TP2 & TP3 & ⋯ & TP41 & TP42 & TP43 & TP44 & TP45 & TP46 & TP47 & TP48 & TP49 & TP50\\\\\n",
       " <chr> & <chr> & <chr> & <chr> & <chr> & <chr> & <date> & <dbl> & <dbl> & <dbl> & ⋯ & <dbl> & <dbl> & <dbl> & <dbl> & <dbl> & <dbl> & <dbl> & <dbl> & <dbl> & <dbl>\\\\\n",
       "\\hline\n",
       "\t HBK & ASB0661 & EASH & highbank & Hydro & Hydro & 2020-12-01 & 10394.654 & 10402.396 & 10400.515 & ⋯ & 10770.984 & 10779.275 & 10777.726 & 10787.507 & 10778.765 & 10776.972 & 10780.90 & 10781.60 & NA & NA\\\\\n",
       "\t HBK & ASB0661 & EASH & highbank & Hydro & Hydro & 2020-12-02 & 10774.541 & 10779.167 & 10776.531 & ⋯ & 10287.001 & 10300.329 & 10288.844 & 10294.949 & 10295.537 & 10296.272 & 10308.60 & 10298.00 & NA & NA\\\\\n",
       "\t HBK & ASB0661 & EASH & highbank & Hydro & Hydro & 2020-12-03 & 10282.572 & 10294.136 & 10296.615 & ⋯ &  9656.420 &  9431.461 &  9409.842 &  8952.222 &  8913.463 &  8924.997 &  8928.25 &  8926.29 & NA & NA\\\\\n",
       "\t HBK & ASB0661 & EASH & highbank & Hydro & Hydro & 2020-12-04 &  9050.878 &  9072.595 &  9059.610 & ⋯ &  5953.667 &  5956.185 &  5956.146 &  5497.241 &  5465.989 &  5464.470 &  5466.65 &  5466.53 & NA & NA\\\\\n",
       "\t HBK & ASB0661 & EASH & highbank & Hydro & Hydro & 2020-12-05 &  5465.519 &  4542.917 &  4492.036 & ⋯ &     0.000 &     0.000 &     0.000 &     0.000 &     0.000 &     0.000 &     0.00 &     0.00 & NA & NA\\\\\n",
       "\t HBK & ASB0661 & EASH & highbank & Hydro & Hydro & 2020-12-06 &     0.000 &     0.000 &     0.000 & ⋯ &     0.000 &     0.000 &     0.000 &     0.000 &     0.000 &     0.000 &     0.00 &     0.00 & NA & NA\\\\\n",
       "\t HBK & ASB0661 & EASH & highbank & Hydro & Hydro & 2020-12-07 &     0.000 &     0.000 &     0.000 & ⋯ &     0.000 &     0.000 &     0.000 &     0.000 &     0.000 &     0.000 &     0.00 &     0.00 & NA & NA\\\\\n",
       "\t HBK & ASB0661 & EASH & highbank & Hydro & Hydro & 2020-12-08 &     0.000 &     0.000 &     0.000 & ⋯ &     0.000 &     0.000 &     0.000 &     0.000 &     0.000 &     0.000 &     0.00 &     0.00 & NA & NA\\\\\n",
       "\t HBK & ASB0661 & EASH & highbank & Hydro & Hydro & 2020-12-09 &     0.000 &     0.000 &     0.000 & ⋯ &     0.000 &     0.000 &     0.000 &     0.000 &     0.000 &     0.000 &     0.00 &     0.00 & NA & NA\\\\\n",
       "\t HBK & ASB0661 & EASH & highbank & Hydro & Hydro & 2020-12-10 &     0.000 &     0.000 &     0.000 & ⋯ &     0.000 &     0.000 &     0.000 &     0.000 &     0.000 &     0.000 &     0.00 &     0.00 & NA & NA\\\\\n",
       "\t HBK & ASB0661 & EASH & highbank & Hydro & Hydro & 2020-12-11 &     0.000 &     0.000 &     0.000 & ⋯ &     0.000 &     0.000 &     0.000 &     0.000 &     0.000 &     0.000 &     0.00 &     0.00 & NA & NA\\\\\n",
       "\t HBK & ASB0661 & EASH & highbank & Hydro & Hydro & 2020-12-12 &     0.000 &     0.000 &     0.000 & ⋯ &     0.000 &     0.000 &     0.000 &     0.000 &     0.000 &     0.000 &     0.00 &     0.00 & NA & NA\\\\\n",
       "\t HBK & ASB0661 & EASH & highbank & Hydro & Hydro & 2020-12-13 &     0.000 &     0.000 &     0.000 & ⋯ &     0.000 &     0.000 &     0.000 &     0.000 &     0.000 &     0.000 &     0.00 &     0.00 & NA & NA\\\\\n",
       "\t HBK & ASB0661 & EASH & highbank & Hydro & Hydro & 2020-12-14 &     0.000 &     0.000 &     0.000 & ⋯ &     0.000 &     0.000 &     0.000 &     0.000 &     0.000 &     0.000 &     0.00 &     0.00 & NA & NA\\\\\n",
       "\t HBK & ASB0661 & EASH & highbank & Hydro & Hydro & 2020-12-15 &     0.000 &     0.000 &     0.000 & ⋯ &     0.000 &     0.000 &     0.000 &     0.000 &     0.000 &     0.000 &     0.00 &     0.00 & NA & NA\\\\\n",
       "\t HBK & ASB0661 & EASH & highbank & Hydro & Hydro & 2020-12-16 &     0.000 &     0.000 &     0.000 & ⋯ &     0.000 &     0.000 &     0.000 &     0.000 &     0.000 &     0.000 &     0.00 &     0.00 & NA & NA\\\\\n",
       "\t HBK & ASB0661 & EASH & highbank & Hydro & Hydro & 2020-12-17 &     0.000 &     0.000 &     0.000 & ⋯ &     0.000 &     0.000 &     0.000 &     0.000 &     0.000 &     0.000 &     0.00 &     0.00 & NA & NA\\\\\n",
       "\t HBK & ASB0661 & EASH & highbank & Hydro & Hydro & 2020-12-18 &     0.000 &     0.000 &     0.000 & ⋯ &     0.000 &     0.000 &     0.000 &     0.000 &     0.000 &     0.000 &     0.00 &     0.00 & NA & NA\\\\\n",
       "\t HBK & ASB0661 & EASH & highbank & Hydro & Hydro & 2020-12-19 &     0.000 &     0.000 &     0.000 & ⋯ &     0.000 &     0.000 &     0.000 &     0.000 &     0.000 &     0.000 &     0.00 &     0.00 & NA & NA\\\\\n",
       "\t HBK & ASB0661 & EASH & highbank & Hydro & Hydro & 2020-12-20 &     0.000 &     0.000 &     0.000 & ⋯ &     0.000 &     0.000 &     0.000 &     0.000 &     0.000 &     0.000 &     0.00 &     0.00 & NA & NA\\\\\n",
       "\t HBK & ASB0661 & EASH & highbank & Hydro & Hydro & 2020-12-21 &     0.000 &     0.000 &     0.000 & ⋯ &     0.000 &     0.000 &     0.000 &     0.000 &     0.000 &     0.000 &     0.00 &     0.00 & NA & NA\\\\\n",
       "\t HBK & ASB0661 & EASH & highbank & Hydro & Hydro & 2020-12-22 &     0.000 &     0.000 &     0.000 & ⋯ &     0.000 &     0.000 &     0.000 &     0.000 &     0.000 &     0.000 &     0.00 &     0.00 & NA & NA\\\\\n",
       "\t HBK & ASB0661 & EASH & highbank & Hydro & Hydro & 2020-12-23 &     0.000 &     0.000 &     0.000 & ⋯ &     0.000 &     0.000 &     0.000 &     0.000 &     0.000 &     0.000 &     0.00 &     0.00 & NA & NA\\\\\n",
       "\t HBK & ASB0661 & EASH & highbank & Hydro & Hydro & 2020-12-24 &     0.000 &     0.000 &     0.000 & ⋯ &  4342.390 &  4382.717 &  5286.051 &  5370.390 &  6327.713 &  6345.314 &  6347.73 &  6349.67 & NA & NA\\\\\n",
       "\t HBK & ASB0661 & EASH & highbank & Hydro & Hydro & 2020-12-25 &  6350.008 &  5135.729 &  4259.678 & ⋯ &  7084.567 &  7797.654 &  7829.524 &  8297.983 &  8320.474 &  8319.102 &  8325.92 &  8318.18 & NA & NA\\\\\n",
       "\t HBK & ASB0661 & EASH & highbank & Hydro & Hydro & 2020-12-26 &  8316.496 &  8805.016 &  8826.664 & ⋯ &  9302.591 &  9303.160 &  9302.542 &  9778.930 &  9807.634 & 10270.792 & 10287.70 & 10283.20 & NA & NA\\\\\n",
       "\t HBK & ASB0661 & EASH & highbank & Hydro & Hydro & 2020-12-27 & 10286.854 & 10284.884 & 10291.352 & ⋯ & 10046.989 & 10049.802 & 10048.508 & 10047.421 & 10365.901 & 10392.655 & 10390.20 & 10392.80 & NA & NA\\\\\n",
       "\t HBK & ASB0661 & EASH & highbank & Hydro & Hydro & 2020-12-28 & 10405.434 & 10392.322 & 10395.448 & ⋯ & 10779.716 & 10779.118 & 10781.264 & 10779.706 & 10784.096 & 10780.833 & 10404.40 & 10390.30 & NA & NA\\\\\n",
       "\t HBK & ASB0661 & EASH & highbank & Hydro & Hydro & 2020-12-29 & 10393.184 & 10392.234 & 10391.283 & ⋯ & 10634.597 & 10415.597 & 10393.282 & 10401.622 & 10400.358 & 10401.387 & 10402.80 & 10402.10 & NA & NA\\\\\n",
       "\t HBK & ASB0661 & EASH & highbank & Hydro & Hydro & 2020-12-30 & 10401.749 & 10398.878 & 10400.250 & ⋯ & 10148.762 & 10151.065 & 10149.811 & 10149.399 & 10150.556 & 10148.988 & 10151.10 & 10283.80 & NA & NA\\\\\n",
       "\t ⋮ & ⋮ & ⋮ & ⋮ & ⋮ & ⋮ & ⋮ & ⋮ & ⋮ & ⋮ & ⋱ & ⋮ & ⋮ & ⋮ & ⋮ & ⋮ & ⋮ & ⋮ & ⋮ & ⋮ & ⋮\\\\\n",
       "\t HBK & ASB0661 & EASH & highbank & Hydro & Hydro & 2015-01-02 & 0 & 0 & 0 & ⋯ &    0.00 &   0.000 & 0 & 0 & 0 & 0 & 0 & 0 & NA & NA\\\\\n",
       "\t HBK & ASB0661 & EASH & highbank & Hydro & Hydro & 2015-01-03 & 0 & 0 & 0 & ⋯ &    0.00 &   0.000 & 0 & 0 & 0 & 0 & 0 & 0 & NA & NA\\\\\n",
       "\t HBK & ASB0661 & EASH & highbank & Hydro & Hydro & 2015-01-04 & 0 & 0 & 0 & ⋯ &    0.00 &   0.000 & 0 & 0 & 0 & 0 & 0 & 0 & NA & NA\\\\\n",
       "\t HBK & ASB0661 & EASH & highbank & Hydro & Hydro & 2015-01-05 & 0 & 0 & 0 & ⋯ &    0.00 &   0.000 & 0 & 0 & 0 & 0 & 0 & 0 & NA & NA\\\\\n",
       "\t HBK & ASB0661 & EASH & highbank & Hydro & Hydro & 2015-01-06 & 0 & 0 & 0 & ⋯ &    0.00 &   0.000 & 0 & 0 & 0 & 0 & 0 & 0 & NA & NA\\\\\n",
       "\t HBK & ASB0661 & EASH & highbank & Hydro & Hydro & 2015-01-07 & 0 & 0 & 0 & ⋯ &    0.00 &   0.000 & 0 & 0 & 0 & 0 & 0 & 0 & NA & NA\\\\\n",
       "\t HBK & ASB0661 & EASH & highbank & Hydro & Hydro & 2015-01-08 & 0 & 0 & 0 & ⋯ &    0.00 &   0.000 & 0 & 0 & 0 & 0 & 0 & 0 & NA & NA\\\\\n",
       "\t HBK & ASB0661 & EASH & highbank & Hydro & Hydro & 2015-01-09 & 0 & 0 & 0 & ⋯ &    0.00 &   0.000 & 0 & 0 & 0 & 0 & 0 & 0 & NA & NA\\\\\n",
       "\t HBK & ASB0661 & EASH & highbank & Hydro & Hydro & 2015-01-10 & 0 & 0 & 0 & ⋯ &    0.00 &   0.000 & 0 & 0 & 0 & 0 & 0 & 0 & NA & NA\\\\\n",
       "\t HBK & ASB0661 & EASH & highbank & Hydro & Hydro & 2015-01-11 & 0 & 0 & 0 & ⋯ &    0.00 &   0.000 & 0 & 0 & 0 & 0 & 0 & 0 & NA & NA\\\\\n",
       "\t HBK & ASB0661 & EASH & highbank & Hydro & Hydro & 2015-01-12 & 0 & 0 & 0 & ⋯ &    0.00 &   0.000 & 0 & 0 & 0 & 0 & 0 & 0 & NA & NA\\\\\n",
       "\t HBK & ASB0661 & EASH & highbank & Hydro & Hydro & 2015-01-13 & 0 & 0 & 0 & ⋯ &    0.00 &   0.000 & 0 & 0 & 0 & 0 & 0 & 0 & NA & NA\\\\\n",
       "\t HBK & ASB0661 & EASH & highbank & Hydro & Hydro & 2015-01-14 & 0 & 0 & 0 & ⋯ &    0.00 &   0.000 & 0 & 0 & 0 & 0 & 0 & 0 & NA & NA\\\\\n",
       "\t HBK & ASB0661 & EASH & highbank & Hydro & Hydro & 2015-01-15 & 0 & 0 & 0 & ⋯ &    0.00 &   0.000 & 0 & 0 & 0 & 0 & 0 & 0 & NA & NA\\\\\n",
       "\t HBK & ASB0661 & EASH & highbank & Hydro & Hydro & 2015-01-16 & 0 & 0 & 0 & ⋯ &    0.00 &   0.000 & 0 & 0 & 0 & 0 & 0 & 0 & NA & NA\\\\\n",
       "\t HBK & ASB0661 & EASH & highbank & Hydro & Hydro & 2015-01-17 & 0 & 0 & 0 & ⋯ &    0.00 &   0.000 & 0 & 0 & 0 & 0 & 0 & 0 & NA & NA\\\\\n",
       "\t HBK & ASB0661 & EASH & highbank & Hydro & Hydro & 2015-01-18 & 0 & 0 & 0 & ⋯ &    0.00 &   0.000 & 0 & 0 & 0 & 0 & 0 & 0 & NA & NA\\\\\n",
       "\t HBK & ASB0661 & EASH & highbank & Hydro & Hydro & 2015-01-19 & 0 & 0 & 0 & ⋯ &    0.00 &   0.000 & 0 & 0 & 0 & 0 & 0 & 0 & NA & NA\\\\\n",
       "\t HBK & ASB0661 & EASH & highbank & Hydro & Hydro & 2015-01-20 & 0 & 0 & 0 & ⋯ &    0.00 &   0.000 & 0 & 0 & 0 & 0 & 0 & 0 & NA & NA\\\\\n",
       "\t HBK & ASB0661 & EASH & highbank & Hydro & Hydro & 2015-01-21 & 0 & 0 & 0 & ⋯ &    0.00 &   0.000 & 0 & 0 & 0 & 0 & 0 & 0 & NA & NA\\\\\n",
       "\t HBK & ASB0661 & EASH & highbank & Hydro & Hydro & 2015-01-22 & 0 & 0 & 0 & ⋯ &    0.00 &   0.000 & 0 & 0 & 0 & 0 & 0 & 0 & NA & NA\\\\\n",
       "\t HBK & ASB0661 & EASH & highbank & Hydro & Hydro & 2015-01-23 & 0 & 0 & 0 & ⋯ &    0.00 &   0.000 & 0 & 0 & 0 & 0 & 0 & 0 & NA & NA\\\\\n",
       "\t HBK & ASB0661 & EASH & highbank & Hydro & Hydro & 2015-01-24 & 0 & 0 & 0 & ⋯ &    0.00 &   0.000 & 0 & 0 & 0 & 0 & 0 & 0 & NA & NA\\\\\n",
       "\t HBK & ASB0661 & EASH & highbank & Hydro & Hydro & 2015-01-25 & 0 & 0 & 0 & ⋯ &    0.00 &   0.000 & 0 & 0 & 0 & 0 & 0 & 0 & NA & NA\\\\\n",
       "\t HBK & ASB0661 & EASH & highbank & Hydro & Hydro & 2015-01-26 & 0 & 0 & 0 & ⋯ &    0.00 &   0.000 & 0 & 0 & 0 & 0 & 0 & 0 & NA & NA\\\\\n",
       "\t HBK & ASB0661 & EASH & highbank & Hydro & Hydro & 2015-01-27 & 0 & 0 & 0 & ⋯ &    0.00 &   0.000 & 0 & 0 & 0 & 0 & 0 & 0 & NA & NA\\\\\n",
       "\t HBK & ASB0661 & EASH & highbank & Hydro & Hydro & 2015-01-28 & 0 & 0 & 0 & ⋯ & 2342.42 & 973.957 & 0 & 0 & 0 & 0 & 0 & 0 & NA & NA\\\\\n",
       "\t HBK & ASB0661 & EASH & highbank & Hydro & Hydro & 2015-01-29 & 0 & 0 & 0 & ⋯ &    0.00 &   0.000 & 0 & 0 & 0 & 0 & 0 & 0 & NA & NA\\\\\n",
       "\t HBK & ASB0661 & EASH & highbank & Hydro & Hydro & 2015-01-30 & 0 & 0 & 0 & ⋯ &    0.00 &   0.000 & 0 & 0 & 0 & 0 & 0 & 0 & NA & NA\\\\\n",
       "\t HBK & ASB0661 & EASH & highbank & Hydro & Hydro & 2015-01-31 & 0 & 0 & 0 & ⋯ &    0.00 &   0.000 & 0 & 0 & 0 & 0 & 0 & 0 & NA & NA\\\\\n",
       "\\end{tabular}\n"
      ],
      "text/markdown": [
       "\n",
       "A spec_tbl_df: 8452 × 57\n",
       "\n",
       "| Site_Code &lt;chr&gt; | POC_Code &lt;chr&gt; | Nwk_Code &lt;chr&gt; | Gen_Code &lt;chr&gt; | Fuel_Code &lt;chr&gt; | Tech_Code &lt;chr&gt; | date &lt;date&gt; | TP1 &lt;dbl&gt; | TP2 &lt;dbl&gt; | TP3 &lt;dbl&gt; | ⋯ ⋯ | TP41 &lt;dbl&gt; | TP42 &lt;dbl&gt; | TP43 &lt;dbl&gt; | TP44 &lt;dbl&gt; | TP45 &lt;dbl&gt; | TP46 &lt;dbl&gt; | TP47 &lt;dbl&gt; | TP48 &lt;dbl&gt; | TP49 &lt;dbl&gt; | TP50 &lt;dbl&gt; |\n",
       "|---|---|---|---|---|---|---|---|---|---|---|---|---|---|---|---|---|---|---|---|---|\n",
       "| HBK | ASB0661 | EASH | highbank | Hydro | Hydro | 2020-12-01 | 10394.654 | 10402.396 | 10400.515 | ⋯ | 10770.984 | 10779.275 | 10777.726 | 10787.507 | 10778.765 | 10776.972 | 10780.90 | 10781.60 | NA | NA |\n",
       "| HBK | ASB0661 | EASH | highbank | Hydro | Hydro | 2020-12-02 | 10774.541 | 10779.167 | 10776.531 | ⋯ | 10287.001 | 10300.329 | 10288.844 | 10294.949 | 10295.537 | 10296.272 | 10308.60 | 10298.00 | NA | NA |\n",
       "| HBK | ASB0661 | EASH | highbank | Hydro | Hydro | 2020-12-03 | 10282.572 | 10294.136 | 10296.615 | ⋯ |  9656.420 |  9431.461 |  9409.842 |  8952.222 |  8913.463 |  8924.997 |  8928.25 |  8926.29 | NA | NA |\n",
       "| HBK | ASB0661 | EASH | highbank | Hydro | Hydro | 2020-12-04 |  9050.878 |  9072.595 |  9059.610 | ⋯ |  5953.667 |  5956.185 |  5956.146 |  5497.241 |  5465.989 |  5464.470 |  5466.65 |  5466.53 | NA | NA |\n",
       "| HBK | ASB0661 | EASH | highbank | Hydro | Hydro | 2020-12-05 |  5465.519 |  4542.917 |  4492.036 | ⋯ |     0.000 |     0.000 |     0.000 |     0.000 |     0.000 |     0.000 |     0.00 |     0.00 | NA | NA |\n",
       "| HBK | ASB0661 | EASH | highbank | Hydro | Hydro | 2020-12-06 |     0.000 |     0.000 |     0.000 | ⋯ |     0.000 |     0.000 |     0.000 |     0.000 |     0.000 |     0.000 |     0.00 |     0.00 | NA | NA |\n",
       "| HBK | ASB0661 | EASH | highbank | Hydro | Hydro | 2020-12-07 |     0.000 |     0.000 |     0.000 | ⋯ |     0.000 |     0.000 |     0.000 |     0.000 |     0.000 |     0.000 |     0.00 |     0.00 | NA | NA |\n",
       "| HBK | ASB0661 | EASH | highbank | Hydro | Hydro | 2020-12-08 |     0.000 |     0.000 |     0.000 | ⋯ |     0.000 |     0.000 |     0.000 |     0.000 |     0.000 |     0.000 |     0.00 |     0.00 | NA | NA |\n",
       "| HBK | ASB0661 | EASH | highbank | Hydro | Hydro | 2020-12-09 |     0.000 |     0.000 |     0.000 | ⋯ |     0.000 |     0.000 |     0.000 |     0.000 |     0.000 |     0.000 |     0.00 |     0.00 | NA | NA |\n",
       "| HBK | ASB0661 | EASH | highbank | Hydro | Hydro | 2020-12-10 |     0.000 |     0.000 |     0.000 | ⋯ |     0.000 |     0.000 |     0.000 |     0.000 |     0.000 |     0.000 |     0.00 |     0.00 | NA | NA |\n",
       "| HBK | ASB0661 | EASH | highbank | Hydro | Hydro | 2020-12-11 |     0.000 |     0.000 |     0.000 | ⋯ |     0.000 |     0.000 |     0.000 |     0.000 |     0.000 |     0.000 |     0.00 |     0.00 | NA | NA |\n",
       "| HBK | ASB0661 | EASH | highbank | Hydro | Hydro | 2020-12-12 |     0.000 |     0.000 |     0.000 | ⋯ |     0.000 |     0.000 |     0.000 |     0.000 |     0.000 |     0.000 |     0.00 |     0.00 | NA | NA |\n",
       "| HBK | ASB0661 | EASH | highbank | Hydro | Hydro | 2020-12-13 |     0.000 |     0.000 |     0.000 | ⋯ |     0.000 |     0.000 |     0.000 |     0.000 |     0.000 |     0.000 |     0.00 |     0.00 | NA | NA |\n",
       "| HBK | ASB0661 | EASH | highbank | Hydro | Hydro | 2020-12-14 |     0.000 |     0.000 |     0.000 | ⋯ |     0.000 |     0.000 |     0.000 |     0.000 |     0.000 |     0.000 |     0.00 |     0.00 | NA | NA |\n",
       "| HBK | ASB0661 | EASH | highbank | Hydro | Hydro | 2020-12-15 |     0.000 |     0.000 |     0.000 | ⋯ |     0.000 |     0.000 |     0.000 |     0.000 |     0.000 |     0.000 |     0.00 |     0.00 | NA | NA |\n",
       "| HBK | ASB0661 | EASH | highbank | Hydro | Hydro | 2020-12-16 |     0.000 |     0.000 |     0.000 | ⋯ |     0.000 |     0.000 |     0.000 |     0.000 |     0.000 |     0.000 |     0.00 |     0.00 | NA | NA |\n",
       "| HBK | ASB0661 | EASH | highbank | Hydro | Hydro | 2020-12-17 |     0.000 |     0.000 |     0.000 | ⋯ |     0.000 |     0.000 |     0.000 |     0.000 |     0.000 |     0.000 |     0.00 |     0.00 | NA | NA |\n",
       "| HBK | ASB0661 | EASH | highbank | Hydro | Hydro | 2020-12-18 |     0.000 |     0.000 |     0.000 | ⋯ |     0.000 |     0.000 |     0.000 |     0.000 |     0.000 |     0.000 |     0.00 |     0.00 | NA | NA |\n",
       "| HBK | ASB0661 | EASH | highbank | Hydro | Hydro | 2020-12-19 |     0.000 |     0.000 |     0.000 | ⋯ |     0.000 |     0.000 |     0.000 |     0.000 |     0.000 |     0.000 |     0.00 |     0.00 | NA | NA |\n",
       "| HBK | ASB0661 | EASH | highbank | Hydro | Hydro | 2020-12-20 |     0.000 |     0.000 |     0.000 | ⋯ |     0.000 |     0.000 |     0.000 |     0.000 |     0.000 |     0.000 |     0.00 |     0.00 | NA | NA |\n",
       "| HBK | ASB0661 | EASH | highbank | Hydro | Hydro | 2020-12-21 |     0.000 |     0.000 |     0.000 | ⋯ |     0.000 |     0.000 |     0.000 |     0.000 |     0.000 |     0.000 |     0.00 |     0.00 | NA | NA |\n",
       "| HBK | ASB0661 | EASH | highbank | Hydro | Hydro | 2020-12-22 |     0.000 |     0.000 |     0.000 | ⋯ |     0.000 |     0.000 |     0.000 |     0.000 |     0.000 |     0.000 |     0.00 |     0.00 | NA | NA |\n",
       "| HBK | ASB0661 | EASH | highbank | Hydro | Hydro | 2020-12-23 |     0.000 |     0.000 |     0.000 | ⋯ |     0.000 |     0.000 |     0.000 |     0.000 |     0.000 |     0.000 |     0.00 |     0.00 | NA | NA |\n",
       "| HBK | ASB0661 | EASH | highbank | Hydro | Hydro | 2020-12-24 |     0.000 |     0.000 |     0.000 | ⋯ |  4342.390 |  4382.717 |  5286.051 |  5370.390 |  6327.713 |  6345.314 |  6347.73 |  6349.67 | NA | NA |\n",
       "| HBK | ASB0661 | EASH | highbank | Hydro | Hydro | 2020-12-25 |  6350.008 |  5135.729 |  4259.678 | ⋯ |  7084.567 |  7797.654 |  7829.524 |  8297.983 |  8320.474 |  8319.102 |  8325.92 |  8318.18 | NA | NA |\n",
       "| HBK | ASB0661 | EASH | highbank | Hydro | Hydro | 2020-12-26 |  8316.496 |  8805.016 |  8826.664 | ⋯ |  9302.591 |  9303.160 |  9302.542 |  9778.930 |  9807.634 | 10270.792 | 10287.70 | 10283.20 | NA | NA |\n",
       "| HBK | ASB0661 | EASH | highbank | Hydro | Hydro | 2020-12-27 | 10286.854 | 10284.884 | 10291.352 | ⋯ | 10046.989 | 10049.802 | 10048.508 | 10047.421 | 10365.901 | 10392.655 | 10390.20 | 10392.80 | NA | NA |\n",
       "| HBK | ASB0661 | EASH | highbank | Hydro | Hydro | 2020-12-28 | 10405.434 | 10392.322 | 10395.448 | ⋯ | 10779.716 | 10779.118 | 10781.264 | 10779.706 | 10784.096 | 10780.833 | 10404.40 | 10390.30 | NA | NA |\n",
       "| HBK | ASB0661 | EASH | highbank | Hydro | Hydro | 2020-12-29 | 10393.184 | 10392.234 | 10391.283 | ⋯ | 10634.597 | 10415.597 | 10393.282 | 10401.622 | 10400.358 | 10401.387 | 10402.80 | 10402.10 | NA | NA |\n",
       "| HBK | ASB0661 | EASH | highbank | Hydro | Hydro | 2020-12-30 | 10401.749 | 10398.878 | 10400.250 | ⋯ | 10148.762 | 10151.065 | 10149.811 | 10149.399 | 10150.556 | 10148.988 | 10151.10 | 10283.80 | NA | NA |\n",
       "| ⋮ | ⋮ | ⋮ | ⋮ | ⋮ | ⋮ | ⋮ | ⋮ | ⋮ | ⋮ | ⋱ | ⋮ | ⋮ | ⋮ | ⋮ | ⋮ | ⋮ | ⋮ | ⋮ | ⋮ | ⋮ |\n",
       "| HBK | ASB0661 | EASH | highbank | Hydro | Hydro | 2015-01-02 | 0 | 0 | 0 | ⋯ |    0.00 |   0.000 | 0 | 0 | 0 | 0 | 0 | 0 | NA | NA |\n",
       "| HBK | ASB0661 | EASH | highbank | Hydro | Hydro | 2015-01-03 | 0 | 0 | 0 | ⋯ |    0.00 |   0.000 | 0 | 0 | 0 | 0 | 0 | 0 | NA | NA |\n",
       "| HBK | ASB0661 | EASH | highbank | Hydro | Hydro | 2015-01-04 | 0 | 0 | 0 | ⋯ |    0.00 |   0.000 | 0 | 0 | 0 | 0 | 0 | 0 | NA | NA |\n",
       "| HBK | ASB0661 | EASH | highbank | Hydro | Hydro | 2015-01-05 | 0 | 0 | 0 | ⋯ |    0.00 |   0.000 | 0 | 0 | 0 | 0 | 0 | 0 | NA | NA |\n",
       "| HBK | ASB0661 | EASH | highbank | Hydro | Hydro | 2015-01-06 | 0 | 0 | 0 | ⋯ |    0.00 |   0.000 | 0 | 0 | 0 | 0 | 0 | 0 | NA | NA |\n",
       "| HBK | ASB0661 | EASH | highbank | Hydro | Hydro | 2015-01-07 | 0 | 0 | 0 | ⋯ |    0.00 |   0.000 | 0 | 0 | 0 | 0 | 0 | 0 | NA | NA |\n",
       "| HBK | ASB0661 | EASH | highbank | Hydro | Hydro | 2015-01-08 | 0 | 0 | 0 | ⋯ |    0.00 |   0.000 | 0 | 0 | 0 | 0 | 0 | 0 | NA | NA |\n",
       "| HBK | ASB0661 | EASH | highbank | Hydro | Hydro | 2015-01-09 | 0 | 0 | 0 | ⋯ |    0.00 |   0.000 | 0 | 0 | 0 | 0 | 0 | 0 | NA | NA |\n",
       "| HBK | ASB0661 | EASH | highbank | Hydro | Hydro | 2015-01-10 | 0 | 0 | 0 | ⋯ |    0.00 |   0.000 | 0 | 0 | 0 | 0 | 0 | 0 | NA | NA |\n",
       "| HBK | ASB0661 | EASH | highbank | Hydro | Hydro | 2015-01-11 | 0 | 0 | 0 | ⋯ |    0.00 |   0.000 | 0 | 0 | 0 | 0 | 0 | 0 | NA | NA |\n",
       "| HBK | ASB0661 | EASH | highbank | Hydro | Hydro | 2015-01-12 | 0 | 0 | 0 | ⋯ |    0.00 |   0.000 | 0 | 0 | 0 | 0 | 0 | 0 | NA | NA |\n",
       "| HBK | ASB0661 | EASH | highbank | Hydro | Hydro | 2015-01-13 | 0 | 0 | 0 | ⋯ |    0.00 |   0.000 | 0 | 0 | 0 | 0 | 0 | 0 | NA | NA |\n",
       "| HBK | ASB0661 | EASH | highbank | Hydro | Hydro | 2015-01-14 | 0 | 0 | 0 | ⋯ |    0.00 |   0.000 | 0 | 0 | 0 | 0 | 0 | 0 | NA | NA |\n",
       "| HBK | ASB0661 | EASH | highbank | Hydro | Hydro | 2015-01-15 | 0 | 0 | 0 | ⋯ |    0.00 |   0.000 | 0 | 0 | 0 | 0 | 0 | 0 | NA | NA |\n",
       "| HBK | ASB0661 | EASH | highbank | Hydro | Hydro | 2015-01-16 | 0 | 0 | 0 | ⋯ |    0.00 |   0.000 | 0 | 0 | 0 | 0 | 0 | 0 | NA | NA |\n",
       "| HBK | ASB0661 | EASH | highbank | Hydro | Hydro | 2015-01-17 | 0 | 0 | 0 | ⋯ |    0.00 |   0.000 | 0 | 0 | 0 | 0 | 0 | 0 | NA | NA |\n",
       "| HBK | ASB0661 | EASH | highbank | Hydro | Hydro | 2015-01-18 | 0 | 0 | 0 | ⋯ |    0.00 |   0.000 | 0 | 0 | 0 | 0 | 0 | 0 | NA | NA |\n",
       "| HBK | ASB0661 | EASH | highbank | Hydro | Hydro | 2015-01-19 | 0 | 0 | 0 | ⋯ |    0.00 |   0.000 | 0 | 0 | 0 | 0 | 0 | 0 | NA | NA |\n",
       "| HBK | ASB0661 | EASH | highbank | Hydro | Hydro | 2015-01-20 | 0 | 0 | 0 | ⋯ |    0.00 |   0.000 | 0 | 0 | 0 | 0 | 0 | 0 | NA | NA |\n",
       "| HBK | ASB0661 | EASH | highbank | Hydro | Hydro | 2015-01-21 | 0 | 0 | 0 | ⋯ |    0.00 |   0.000 | 0 | 0 | 0 | 0 | 0 | 0 | NA | NA |\n",
       "| HBK | ASB0661 | EASH | highbank | Hydro | Hydro | 2015-01-22 | 0 | 0 | 0 | ⋯ |    0.00 |   0.000 | 0 | 0 | 0 | 0 | 0 | 0 | NA | NA |\n",
       "| HBK | ASB0661 | EASH | highbank | Hydro | Hydro | 2015-01-23 | 0 | 0 | 0 | ⋯ |    0.00 |   0.000 | 0 | 0 | 0 | 0 | 0 | 0 | NA | NA |\n",
       "| HBK | ASB0661 | EASH | highbank | Hydro | Hydro | 2015-01-24 | 0 | 0 | 0 | ⋯ |    0.00 |   0.000 | 0 | 0 | 0 | 0 | 0 | 0 | NA | NA |\n",
       "| HBK | ASB0661 | EASH | highbank | Hydro | Hydro | 2015-01-25 | 0 | 0 | 0 | ⋯ |    0.00 |   0.000 | 0 | 0 | 0 | 0 | 0 | 0 | NA | NA |\n",
       "| HBK | ASB0661 | EASH | highbank | Hydro | Hydro | 2015-01-26 | 0 | 0 | 0 | ⋯ |    0.00 |   0.000 | 0 | 0 | 0 | 0 | 0 | 0 | NA | NA |\n",
       "| HBK | ASB0661 | EASH | highbank | Hydro | Hydro | 2015-01-27 | 0 | 0 | 0 | ⋯ |    0.00 |   0.000 | 0 | 0 | 0 | 0 | 0 | 0 | NA | NA |\n",
       "| HBK | ASB0661 | EASH | highbank | Hydro | Hydro | 2015-01-28 | 0 | 0 | 0 | ⋯ | 2342.42 | 973.957 | 0 | 0 | 0 | 0 | 0 | 0 | NA | NA |\n",
       "| HBK | ASB0661 | EASH | highbank | Hydro | Hydro | 2015-01-29 | 0 | 0 | 0 | ⋯ |    0.00 |   0.000 | 0 | 0 | 0 | 0 | 0 | 0 | NA | NA |\n",
       "| HBK | ASB0661 | EASH | highbank | Hydro | Hydro | 2015-01-30 | 0 | 0 | 0 | ⋯ |    0.00 |   0.000 | 0 | 0 | 0 | 0 | 0 | 0 | NA | NA |\n",
       "| HBK | ASB0661 | EASH | highbank | Hydro | Hydro | 2015-01-31 | 0 | 0 | 0 | ⋯ |    0.00 |   0.000 | 0 | 0 | 0 | 0 | 0 | 0 | NA | NA |\n",
       "\n"
      ],
      "text/plain": [
       "     Site_Code POC_Code Nwk_Code Gen_Code Fuel_Code Tech_Code date      \n",
       "1    HBK       ASB0661  EASH     highbank Hydro     Hydro     2020-12-01\n",
       "2    HBK       ASB0661  EASH     highbank Hydro     Hydro     2020-12-02\n",
       "3    HBK       ASB0661  EASH     highbank Hydro     Hydro     2020-12-03\n",
       "4    HBK       ASB0661  EASH     highbank Hydro     Hydro     2020-12-04\n",
       "5    HBK       ASB0661  EASH     highbank Hydro     Hydro     2020-12-05\n",
       "6    HBK       ASB0661  EASH     highbank Hydro     Hydro     2020-12-06\n",
       "7    HBK       ASB0661  EASH     highbank Hydro     Hydro     2020-12-07\n",
       "8    HBK       ASB0661  EASH     highbank Hydro     Hydro     2020-12-08\n",
       "9    HBK       ASB0661  EASH     highbank Hydro     Hydro     2020-12-09\n",
       "10   HBK       ASB0661  EASH     highbank Hydro     Hydro     2020-12-10\n",
       "11   HBK       ASB0661  EASH     highbank Hydro     Hydro     2020-12-11\n",
       "12   HBK       ASB0661  EASH     highbank Hydro     Hydro     2020-12-12\n",
       "13   HBK       ASB0661  EASH     highbank Hydro     Hydro     2020-12-13\n",
       "14   HBK       ASB0661  EASH     highbank Hydro     Hydro     2020-12-14\n",
       "15   HBK       ASB0661  EASH     highbank Hydro     Hydro     2020-12-15\n",
       "16   HBK       ASB0661  EASH     highbank Hydro     Hydro     2020-12-16\n",
       "17   HBK       ASB0661  EASH     highbank Hydro     Hydro     2020-12-17\n",
       "18   HBK       ASB0661  EASH     highbank Hydro     Hydro     2020-12-18\n",
       "19   HBK       ASB0661  EASH     highbank Hydro     Hydro     2020-12-19\n",
       "20   HBK       ASB0661  EASH     highbank Hydro     Hydro     2020-12-20\n",
       "21   HBK       ASB0661  EASH     highbank Hydro     Hydro     2020-12-21\n",
       "22   HBK       ASB0661  EASH     highbank Hydro     Hydro     2020-12-22\n",
       "23   HBK       ASB0661  EASH     highbank Hydro     Hydro     2020-12-23\n",
       "24   HBK       ASB0661  EASH     highbank Hydro     Hydro     2020-12-24\n",
       "25   HBK       ASB0661  EASH     highbank Hydro     Hydro     2020-12-25\n",
       "26   HBK       ASB0661  EASH     highbank Hydro     Hydro     2020-12-26\n",
       "27   HBK       ASB0661  EASH     highbank Hydro     Hydro     2020-12-27\n",
       "28   HBK       ASB0661  EASH     highbank Hydro     Hydro     2020-12-28\n",
       "29   HBK       ASB0661  EASH     highbank Hydro     Hydro     2020-12-29\n",
       "30   HBK       ASB0661  EASH     highbank Hydro     Hydro     2020-12-30\n",
       "⋮    ⋮         ⋮        ⋮        ⋮        ⋮         ⋮         ⋮         \n",
       "8423 HBK       ASB0661  EASH     highbank Hydro     Hydro     2015-01-02\n",
       "8424 HBK       ASB0661  EASH     highbank Hydro     Hydro     2015-01-03\n",
       "8425 HBK       ASB0661  EASH     highbank Hydro     Hydro     2015-01-04\n",
       "8426 HBK       ASB0661  EASH     highbank Hydro     Hydro     2015-01-05\n",
       "8427 HBK       ASB0661  EASH     highbank Hydro     Hydro     2015-01-06\n",
       "8428 HBK       ASB0661  EASH     highbank Hydro     Hydro     2015-01-07\n",
       "8429 HBK       ASB0661  EASH     highbank Hydro     Hydro     2015-01-08\n",
       "8430 HBK       ASB0661  EASH     highbank Hydro     Hydro     2015-01-09\n",
       "8431 HBK       ASB0661  EASH     highbank Hydro     Hydro     2015-01-10\n",
       "8432 HBK       ASB0661  EASH     highbank Hydro     Hydro     2015-01-11\n",
       "8433 HBK       ASB0661  EASH     highbank Hydro     Hydro     2015-01-12\n",
       "8434 HBK       ASB0661  EASH     highbank Hydro     Hydro     2015-01-13\n",
       "8435 HBK       ASB0661  EASH     highbank Hydro     Hydro     2015-01-14\n",
       "8436 HBK       ASB0661  EASH     highbank Hydro     Hydro     2015-01-15\n",
       "8437 HBK       ASB0661  EASH     highbank Hydro     Hydro     2015-01-16\n",
       "8438 HBK       ASB0661  EASH     highbank Hydro     Hydro     2015-01-17\n",
       "8439 HBK       ASB0661  EASH     highbank Hydro     Hydro     2015-01-18\n",
       "8440 HBK       ASB0661  EASH     highbank Hydro     Hydro     2015-01-19\n",
       "8441 HBK       ASB0661  EASH     highbank Hydro     Hydro     2015-01-20\n",
       "8442 HBK       ASB0661  EASH     highbank Hydro     Hydro     2015-01-21\n",
       "8443 HBK       ASB0661  EASH     highbank Hydro     Hydro     2015-01-22\n",
       "8444 HBK       ASB0661  EASH     highbank Hydro     Hydro     2015-01-23\n",
       "8445 HBK       ASB0661  EASH     highbank Hydro     Hydro     2015-01-24\n",
       "8446 HBK       ASB0661  EASH     highbank Hydro     Hydro     2015-01-25\n",
       "8447 HBK       ASB0661  EASH     highbank Hydro     Hydro     2015-01-26\n",
       "8448 HBK       ASB0661  EASH     highbank Hydro     Hydro     2015-01-27\n",
       "8449 HBK       ASB0661  EASH     highbank Hydro     Hydro     2015-01-28\n",
       "8450 HBK       ASB0661  EASH     highbank Hydro     Hydro     2015-01-29\n",
       "8451 HBK       ASB0661  EASH     highbank Hydro     Hydro     2015-01-30\n",
       "8452 HBK       ASB0661  EASH     highbank Hydro     Hydro     2015-01-31\n",
       "     TP1       TP2       TP3       ⋯ TP41      TP42      TP43      TP44     \n",
       "1    10394.654 10402.396 10400.515 ⋯ 10770.984 10779.275 10777.726 10787.507\n",
       "2    10774.541 10779.167 10776.531 ⋯ 10287.001 10300.329 10288.844 10294.949\n",
       "3    10282.572 10294.136 10296.615 ⋯  9656.420  9431.461  9409.842  8952.222\n",
       "4     9050.878  9072.595  9059.610 ⋯  5953.667  5956.185  5956.146  5497.241\n",
       "5     5465.519  4542.917  4492.036 ⋯     0.000     0.000     0.000     0.000\n",
       "6        0.000     0.000     0.000 ⋯     0.000     0.000     0.000     0.000\n",
       "7        0.000     0.000     0.000 ⋯     0.000     0.000     0.000     0.000\n",
       "8        0.000     0.000     0.000 ⋯     0.000     0.000     0.000     0.000\n",
       "9        0.000     0.000     0.000 ⋯     0.000     0.000     0.000     0.000\n",
       "10       0.000     0.000     0.000 ⋯     0.000     0.000     0.000     0.000\n",
       "11       0.000     0.000     0.000 ⋯     0.000     0.000     0.000     0.000\n",
       "12       0.000     0.000     0.000 ⋯     0.000     0.000     0.000     0.000\n",
       "13       0.000     0.000     0.000 ⋯     0.000     0.000     0.000     0.000\n",
       "14       0.000     0.000     0.000 ⋯     0.000     0.000     0.000     0.000\n",
       "15       0.000     0.000     0.000 ⋯     0.000     0.000     0.000     0.000\n",
       "16       0.000     0.000     0.000 ⋯     0.000     0.000     0.000     0.000\n",
       "17       0.000     0.000     0.000 ⋯     0.000     0.000     0.000     0.000\n",
       "18       0.000     0.000     0.000 ⋯     0.000     0.000     0.000     0.000\n",
       "19       0.000     0.000     0.000 ⋯     0.000     0.000     0.000     0.000\n",
       "20       0.000     0.000     0.000 ⋯     0.000     0.000     0.000     0.000\n",
       "21       0.000     0.000     0.000 ⋯     0.000     0.000     0.000     0.000\n",
       "22       0.000     0.000     0.000 ⋯     0.000     0.000     0.000     0.000\n",
       "23       0.000     0.000     0.000 ⋯     0.000     0.000     0.000     0.000\n",
       "24       0.000     0.000     0.000 ⋯  4342.390  4382.717  5286.051  5370.390\n",
       "25    6350.008  5135.729  4259.678 ⋯  7084.567  7797.654  7829.524  8297.983\n",
       "26    8316.496  8805.016  8826.664 ⋯  9302.591  9303.160  9302.542  9778.930\n",
       "27   10286.854 10284.884 10291.352 ⋯ 10046.989 10049.802 10048.508 10047.421\n",
       "28   10405.434 10392.322 10395.448 ⋯ 10779.716 10779.118 10781.264 10779.706\n",
       "29   10393.184 10392.234 10391.283 ⋯ 10634.597 10415.597 10393.282 10401.622\n",
       "30   10401.749 10398.878 10400.250 ⋯ 10148.762 10151.065 10149.811 10149.399\n",
       "⋮    ⋮         ⋮         ⋮         ⋱ ⋮         ⋮         ⋮         ⋮        \n",
       "8423 0         0         0         ⋯    0.00     0.000   0         0        \n",
       "8424 0         0         0         ⋯    0.00     0.000   0         0        \n",
       "8425 0         0         0         ⋯    0.00     0.000   0         0        \n",
       "8426 0         0         0         ⋯    0.00     0.000   0         0        \n",
       "8427 0         0         0         ⋯    0.00     0.000   0         0        \n",
       "8428 0         0         0         ⋯    0.00     0.000   0         0        \n",
       "8429 0         0         0         ⋯    0.00     0.000   0         0        \n",
       "8430 0         0         0         ⋯    0.00     0.000   0         0        \n",
       "8431 0         0         0         ⋯    0.00     0.000   0         0        \n",
       "8432 0         0         0         ⋯    0.00     0.000   0         0        \n",
       "8433 0         0         0         ⋯    0.00     0.000   0         0        \n",
       "8434 0         0         0         ⋯    0.00     0.000   0         0        \n",
       "8435 0         0         0         ⋯    0.00     0.000   0         0        \n",
       "8436 0         0         0         ⋯    0.00     0.000   0         0        \n",
       "8437 0         0         0         ⋯    0.00     0.000   0         0        \n",
       "8438 0         0         0         ⋯    0.00     0.000   0         0        \n",
       "8439 0         0         0         ⋯    0.00     0.000   0         0        \n",
       "8440 0         0         0         ⋯    0.00     0.000   0         0        \n",
       "8441 0         0         0         ⋯    0.00     0.000   0         0        \n",
       "8442 0         0         0         ⋯    0.00     0.000   0         0        \n",
       "8443 0         0         0         ⋯    0.00     0.000   0         0        \n",
       "8444 0         0         0         ⋯    0.00     0.000   0         0        \n",
       "8445 0         0         0         ⋯    0.00     0.000   0         0        \n",
       "8446 0         0         0         ⋯    0.00     0.000   0         0        \n",
       "8447 0         0         0         ⋯    0.00     0.000   0         0        \n",
       "8448 0         0         0         ⋯    0.00     0.000   0         0        \n",
       "8449 0         0         0         ⋯ 2342.42   973.957   0         0        \n",
       "8450 0         0         0         ⋯    0.00     0.000   0         0        \n",
       "8451 0         0         0         ⋯    0.00     0.000   0         0        \n",
       "8452 0         0         0         ⋯    0.00     0.000   0         0        \n",
       "     TP45      TP46      TP47     TP48     TP49 TP50\n",
       "1    10778.765 10776.972 10780.90 10781.60 NA   NA  \n",
       "2    10295.537 10296.272 10308.60 10298.00 NA   NA  \n",
       "3     8913.463  8924.997  8928.25  8926.29 NA   NA  \n",
       "4     5465.989  5464.470  5466.65  5466.53 NA   NA  \n",
       "5        0.000     0.000     0.00     0.00 NA   NA  \n",
       "6        0.000     0.000     0.00     0.00 NA   NA  \n",
       "7        0.000     0.000     0.00     0.00 NA   NA  \n",
       "8        0.000     0.000     0.00     0.00 NA   NA  \n",
       "9        0.000     0.000     0.00     0.00 NA   NA  \n",
       "10       0.000     0.000     0.00     0.00 NA   NA  \n",
       "11       0.000     0.000     0.00     0.00 NA   NA  \n",
       "12       0.000     0.000     0.00     0.00 NA   NA  \n",
       "13       0.000     0.000     0.00     0.00 NA   NA  \n",
       "14       0.000     0.000     0.00     0.00 NA   NA  \n",
       "15       0.000     0.000     0.00     0.00 NA   NA  \n",
       "16       0.000     0.000     0.00     0.00 NA   NA  \n",
       "17       0.000     0.000     0.00     0.00 NA   NA  \n",
       "18       0.000     0.000     0.00     0.00 NA   NA  \n",
       "19       0.000     0.000     0.00     0.00 NA   NA  \n",
       "20       0.000     0.000     0.00     0.00 NA   NA  \n",
       "21       0.000     0.000     0.00     0.00 NA   NA  \n",
       "22       0.000     0.000     0.00     0.00 NA   NA  \n",
       "23       0.000     0.000     0.00     0.00 NA   NA  \n",
       "24    6327.713  6345.314  6347.73  6349.67 NA   NA  \n",
       "25    8320.474  8319.102  8325.92  8318.18 NA   NA  \n",
       "26    9807.634 10270.792 10287.70 10283.20 NA   NA  \n",
       "27   10365.901 10392.655 10390.20 10392.80 NA   NA  \n",
       "28   10784.096 10780.833 10404.40 10390.30 NA   NA  \n",
       "29   10400.358 10401.387 10402.80 10402.10 NA   NA  \n",
       "30   10150.556 10148.988 10151.10 10283.80 NA   NA  \n",
       "⋮    ⋮         ⋮         ⋮        ⋮        ⋮    ⋮   \n",
       "8423 0         0         0        0        NA   NA  \n",
       "8424 0         0         0        0        NA   NA  \n",
       "8425 0         0         0        0        NA   NA  \n",
       "8426 0         0         0        0        NA   NA  \n",
       "8427 0         0         0        0        NA   NA  \n",
       "8428 0         0         0        0        NA   NA  \n",
       "8429 0         0         0        0        NA   NA  \n",
       "8430 0         0         0        0        NA   NA  \n",
       "8431 0         0         0        0        NA   NA  \n",
       "8432 0         0         0        0        NA   NA  \n",
       "8433 0         0         0        0        NA   NA  \n",
       "8434 0         0         0        0        NA   NA  \n",
       "8435 0         0         0        0        NA   NA  \n",
       "8436 0         0         0        0        NA   NA  \n",
       "8437 0         0         0        0        NA   NA  \n",
       "8438 0         0         0        0        NA   NA  \n",
       "8439 0         0         0        0        NA   NA  \n",
       "8440 0         0         0        0        NA   NA  \n",
       "8441 0         0         0        0        NA   NA  \n",
       "8442 0         0         0        0        NA   NA  \n",
       "8443 0         0         0        0        NA   NA  \n",
       "8444 0         0         0        0        NA   NA  \n",
       "8445 0         0         0        0        NA   NA  \n",
       "8446 0         0         0        0        NA   NA  \n",
       "8447 0         0         0        0        NA   NA  \n",
       "8448 0         0         0        0        NA   NA  \n",
       "8449 0         0         0        0        NA   NA  \n",
       "8450 0         0         0        0        NA   NA  \n",
       "8451 0         0         0        0        NA   NA  \n",
       "8452 0         0         0        0        NA   NA  "
      ]
     },
     "metadata": {},
     "output_type": "display_data"
    }
   ],
   "source": [
    "\n",
    "## Hydrostations -> rivers\n",
    "# waitaki -> Waitaki\n",
    "# highbank -> Rakaia\n",
    "# clyde -> Clutha\n",
    "matching_gen_codes <- c(\"clyde\", \"highbank\", \"waitaki\")\n",
    "generation_md_hydro %>% filter(Gen_Code %in% matching_gen_codes) %>% rename(date=Trading_date) %>%\n"
   ]
  },
  {
   "cell_type": "code",
   "execution_count": null,
   "id": "195d1d3d-4805-4440-b4f4-8fec2cb53b58",
   "metadata": {},
   "outputs": [],
   "source": [
    "#Graphing code"
   ]
  }
 ],
 "metadata": {
  "kernelspec": {
   "display_name": "R",
   "language": "R",
   "name": "ir"
  },
  "language_info": {
   "codemirror_mode": "r",
   "file_extension": ".r",
   "mimetype": "text/x-r-source",
   "name": "R",
   "pygments_lexer": "r",
   "version": "4.1.1"
  }
 },
 "nbformat": 4,
 "nbformat_minor": 5
}
