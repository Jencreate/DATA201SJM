{
 "cells": [
  {
   "cell_type": "code",
   "execution_count": 5,
   "id": "31775b11-b6e9-4983-9804-d86e2eefb0bc",
   "metadata": {},
   "outputs": [
    {
     "name": "stderr",
     "output_type": "stream",
     "text": [
      "Loading required package: future\n",
      "\n"
     ]
    }
   ],
   "source": [
    "#Matt\n",
    "#install.packages(\"RCurl\")\n",
    "library(RCurl)\n",
    "library(tidyverse, warn.conflicts = FALSE)\n",
    "library(lubridate, warn.conflicts = FALSE)\n",
    "\n",
    "#Jensen\n",
    "library(xml2)\n",
    "library(rvest)\n",
    "library(httr)\n",
    "#install.packages(\"readxl\")\n",
    "library(readxl)\n",
    "#install.packages(\"furrr\")\n",
    "library(furrr)\n",
    "future::plan(multicore)\n",
    "\n",
    "#Sujung\n"
   ]
  },
  {
   "cell_type": "markdown",
   "id": "bae0e610",
   "metadata": {},
   "source": [
    "## Webscrape river flows\n",
    "Matt"
   ]
  },
  {
   "cell_type": "code",
   "execution_count": 2,
   "id": "5b3b8b3a-a97d-4d29-af1a-96beba5fd16e",
   "metadata": {},
   "outputs": [
    {
     "data": {
      "text/html": [
       "'Opuha checkpoint'"
      ],
      "text/latex": [
       "'Opuha checkpoint'"
      ],
      "text/markdown": [
       "'Opuha checkpoint'"
      ],
      "text/plain": [
       "[1] \"Opuha checkpoint\""
      ]
     },
     "metadata": {},
     "output_type": "display_data"
    },
    {
     "data": {
      "text/html": [
       "'Rakaia checkpoint'"
      ],
      "text/latex": [
       "'Rakaia checkpoint'"
      ],
      "text/markdown": [
       "'Rakaia checkpoint'"
      ],
      "text/plain": [
       "[1] \"Rakaia checkpoint\""
      ]
     },
     "metadata": {},
     "output_type": "display_data"
    },
    {
     "data": {
      "text/html": [
       "'Waitaki checkpoint'"
      ],
      "text/latex": [
       "'Waitaki checkpoint'"
      ],
      "text/markdown": [
       "'Waitaki checkpoint'"
      ],
      "text/plain": [
       "[1] \"Waitaki checkpoint\""
      ]
     },
     "metadata": {},
     "output_type": "display_data"
    },
    {
     "data": {
      "text/html": [
       "'Kawarau checkpoint'"
      ],
      "text/latex": [
       "'Kawarau checkpoint'"
      ],
      "text/markdown": [
       "'Kawarau checkpoint'"
      ],
      "text/plain": [
       "[1] \"Kawarau checkpoint\""
      ]
     },
     "metadata": {},
     "output_type": "display_data"
    },
    {
     "data": {
      "text/html": [
       "'Clutha checkpoint'"
      ],
      "text/latex": [
       "'Clutha checkpoint'"
      ],
      "text/markdown": [
       "'Clutha checkpoint'"
      ],
      "text/plain": [
       "[1] \"Clutha checkpoint\""
      ]
     },
     "metadata": {},
     "output_type": "display_data"
    },
    {
     "data": {
      "text/html": [
       "'Mataura checkpoint'"
      ],
      "text/latex": [
       "'Mataura checkpoint'"
      ],
      "text/markdown": [
       "'Mataura checkpoint'"
      ],
      "text/plain": [
       "[1] \"Mataura checkpoint\""
      ]
     },
     "metadata": {},
     "output_type": "display_data"
    }
   ],
   "source": [
    "#Matt\n",
    "\n",
    "row_calc1 <- function(tibble){\n",
    "    n = as.integer(nrow(tibble))\n",
    "    data <- tail(tibble, (n-4))\n",
    "    names(data) <- c('Time','Value(m^3/s)')\n",
    "    return(data)\n",
    "}\n",
    "\n",
    "row_calc2 <- function(tibble){\n",
    "    n = as.integer(nrow(tibble))\n",
    "    data <- tail(tibble, (n-4)) %>% select(-X) \n",
    "    names(data) <- c('Time','Value(m^3/s)')\n",
    "    return(data)  \n",
    "}\n",
    "\n",
    "opuha <- as_tibble(read.csv(text = getURL(\"https://hydrowebportal.niwa.co.nz/Export/BulkExport?DateRange=Custom&StartTime=2015-01-01%2000%3A00&EndTime=2020-12-31%2000%3A00&TimeZone=12&Calendar=CALENDARYEAR&Interval=Monthly&Step=1&ExportFormat=csv&TimeAligned=True&RoundData=False&IncludeGradeCodes=False&IncludeApprovalLevels=False&IncludeInterpolationTypes=False&Datasets[0].DatasetName=Discharge%20Value.NRWQN%40TK3&Datasets[0].Calculation=Aggregate&Datasets[0].UnitId=140\"))) %>% row_calc2()\n",
    "\"Opuha checkpoint\"\n",
    "rakaia <- as_tibble(read.csv(text = getURL(\"https://hydrowebportal.niwa.co.nz/Export/BulkExport?DateRange=Custom&StartTime=2015-01-01%2000%3A00&EndTime=2020-12-31%2000%3A00&TimeZone=12&Calendar=CALENDARYEAR&Interval=Monthly&Step=1&ExportFormat=csv&TimeAligned=True&RoundData=False&IncludeGradeCodes=False&IncludeApprovalLevels=False&IncludeInterpolationTypes=False&Datasets[0].DatasetName=Discharge.Master%4068526&Datasets[0].Calculation=Instantaneous&Datasets[0].UnitId=140\"))) %>% row_calc2()\n",
    "\"Rakaia checkpoint\"\n",
    "waitaki <- as_tibble(read.csv(text = getURL(\"https://hydrowebportal.niwa.co.nz/Export/BulkExport?DateRange=Custom&StartTime=2015-01-01%2000%3A00&EndTime=2020-12-31%2000%3A00&TimeZone=12&Calendar=CALENDARYEAR&Interval=PointsAsRecorded&Step=1&ExportFormat=csv&TimeAligned=True&RoundData=False&IncludeGradeCodes=False&IncludeApprovalLevels=False&IncludeInterpolationTypes=False&Datasets[0].DatasetName=Discharge%20Value.NRWQN%40TK6&Datasets[0].Calculation=Instantaneous&Datasets[0].UnitId=140\"))) %>% row_calc1()\n",
    "\"Waitaki checkpoint\"\n",
    "kawarau <- as_tibble(read.csv(text = getURL(\"https://hydrowebportal.niwa.co.nz/Export/BulkExport?DateRange=Custom&StartTime=2015-01-01%2000%3A00&EndTime=2020-12-31%2000%3A00&TimeZone=12&Calendar=CALENDARYEAR&Interval=PointsAsRecorded&Step=1&ExportFormat=csv&TimeAligned=True&RoundData=False&IncludeGradeCodes=False&IncludeApprovalLevels=False&IncludeInterpolationTypes=False&Datasets[0].DatasetName=Discharge%20Value.NRWQN%40AX2&Datasets[0].Calculation=Instantaneous&Datasets[0].UnitId=140\"))) %>% row_calc1()                                    \n",
    "\"Kawarau checkpoint\"\n",
    "clutha <- as_tibble(read.csv(text = getURL(\"https://hydrowebportal.niwa.co.nz/Export/BulkExport?DateRange=Custom&StartTime=2015-01-01%2000%3A00&EndTime=2020-12-31%2000%3A00&TimeZone=12&Calendar=CALENDARYEAR&Interval=Monthly&Step=1&ExportFormat=csv&TimeAligned=True&RoundData=False&IncludeGradeCodes=False&IncludeApprovalLevels=False&IncludeInterpolationTypes=False&Datasets[0].DatasetName=Discharge.Master%4075207&Datasets[0].Calculation=Instantaneous&Datasets[0].UnitId=140\"))) %>% row_calc2()                  \n",
    "\"Clutha checkpoint\"\n",
    "mataura <- as_tibble(read.csv(text = getURL(\"https://hydrowebportal.niwa.co.nz/Export/BulkExport?DateRange=Custom&StartTime=2015-01-01%2000%3A00&EndTime=2020-12-31%2000%3A00&TimeZone=12&Calendar=CALENDARYEAR&Interval=PointsAsRecorded&Step=1&ExportFormat=csv&TimeAligned=True&RoundData=False&IncludeGradeCodes=False&IncludeApprovalLevels=False&IncludeInterpolationTypes=False&Datasets[0].DatasetName=Discharge%20Value.NRWQN%40DN5&Datasets[0].Calculation=Instantaneous&Datasets[0].UnitId=140\"))) %>% row_calc1() \n",
    "\"Mataura checkpoint\"\n",
    "#empty data sets, monowai <- read.csv(text = getURL(\"https://hydrowebportal.niwa.co.nz/Export/BulkExport?DateRange=Custom&StartTime=2020-01-01%2000%3A00&EndTime=2020-12-31%2000%3A00&TimeZone=12&Calendar=CALENDARYEAR&Interval=PointsAsRecorded&Step=1&ExportFormat=csv&TimeAligned=True&RoundData=False&IncludeGradeCodes=False&IncludeApprovalLevels=False&IncludeInterpolationTypes=False&Datasets[0].DatasetName=Discharge%20Value.NRWQN%40DN10&Datasets[0].Calculation=Instantaneous&Datasets[0].UnitId=140\"))                    \n",
    "#taieri <- read.csv(text = getURL(\"https://hydrowebportal.niwa.co.nz/Export/BulkExport?DateRange=Custom&StartTime=2020-01-01%2000%3A00&EndTime=2020-12-31%2000%3A00&TimeZone=12&Calendar=CALENDARYEAR&Interval=PointsAsRecorded&Step=1&ExportFormat=csv&TimeAligned=True&RoundData=False&IncludeGradeCodes=False&IncludeApprovalLevels=False&IncludeInterpolationTypes=False&Datasets[0].DatasetName=Discharge%20Value.NRWQN%40DN3&Datasets[0].Calculation=Instantaneous&Datasets[0].UnitId=140\"))\n",
    "\n",
    "\n",
    "\n"
   ]
  },
  {
   "cell_type": "markdown",
   "id": "872af53f",
   "metadata": {},
   "source": [
    "## Webscrape hydro stations power output\n",
    "Jensen"
   ]
  },
  {
   "cell_type": "markdown",
   "id": "d9eb0a9c",
   "metadata": {},
   "source": [
    "### Information variables"
   ]
  },
  {
   "cell_type": "code",
   "execution_count": 6,
   "id": "8b51a8d1-e252-4dc3-b0bb-c066b64bb2db",
   "metadata": {},
   "outputs": [],
   "source": [
    "# Main site address\n",
    "main_url <- \"https://www.emi.ea.govt.nz\"\n",
    "# Sub address for electricity generation information\n",
    "power_url <- \"/Wholesale/Datasets/Generation/Generation_MD\"\n",
    "# Sub address for hydrostations fleet\n",
    "stations_url <- \"/Wholesale/Datasets/Generation/Generation_fleet/Existing\"\n",
    "# Sub address for network supply points\n",
    "points_url <- \"/Wholesale/Reports/R_NSPL_DR?_si=v|3\""
   ]
  },
  {
   "cell_type": "markdown",
   "id": "c9940866",
   "metadata": {},
   "source": [
    "### Retrieve generation output data"
   ]
  },
  {
   "cell_type": "code",
   "execution_count": 7,
   "id": "8ef47cc4",
   "metadata": {},
   "outputs": [
    {
     "data": {
      "text/html": [
       "'Source checkpoint'"
      ],
      "text/latex": [
       "'Source checkpoint'"
      ],
      "text/markdown": [
       "'Source checkpoint'"
      ],
      "text/plain": [
       "[1] \"Source checkpoint\""
      ]
     },
     "metadata": {},
     "output_type": "display_data"
    },
    {
     "data": {
      "text/html": [
       "'Links identification checkpoint'"
      ],
      "text/latex": [
       "'Links identification checkpoint'"
      ],
      "text/markdown": [
       "'Links identification checkpoint'"
      ],
      "text/plain": [
       "[1] \"Links identification checkpoint\""
      ]
     },
     "metadata": {},
     "output_type": "display_data"
    },
    {
     "data": {
      "text/html": [
       "'Links filtered checkpoint'"
      ],
      "text/latex": [
       "'Links filtered checkpoint'"
      ],
      "text/markdown": [
       "'Links filtered checkpoint'"
      ],
      "text/plain": [
       "[1] \"Links filtered checkpoint\""
      ]
     },
     "metadata": {},
     "output_type": "display_data"
    },
    {
     "data": {
      "text/html": [
       "'Date extraction checkpoint'"
      ],
      "text/latex": [
       "'Date extraction checkpoint'"
      ],
      "text/markdown": [
       "'Date extraction checkpoint'"
      ],
      "text/plain": [
       "[1] \"Date extraction checkpoint\""
      ]
     },
     "metadata": {},
     "output_type": "display_data"
    },
    {
     "data": {
      "text/html": [
       "'Links selected checkpoint'"
      ],
      "text/latex": [
       "'Links selected checkpoint'"
      ],
      "text/markdown": [
       "'Links selected checkpoint'"
      ],
      "text/plain": [
       "[1] \"Links selected checkpoint\""
      ]
     },
     "metadata": {},
     "output_type": "display_data"
    },
    {
     "data": {
      "text/html": [
       "'Generation retrieval checkpoint'"
      ],
      "text/latex": [
       "'Generation retrieval checkpoint'"
      ],
      "text/markdown": [
       "'Generation retrieval checkpoint'"
      ],
      "text/plain": [
       "[1] \"Generation retrieval checkpoint\""
      ]
     },
     "metadata": {},
     "output_type": "display_data"
    },
    {
     "data": {
      "text/html": [
       "'Data filter checkpoint'"
      ],
      "text/latex": [
       "'Data filter checkpoint'"
      ],
      "text/markdown": [
       "'Data filter checkpoint'"
      ],
      "text/plain": [
       "[1] \"Data filter checkpoint\""
      ]
     },
     "metadata": {},
     "output_type": "display_data"
    },
    {
     "data": {
      "text/html": [
       "'RETRIEVAL COMPLETE'"
      ],
      "text/latex": [
       "'RETRIEVAL COMPLETE'"
      ],
      "text/markdown": [
       "'RETRIEVAL COMPLETE'"
      ],
      "text/plain": [
       "[1] \"RETRIEVAL COMPLETE\""
      ]
     },
     "metadata": {},
     "output_type": "display_data"
    }
   ],
   "source": [
    "# Acquire html code from sub address\n",
    "source <- paste(main_url, power_url, sep=\"\") %>% read_html()\n",
    "\"Source checkpoint\"\n",
    "# Identify all links in the given html class\n",
    "all_links <- source %>% html_nodes(\".table\") %>% html_elements(\"a\") %>% html_attr(\"href\")\n",
    "\"Links identification checkpoint\"\n",
    "# Identify appropriate urls within links and remove duplicates\n",
    "filtered_links <- all_links[startsWith(all_links, power_url) & !duplicated(all_links)]\n",
    "\"Links filtered checkpoint\"\n",
    "# Extract date information from filtered links\n",
    "start_pos <- nchar(power_url) + 2\n",
    "dates <- substring(filtered_links , start_pos, start_pos + 3) \n",
    "\"Date extraction checkpoint\"\n",
    "# Set dates wanted\n",
    "dates_wanted <- seq(from=2015,to=2020)\n",
    "# Select links containing csv data\n",
    "selected_links <- filtered_links[dates %in% dates_wanted]\n",
    "\"Links selected checkpoint\"\n",
    "# Extract csv data into dataframes\n",
    "link <- paste(main_url, selected_links, sep=\"\") \n",
    "generation_md <- link %>% future_map_dfr(read_csv, show_col_types = FALSE)\n",
    "\"Generation retrieval checkpoint\"\n",
    "\n",
    "# Filter out non hydro stations\n",
    "generation_md_hydro <- generation_md %>% filter(Tech_Code == \"Hydro\")\n",
    "\"Data filter checkpoint\"\n",
    "\"RETRIEVAL COMPLETE\""
   ]
  },
  {
   "cell_type": "code",
   "execution_count": null,
   "id": "a07bf93b-3ac9-4ac5-bc4d-680dfa7d965d",
   "metadata": {},
   "outputs": [],
   "source": [
    "#Sujung"
   ]
  },
  {
   "cell_type": "markdown",
   "id": "5ea2c897",
   "metadata": {},
   "source": [
    "## River flows and hydrostations power output combination"
   ]
  },
  {
   "cell_type": "code",
   "execution_count": 10,
   "id": "c1223730",
   "metadata": {},
   "outputs": [
    {
     "data": {
      "text/html": [
       "<table class=\"dataframe\">\n",
       "<caption>A spec_tbl_df: 6260 × 57</caption>\n",
       "<thead>\n",
       "\t<tr><th scope=col>Site_Code</th><th scope=col>POC_Code</th><th scope=col>Nwk_Code</th><th scope=col>Gen_Code</th><th scope=col>Fuel_Code</th><th scope=col>Tech_Code</th><th scope=col>Trading_date</th><th scope=col>TP1</th><th scope=col>TP2</th><th scope=col>TP3</th><th scope=col>⋯</th><th scope=col>TP41</th><th scope=col>TP42</th><th scope=col>TP43</th><th scope=col>TP44</th><th scope=col>TP45</th><th scope=col>TP46</th><th scope=col>TP47</th><th scope=col>TP48</th><th scope=col>TP49</th><th scope=col>TP50</th></tr>\n",
       "\t<tr><th scope=col>&lt;chr&gt;</th><th scope=col>&lt;chr&gt;</th><th scope=col>&lt;chr&gt;</th><th scope=col>&lt;chr&gt;</th><th scope=col>&lt;chr&gt;</th><th scope=col>&lt;chr&gt;</th><th scope=col>&lt;date&gt;</th><th scope=col>&lt;dbl&gt;</th><th scope=col>&lt;dbl&gt;</th><th scope=col>&lt;dbl&gt;</th><th scope=col>⋯</th><th scope=col>&lt;dbl&gt;</th><th scope=col>&lt;dbl&gt;</th><th scope=col>&lt;dbl&gt;</th><th scope=col>&lt;dbl&gt;</th><th scope=col>&lt;dbl&gt;</th><th scope=col>&lt;dbl&gt;</th><th scope=col>&lt;dbl&gt;</th><th scope=col>&lt;dbl&gt;</th><th scope=col>&lt;dbl&gt;</th><th scope=col>&lt;dbl&gt;</th></tr>\n",
       "</thead>\n",
       "<tbody>\n",
       "\t<tr><td>HBK</td><td>ASB0661</td><td>EASH</td><td>highbank</td><td>Hydro</td><td>Hydro</td><td>2020-12-01</td><td>10394.654</td><td>10402.396</td><td>10400.515</td><td>⋯</td><td>10770.984</td><td>10779.275</td><td>10777.726</td><td>10787.507</td><td>10778.765</td><td>10776.972</td><td>10780.90</td><td>10781.60</td><td>NA</td><td>NA</td></tr>\n",
       "\t<tr><td>HBK</td><td>ASB0661</td><td>EASH</td><td>highbank</td><td>Hydro</td><td>Hydro</td><td>2020-12-02</td><td>10774.541</td><td>10779.167</td><td>10776.531</td><td>⋯</td><td>10287.001</td><td>10300.329</td><td>10288.844</td><td>10294.949</td><td>10295.537</td><td>10296.272</td><td>10308.60</td><td>10298.00</td><td>NA</td><td>NA</td></tr>\n",
       "\t<tr><td>HBK</td><td>ASB0661</td><td>EASH</td><td>highbank</td><td>Hydro</td><td>Hydro</td><td>2020-12-03</td><td>10282.572</td><td>10294.136</td><td>10296.615</td><td>⋯</td><td> 9656.420</td><td> 9431.461</td><td> 9409.842</td><td> 8952.222</td><td> 8913.463</td><td> 8924.997</td><td> 8928.25</td><td> 8926.29</td><td>NA</td><td>NA</td></tr>\n",
       "\t<tr><td>HBK</td><td>ASB0661</td><td>EASH</td><td>highbank</td><td>Hydro</td><td>Hydro</td><td>2020-12-04</td><td> 9050.878</td><td> 9072.595</td><td> 9059.610</td><td>⋯</td><td> 5953.667</td><td> 5956.185</td><td> 5956.146</td><td> 5497.241</td><td> 5465.989</td><td> 5464.470</td><td> 5466.65</td><td> 5466.53</td><td>NA</td><td>NA</td></tr>\n",
       "\t<tr><td>HBK</td><td>ASB0661</td><td>EASH</td><td>highbank</td><td>Hydro</td><td>Hydro</td><td>2020-12-05</td><td> 5465.519</td><td> 4542.917</td><td> 4492.036</td><td>⋯</td><td>    0.000</td><td>    0.000</td><td>    0.000</td><td>    0.000</td><td>    0.000</td><td>    0.000</td><td>    0.00</td><td>    0.00</td><td>NA</td><td>NA</td></tr>\n",
       "\t<tr><td>HBK</td><td>ASB0661</td><td>EASH</td><td>highbank</td><td>Hydro</td><td>Hydro</td><td>2020-12-06</td><td>    0.000</td><td>    0.000</td><td>    0.000</td><td>⋯</td><td>    0.000</td><td>    0.000</td><td>    0.000</td><td>    0.000</td><td>    0.000</td><td>    0.000</td><td>    0.00</td><td>    0.00</td><td>NA</td><td>NA</td></tr>\n",
       "\t<tr><td>HBK</td><td>ASB0661</td><td>EASH</td><td>highbank</td><td>Hydro</td><td>Hydro</td><td>2020-12-07</td><td>    0.000</td><td>    0.000</td><td>    0.000</td><td>⋯</td><td>    0.000</td><td>    0.000</td><td>    0.000</td><td>    0.000</td><td>    0.000</td><td>    0.000</td><td>    0.00</td><td>    0.00</td><td>NA</td><td>NA</td></tr>\n",
       "\t<tr><td>HBK</td><td>ASB0661</td><td>EASH</td><td>highbank</td><td>Hydro</td><td>Hydro</td><td>2020-12-08</td><td>    0.000</td><td>    0.000</td><td>    0.000</td><td>⋯</td><td>    0.000</td><td>    0.000</td><td>    0.000</td><td>    0.000</td><td>    0.000</td><td>    0.000</td><td>    0.00</td><td>    0.00</td><td>NA</td><td>NA</td></tr>\n",
       "\t<tr><td>HBK</td><td>ASB0661</td><td>EASH</td><td>highbank</td><td>Hydro</td><td>Hydro</td><td>2020-12-09</td><td>    0.000</td><td>    0.000</td><td>    0.000</td><td>⋯</td><td>    0.000</td><td>    0.000</td><td>    0.000</td><td>    0.000</td><td>    0.000</td><td>    0.000</td><td>    0.00</td><td>    0.00</td><td>NA</td><td>NA</td></tr>\n",
       "\t<tr><td>HBK</td><td>ASB0661</td><td>EASH</td><td>highbank</td><td>Hydro</td><td>Hydro</td><td>2020-12-10</td><td>    0.000</td><td>    0.000</td><td>    0.000</td><td>⋯</td><td>    0.000</td><td>    0.000</td><td>    0.000</td><td>    0.000</td><td>    0.000</td><td>    0.000</td><td>    0.00</td><td>    0.00</td><td>NA</td><td>NA</td></tr>\n",
       "\t<tr><td>HBK</td><td>ASB0661</td><td>EASH</td><td>highbank</td><td>Hydro</td><td>Hydro</td><td>2020-12-11</td><td>    0.000</td><td>    0.000</td><td>    0.000</td><td>⋯</td><td>    0.000</td><td>    0.000</td><td>    0.000</td><td>    0.000</td><td>    0.000</td><td>    0.000</td><td>    0.00</td><td>    0.00</td><td>NA</td><td>NA</td></tr>\n",
       "\t<tr><td>HBK</td><td>ASB0661</td><td>EASH</td><td>highbank</td><td>Hydro</td><td>Hydro</td><td>2020-12-12</td><td>    0.000</td><td>    0.000</td><td>    0.000</td><td>⋯</td><td>    0.000</td><td>    0.000</td><td>    0.000</td><td>    0.000</td><td>    0.000</td><td>    0.000</td><td>    0.00</td><td>    0.00</td><td>NA</td><td>NA</td></tr>\n",
       "\t<tr><td>HBK</td><td>ASB0661</td><td>EASH</td><td>highbank</td><td>Hydro</td><td>Hydro</td><td>2020-12-13</td><td>    0.000</td><td>    0.000</td><td>    0.000</td><td>⋯</td><td>    0.000</td><td>    0.000</td><td>    0.000</td><td>    0.000</td><td>    0.000</td><td>    0.000</td><td>    0.00</td><td>    0.00</td><td>NA</td><td>NA</td></tr>\n",
       "\t<tr><td>HBK</td><td>ASB0661</td><td>EASH</td><td>highbank</td><td>Hydro</td><td>Hydro</td><td>2020-12-14</td><td>    0.000</td><td>    0.000</td><td>    0.000</td><td>⋯</td><td>    0.000</td><td>    0.000</td><td>    0.000</td><td>    0.000</td><td>    0.000</td><td>    0.000</td><td>    0.00</td><td>    0.00</td><td>NA</td><td>NA</td></tr>\n",
       "\t<tr><td>HBK</td><td>ASB0661</td><td>EASH</td><td>highbank</td><td>Hydro</td><td>Hydro</td><td>2020-12-15</td><td>    0.000</td><td>    0.000</td><td>    0.000</td><td>⋯</td><td>    0.000</td><td>    0.000</td><td>    0.000</td><td>    0.000</td><td>    0.000</td><td>    0.000</td><td>    0.00</td><td>    0.00</td><td>NA</td><td>NA</td></tr>\n",
       "\t<tr><td>HBK</td><td>ASB0661</td><td>EASH</td><td>highbank</td><td>Hydro</td><td>Hydro</td><td>2020-12-16</td><td>    0.000</td><td>    0.000</td><td>    0.000</td><td>⋯</td><td>    0.000</td><td>    0.000</td><td>    0.000</td><td>    0.000</td><td>    0.000</td><td>    0.000</td><td>    0.00</td><td>    0.00</td><td>NA</td><td>NA</td></tr>\n",
       "\t<tr><td>HBK</td><td>ASB0661</td><td>EASH</td><td>highbank</td><td>Hydro</td><td>Hydro</td><td>2020-12-17</td><td>    0.000</td><td>    0.000</td><td>    0.000</td><td>⋯</td><td>    0.000</td><td>    0.000</td><td>    0.000</td><td>    0.000</td><td>    0.000</td><td>    0.000</td><td>    0.00</td><td>    0.00</td><td>NA</td><td>NA</td></tr>\n",
       "\t<tr><td>HBK</td><td>ASB0661</td><td>EASH</td><td>highbank</td><td>Hydro</td><td>Hydro</td><td>2020-12-18</td><td>    0.000</td><td>    0.000</td><td>    0.000</td><td>⋯</td><td>    0.000</td><td>    0.000</td><td>    0.000</td><td>    0.000</td><td>    0.000</td><td>    0.000</td><td>    0.00</td><td>    0.00</td><td>NA</td><td>NA</td></tr>\n",
       "\t<tr><td>HBK</td><td>ASB0661</td><td>EASH</td><td>highbank</td><td>Hydro</td><td>Hydro</td><td>2020-12-19</td><td>    0.000</td><td>    0.000</td><td>    0.000</td><td>⋯</td><td>    0.000</td><td>    0.000</td><td>    0.000</td><td>    0.000</td><td>    0.000</td><td>    0.000</td><td>    0.00</td><td>    0.00</td><td>NA</td><td>NA</td></tr>\n",
       "\t<tr><td>HBK</td><td>ASB0661</td><td>EASH</td><td>highbank</td><td>Hydro</td><td>Hydro</td><td>2020-12-20</td><td>    0.000</td><td>    0.000</td><td>    0.000</td><td>⋯</td><td>    0.000</td><td>    0.000</td><td>    0.000</td><td>    0.000</td><td>    0.000</td><td>    0.000</td><td>    0.00</td><td>    0.00</td><td>NA</td><td>NA</td></tr>\n",
       "\t<tr><td>HBK</td><td>ASB0661</td><td>EASH</td><td>highbank</td><td>Hydro</td><td>Hydro</td><td>2020-12-21</td><td>    0.000</td><td>    0.000</td><td>    0.000</td><td>⋯</td><td>    0.000</td><td>    0.000</td><td>    0.000</td><td>    0.000</td><td>    0.000</td><td>    0.000</td><td>    0.00</td><td>    0.00</td><td>NA</td><td>NA</td></tr>\n",
       "\t<tr><td>HBK</td><td>ASB0661</td><td>EASH</td><td>highbank</td><td>Hydro</td><td>Hydro</td><td>2020-12-22</td><td>    0.000</td><td>    0.000</td><td>    0.000</td><td>⋯</td><td>    0.000</td><td>    0.000</td><td>    0.000</td><td>    0.000</td><td>    0.000</td><td>    0.000</td><td>    0.00</td><td>    0.00</td><td>NA</td><td>NA</td></tr>\n",
       "\t<tr><td>HBK</td><td>ASB0661</td><td>EASH</td><td>highbank</td><td>Hydro</td><td>Hydro</td><td>2020-12-23</td><td>    0.000</td><td>    0.000</td><td>    0.000</td><td>⋯</td><td>    0.000</td><td>    0.000</td><td>    0.000</td><td>    0.000</td><td>    0.000</td><td>    0.000</td><td>    0.00</td><td>    0.00</td><td>NA</td><td>NA</td></tr>\n",
       "\t<tr><td>HBK</td><td>ASB0661</td><td>EASH</td><td>highbank</td><td>Hydro</td><td>Hydro</td><td>2020-12-24</td><td>    0.000</td><td>    0.000</td><td>    0.000</td><td>⋯</td><td> 4342.390</td><td> 4382.717</td><td> 5286.051</td><td> 5370.390</td><td> 6327.713</td><td> 6345.314</td><td> 6347.73</td><td> 6349.67</td><td>NA</td><td>NA</td></tr>\n",
       "\t<tr><td>HBK</td><td>ASB0661</td><td>EASH</td><td>highbank</td><td>Hydro</td><td>Hydro</td><td>2020-12-25</td><td> 6350.008</td><td> 5135.729</td><td> 4259.678</td><td>⋯</td><td> 7084.567</td><td> 7797.654</td><td> 7829.524</td><td> 8297.983</td><td> 8320.474</td><td> 8319.102</td><td> 8325.92</td><td> 8318.18</td><td>NA</td><td>NA</td></tr>\n",
       "\t<tr><td>HBK</td><td>ASB0661</td><td>EASH</td><td>highbank</td><td>Hydro</td><td>Hydro</td><td>2020-12-26</td><td> 8316.496</td><td> 8805.016</td><td> 8826.664</td><td>⋯</td><td> 9302.591</td><td> 9303.160</td><td> 9302.542</td><td> 9778.930</td><td> 9807.634</td><td>10270.792</td><td>10287.70</td><td>10283.20</td><td>NA</td><td>NA</td></tr>\n",
       "\t<tr><td>HBK</td><td>ASB0661</td><td>EASH</td><td>highbank</td><td>Hydro</td><td>Hydro</td><td>2020-12-27</td><td>10286.854</td><td>10284.884</td><td>10291.352</td><td>⋯</td><td>10046.989</td><td>10049.802</td><td>10048.508</td><td>10047.421</td><td>10365.901</td><td>10392.655</td><td>10390.20</td><td>10392.80</td><td>NA</td><td>NA</td></tr>\n",
       "\t<tr><td>HBK</td><td>ASB0661</td><td>EASH</td><td>highbank</td><td>Hydro</td><td>Hydro</td><td>2020-12-28</td><td>10405.434</td><td>10392.322</td><td>10395.448</td><td>⋯</td><td>10779.716</td><td>10779.118</td><td>10781.264</td><td>10779.706</td><td>10784.096</td><td>10780.833</td><td>10404.40</td><td>10390.30</td><td>NA</td><td>NA</td></tr>\n",
       "\t<tr><td>HBK</td><td>ASB0661</td><td>EASH</td><td>highbank</td><td>Hydro</td><td>Hydro</td><td>2020-12-29</td><td>10393.184</td><td>10392.234</td><td>10391.283</td><td>⋯</td><td>10634.597</td><td>10415.597</td><td>10393.282</td><td>10401.622</td><td>10400.358</td><td>10401.387</td><td>10402.80</td><td>10402.10</td><td>NA</td><td>NA</td></tr>\n",
       "\t<tr><td>HBK</td><td>ASB0661</td><td>EASH</td><td>highbank</td><td>Hydro</td><td>Hydro</td><td>2020-12-30</td><td>10401.749</td><td>10398.878</td><td>10400.250</td><td>⋯</td><td>10148.762</td><td>10151.065</td><td>10149.811</td><td>10149.399</td><td>10150.556</td><td>10148.988</td><td>10151.10</td><td>10283.80</td><td>NA</td><td>NA</td></tr>\n",
       "\t<tr><td>⋮</td><td>⋮</td><td>⋮</td><td>⋮</td><td>⋮</td><td>⋮</td><td>⋮</td><td>⋮</td><td>⋮</td><td>⋮</td><td>⋱</td><td>⋮</td><td>⋮</td><td>⋮</td><td>⋮</td><td>⋮</td><td>⋮</td><td>⋮</td><td>⋮</td><td>⋮</td><td>⋮</td></tr>\n",
       "\t<tr><td>HBK</td><td>ASB0661</td><td>EASH</td><td>highbank</td><td>Hydro</td><td>Hydro</td><td>2015-01-02</td><td>0</td><td>0</td><td>0</td><td>⋯</td><td>   0.00</td><td>  0.000</td><td>0</td><td>0</td><td>0</td><td>0</td><td>0</td><td>0</td><td>NA</td><td>NA</td></tr>\n",
       "\t<tr><td>HBK</td><td>ASB0661</td><td>EASH</td><td>highbank</td><td>Hydro</td><td>Hydro</td><td>2015-01-03</td><td>0</td><td>0</td><td>0</td><td>⋯</td><td>   0.00</td><td>  0.000</td><td>0</td><td>0</td><td>0</td><td>0</td><td>0</td><td>0</td><td>NA</td><td>NA</td></tr>\n",
       "\t<tr><td>HBK</td><td>ASB0661</td><td>EASH</td><td>highbank</td><td>Hydro</td><td>Hydro</td><td>2015-01-04</td><td>0</td><td>0</td><td>0</td><td>⋯</td><td>   0.00</td><td>  0.000</td><td>0</td><td>0</td><td>0</td><td>0</td><td>0</td><td>0</td><td>NA</td><td>NA</td></tr>\n",
       "\t<tr><td>HBK</td><td>ASB0661</td><td>EASH</td><td>highbank</td><td>Hydro</td><td>Hydro</td><td>2015-01-05</td><td>0</td><td>0</td><td>0</td><td>⋯</td><td>   0.00</td><td>  0.000</td><td>0</td><td>0</td><td>0</td><td>0</td><td>0</td><td>0</td><td>NA</td><td>NA</td></tr>\n",
       "\t<tr><td>HBK</td><td>ASB0661</td><td>EASH</td><td>highbank</td><td>Hydro</td><td>Hydro</td><td>2015-01-06</td><td>0</td><td>0</td><td>0</td><td>⋯</td><td>   0.00</td><td>  0.000</td><td>0</td><td>0</td><td>0</td><td>0</td><td>0</td><td>0</td><td>NA</td><td>NA</td></tr>\n",
       "\t<tr><td>HBK</td><td>ASB0661</td><td>EASH</td><td>highbank</td><td>Hydro</td><td>Hydro</td><td>2015-01-07</td><td>0</td><td>0</td><td>0</td><td>⋯</td><td>   0.00</td><td>  0.000</td><td>0</td><td>0</td><td>0</td><td>0</td><td>0</td><td>0</td><td>NA</td><td>NA</td></tr>\n",
       "\t<tr><td>HBK</td><td>ASB0661</td><td>EASH</td><td>highbank</td><td>Hydro</td><td>Hydro</td><td>2015-01-08</td><td>0</td><td>0</td><td>0</td><td>⋯</td><td>   0.00</td><td>  0.000</td><td>0</td><td>0</td><td>0</td><td>0</td><td>0</td><td>0</td><td>NA</td><td>NA</td></tr>\n",
       "\t<tr><td>HBK</td><td>ASB0661</td><td>EASH</td><td>highbank</td><td>Hydro</td><td>Hydro</td><td>2015-01-09</td><td>0</td><td>0</td><td>0</td><td>⋯</td><td>   0.00</td><td>  0.000</td><td>0</td><td>0</td><td>0</td><td>0</td><td>0</td><td>0</td><td>NA</td><td>NA</td></tr>\n",
       "\t<tr><td>HBK</td><td>ASB0661</td><td>EASH</td><td>highbank</td><td>Hydro</td><td>Hydro</td><td>2015-01-10</td><td>0</td><td>0</td><td>0</td><td>⋯</td><td>   0.00</td><td>  0.000</td><td>0</td><td>0</td><td>0</td><td>0</td><td>0</td><td>0</td><td>NA</td><td>NA</td></tr>\n",
       "\t<tr><td>HBK</td><td>ASB0661</td><td>EASH</td><td>highbank</td><td>Hydro</td><td>Hydro</td><td>2015-01-11</td><td>0</td><td>0</td><td>0</td><td>⋯</td><td>   0.00</td><td>  0.000</td><td>0</td><td>0</td><td>0</td><td>0</td><td>0</td><td>0</td><td>NA</td><td>NA</td></tr>\n",
       "\t<tr><td>HBK</td><td>ASB0661</td><td>EASH</td><td>highbank</td><td>Hydro</td><td>Hydro</td><td>2015-01-12</td><td>0</td><td>0</td><td>0</td><td>⋯</td><td>   0.00</td><td>  0.000</td><td>0</td><td>0</td><td>0</td><td>0</td><td>0</td><td>0</td><td>NA</td><td>NA</td></tr>\n",
       "\t<tr><td>HBK</td><td>ASB0661</td><td>EASH</td><td>highbank</td><td>Hydro</td><td>Hydro</td><td>2015-01-13</td><td>0</td><td>0</td><td>0</td><td>⋯</td><td>   0.00</td><td>  0.000</td><td>0</td><td>0</td><td>0</td><td>0</td><td>0</td><td>0</td><td>NA</td><td>NA</td></tr>\n",
       "\t<tr><td>HBK</td><td>ASB0661</td><td>EASH</td><td>highbank</td><td>Hydro</td><td>Hydro</td><td>2015-01-14</td><td>0</td><td>0</td><td>0</td><td>⋯</td><td>   0.00</td><td>  0.000</td><td>0</td><td>0</td><td>0</td><td>0</td><td>0</td><td>0</td><td>NA</td><td>NA</td></tr>\n",
       "\t<tr><td>HBK</td><td>ASB0661</td><td>EASH</td><td>highbank</td><td>Hydro</td><td>Hydro</td><td>2015-01-15</td><td>0</td><td>0</td><td>0</td><td>⋯</td><td>   0.00</td><td>  0.000</td><td>0</td><td>0</td><td>0</td><td>0</td><td>0</td><td>0</td><td>NA</td><td>NA</td></tr>\n",
       "\t<tr><td>HBK</td><td>ASB0661</td><td>EASH</td><td>highbank</td><td>Hydro</td><td>Hydro</td><td>2015-01-16</td><td>0</td><td>0</td><td>0</td><td>⋯</td><td>   0.00</td><td>  0.000</td><td>0</td><td>0</td><td>0</td><td>0</td><td>0</td><td>0</td><td>NA</td><td>NA</td></tr>\n",
       "\t<tr><td>HBK</td><td>ASB0661</td><td>EASH</td><td>highbank</td><td>Hydro</td><td>Hydro</td><td>2015-01-17</td><td>0</td><td>0</td><td>0</td><td>⋯</td><td>   0.00</td><td>  0.000</td><td>0</td><td>0</td><td>0</td><td>0</td><td>0</td><td>0</td><td>NA</td><td>NA</td></tr>\n",
       "\t<tr><td>HBK</td><td>ASB0661</td><td>EASH</td><td>highbank</td><td>Hydro</td><td>Hydro</td><td>2015-01-18</td><td>0</td><td>0</td><td>0</td><td>⋯</td><td>   0.00</td><td>  0.000</td><td>0</td><td>0</td><td>0</td><td>0</td><td>0</td><td>0</td><td>NA</td><td>NA</td></tr>\n",
       "\t<tr><td>HBK</td><td>ASB0661</td><td>EASH</td><td>highbank</td><td>Hydro</td><td>Hydro</td><td>2015-01-19</td><td>0</td><td>0</td><td>0</td><td>⋯</td><td>   0.00</td><td>  0.000</td><td>0</td><td>0</td><td>0</td><td>0</td><td>0</td><td>0</td><td>NA</td><td>NA</td></tr>\n",
       "\t<tr><td>HBK</td><td>ASB0661</td><td>EASH</td><td>highbank</td><td>Hydro</td><td>Hydro</td><td>2015-01-20</td><td>0</td><td>0</td><td>0</td><td>⋯</td><td>   0.00</td><td>  0.000</td><td>0</td><td>0</td><td>0</td><td>0</td><td>0</td><td>0</td><td>NA</td><td>NA</td></tr>\n",
       "\t<tr><td>HBK</td><td>ASB0661</td><td>EASH</td><td>highbank</td><td>Hydro</td><td>Hydro</td><td>2015-01-21</td><td>0</td><td>0</td><td>0</td><td>⋯</td><td>   0.00</td><td>  0.000</td><td>0</td><td>0</td><td>0</td><td>0</td><td>0</td><td>0</td><td>NA</td><td>NA</td></tr>\n",
       "\t<tr><td>HBK</td><td>ASB0661</td><td>EASH</td><td>highbank</td><td>Hydro</td><td>Hydro</td><td>2015-01-22</td><td>0</td><td>0</td><td>0</td><td>⋯</td><td>   0.00</td><td>  0.000</td><td>0</td><td>0</td><td>0</td><td>0</td><td>0</td><td>0</td><td>NA</td><td>NA</td></tr>\n",
       "\t<tr><td>HBK</td><td>ASB0661</td><td>EASH</td><td>highbank</td><td>Hydro</td><td>Hydro</td><td>2015-01-23</td><td>0</td><td>0</td><td>0</td><td>⋯</td><td>   0.00</td><td>  0.000</td><td>0</td><td>0</td><td>0</td><td>0</td><td>0</td><td>0</td><td>NA</td><td>NA</td></tr>\n",
       "\t<tr><td>HBK</td><td>ASB0661</td><td>EASH</td><td>highbank</td><td>Hydro</td><td>Hydro</td><td>2015-01-24</td><td>0</td><td>0</td><td>0</td><td>⋯</td><td>   0.00</td><td>  0.000</td><td>0</td><td>0</td><td>0</td><td>0</td><td>0</td><td>0</td><td>NA</td><td>NA</td></tr>\n",
       "\t<tr><td>HBK</td><td>ASB0661</td><td>EASH</td><td>highbank</td><td>Hydro</td><td>Hydro</td><td>2015-01-25</td><td>0</td><td>0</td><td>0</td><td>⋯</td><td>   0.00</td><td>  0.000</td><td>0</td><td>0</td><td>0</td><td>0</td><td>0</td><td>0</td><td>NA</td><td>NA</td></tr>\n",
       "\t<tr><td>HBK</td><td>ASB0661</td><td>EASH</td><td>highbank</td><td>Hydro</td><td>Hydro</td><td>2015-01-26</td><td>0</td><td>0</td><td>0</td><td>⋯</td><td>   0.00</td><td>  0.000</td><td>0</td><td>0</td><td>0</td><td>0</td><td>0</td><td>0</td><td>NA</td><td>NA</td></tr>\n",
       "\t<tr><td>HBK</td><td>ASB0661</td><td>EASH</td><td>highbank</td><td>Hydro</td><td>Hydro</td><td>2015-01-27</td><td>0</td><td>0</td><td>0</td><td>⋯</td><td>   0.00</td><td>  0.000</td><td>0</td><td>0</td><td>0</td><td>0</td><td>0</td><td>0</td><td>NA</td><td>NA</td></tr>\n",
       "\t<tr><td>HBK</td><td>ASB0661</td><td>EASH</td><td>highbank</td><td>Hydro</td><td>Hydro</td><td>2015-01-28</td><td>0</td><td>0</td><td>0</td><td>⋯</td><td>2342.42</td><td>973.957</td><td>0</td><td>0</td><td>0</td><td>0</td><td>0</td><td>0</td><td>NA</td><td>NA</td></tr>\n",
       "\t<tr><td>HBK</td><td>ASB0661</td><td>EASH</td><td>highbank</td><td>Hydro</td><td>Hydro</td><td>2015-01-29</td><td>0</td><td>0</td><td>0</td><td>⋯</td><td>   0.00</td><td>  0.000</td><td>0</td><td>0</td><td>0</td><td>0</td><td>0</td><td>0</td><td>NA</td><td>NA</td></tr>\n",
       "\t<tr><td>HBK</td><td>ASB0661</td><td>EASH</td><td>highbank</td><td>Hydro</td><td>Hydro</td><td>2015-01-30</td><td>0</td><td>0</td><td>0</td><td>⋯</td><td>   0.00</td><td>  0.000</td><td>0</td><td>0</td><td>0</td><td>0</td><td>0</td><td>0</td><td>NA</td><td>NA</td></tr>\n",
       "\t<tr><td>HBK</td><td>ASB0661</td><td>EASH</td><td>highbank</td><td>Hydro</td><td>Hydro</td><td>2015-01-31</td><td>0</td><td>0</td><td>0</td><td>⋯</td><td>   0.00</td><td>  0.000</td><td>0</td><td>0</td><td>0</td><td>0</td><td>0</td><td>0</td><td>NA</td><td>NA</td></tr>\n",
       "</tbody>\n",
       "</table>\n"
      ],
      "text/latex": [
       "A spec\\_tbl\\_df: 6260 × 57\n",
       "\\begin{tabular}{lllllllllllllllllllll}\n",
       " Site\\_Code & POC\\_Code & Nwk\\_Code & Gen\\_Code & Fuel\\_Code & Tech\\_Code & Trading\\_date & TP1 & TP2 & TP3 & ⋯ & TP41 & TP42 & TP43 & TP44 & TP45 & TP46 & TP47 & TP48 & TP49 & TP50\\\\\n",
       " <chr> & <chr> & <chr> & <chr> & <chr> & <chr> & <date> & <dbl> & <dbl> & <dbl> & ⋯ & <dbl> & <dbl> & <dbl> & <dbl> & <dbl> & <dbl> & <dbl> & <dbl> & <dbl> & <dbl>\\\\\n",
       "\\hline\n",
       "\t HBK & ASB0661 & EASH & highbank & Hydro & Hydro & 2020-12-01 & 10394.654 & 10402.396 & 10400.515 & ⋯ & 10770.984 & 10779.275 & 10777.726 & 10787.507 & 10778.765 & 10776.972 & 10780.90 & 10781.60 & NA & NA\\\\\n",
       "\t HBK & ASB0661 & EASH & highbank & Hydro & Hydro & 2020-12-02 & 10774.541 & 10779.167 & 10776.531 & ⋯ & 10287.001 & 10300.329 & 10288.844 & 10294.949 & 10295.537 & 10296.272 & 10308.60 & 10298.00 & NA & NA\\\\\n",
       "\t HBK & ASB0661 & EASH & highbank & Hydro & Hydro & 2020-12-03 & 10282.572 & 10294.136 & 10296.615 & ⋯ &  9656.420 &  9431.461 &  9409.842 &  8952.222 &  8913.463 &  8924.997 &  8928.25 &  8926.29 & NA & NA\\\\\n",
       "\t HBK & ASB0661 & EASH & highbank & Hydro & Hydro & 2020-12-04 &  9050.878 &  9072.595 &  9059.610 & ⋯ &  5953.667 &  5956.185 &  5956.146 &  5497.241 &  5465.989 &  5464.470 &  5466.65 &  5466.53 & NA & NA\\\\\n",
       "\t HBK & ASB0661 & EASH & highbank & Hydro & Hydro & 2020-12-05 &  5465.519 &  4542.917 &  4492.036 & ⋯ &     0.000 &     0.000 &     0.000 &     0.000 &     0.000 &     0.000 &     0.00 &     0.00 & NA & NA\\\\\n",
       "\t HBK & ASB0661 & EASH & highbank & Hydro & Hydro & 2020-12-06 &     0.000 &     0.000 &     0.000 & ⋯ &     0.000 &     0.000 &     0.000 &     0.000 &     0.000 &     0.000 &     0.00 &     0.00 & NA & NA\\\\\n",
       "\t HBK & ASB0661 & EASH & highbank & Hydro & Hydro & 2020-12-07 &     0.000 &     0.000 &     0.000 & ⋯ &     0.000 &     0.000 &     0.000 &     0.000 &     0.000 &     0.000 &     0.00 &     0.00 & NA & NA\\\\\n",
       "\t HBK & ASB0661 & EASH & highbank & Hydro & Hydro & 2020-12-08 &     0.000 &     0.000 &     0.000 & ⋯ &     0.000 &     0.000 &     0.000 &     0.000 &     0.000 &     0.000 &     0.00 &     0.00 & NA & NA\\\\\n",
       "\t HBK & ASB0661 & EASH & highbank & Hydro & Hydro & 2020-12-09 &     0.000 &     0.000 &     0.000 & ⋯ &     0.000 &     0.000 &     0.000 &     0.000 &     0.000 &     0.000 &     0.00 &     0.00 & NA & NA\\\\\n",
       "\t HBK & ASB0661 & EASH & highbank & Hydro & Hydro & 2020-12-10 &     0.000 &     0.000 &     0.000 & ⋯ &     0.000 &     0.000 &     0.000 &     0.000 &     0.000 &     0.000 &     0.00 &     0.00 & NA & NA\\\\\n",
       "\t HBK & ASB0661 & EASH & highbank & Hydro & Hydro & 2020-12-11 &     0.000 &     0.000 &     0.000 & ⋯ &     0.000 &     0.000 &     0.000 &     0.000 &     0.000 &     0.000 &     0.00 &     0.00 & NA & NA\\\\\n",
       "\t HBK & ASB0661 & EASH & highbank & Hydro & Hydro & 2020-12-12 &     0.000 &     0.000 &     0.000 & ⋯ &     0.000 &     0.000 &     0.000 &     0.000 &     0.000 &     0.000 &     0.00 &     0.00 & NA & NA\\\\\n",
       "\t HBK & ASB0661 & EASH & highbank & Hydro & Hydro & 2020-12-13 &     0.000 &     0.000 &     0.000 & ⋯ &     0.000 &     0.000 &     0.000 &     0.000 &     0.000 &     0.000 &     0.00 &     0.00 & NA & NA\\\\\n",
       "\t HBK & ASB0661 & EASH & highbank & Hydro & Hydro & 2020-12-14 &     0.000 &     0.000 &     0.000 & ⋯ &     0.000 &     0.000 &     0.000 &     0.000 &     0.000 &     0.000 &     0.00 &     0.00 & NA & NA\\\\\n",
       "\t HBK & ASB0661 & EASH & highbank & Hydro & Hydro & 2020-12-15 &     0.000 &     0.000 &     0.000 & ⋯ &     0.000 &     0.000 &     0.000 &     0.000 &     0.000 &     0.000 &     0.00 &     0.00 & NA & NA\\\\\n",
       "\t HBK & ASB0661 & EASH & highbank & Hydro & Hydro & 2020-12-16 &     0.000 &     0.000 &     0.000 & ⋯ &     0.000 &     0.000 &     0.000 &     0.000 &     0.000 &     0.000 &     0.00 &     0.00 & NA & NA\\\\\n",
       "\t HBK & ASB0661 & EASH & highbank & Hydro & Hydro & 2020-12-17 &     0.000 &     0.000 &     0.000 & ⋯ &     0.000 &     0.000 &     0.000 &     0.000 &     0.000 &     0.000 &     0.00 &     0.00 & NA & NA\\\\\n",
       "\t HBK & ASB0661 & EASH & highbank & Hydro & Hydro & 2020-12-18 &     0.000 &     0.000 &     0.000 & ⋯ &     0.000 &     0.000 &     0.000 &     0.000 &     0.000 &     0.000 &     0.00 &     0.00 & NA & NA\\\\\n",
       "\t HBK & ASB0661 & EASH & highbank & Hydro & Hydro & 2020-12-19 &     0.000 &     0.000 &     0.000 & ⋯ &     0.000 &     0.000 &     0.000 &     0.000 &     0.000 &     0.000 &     0.00 &     0.00 & NA & NA\\\\\n",
       "\t HBK & ASB0661 & EASH & highbank & Hydro & Hydro & 2020-12-20 &     0.000 &     0.000 &     0.000 & ⋯ &     0.000 &     0.000 &     0.000 &     0.000 &     0.000 &     0.000 &     0.00 &     0.00 & NA & NA\\\\\n",
       "\t HBK & ASB0661 & EASH & highbank & Hydro & Hydro & 2020-12-21 &     0.000 &     0.000 &     0.000 & ⋯ &     0.000 &     0.000 &     0.000 &     0.000 &     0.000 &     0.000 &     0.00 &     0.00 & NA & NA\\\\\n",
       "\t HBK & ASB0661 & EASH & highbank & Hydro & Hydro & 2020-12-22 &     0.000 &     0.000 &     0.000 & ⋯ &     0.000 &     0.000 &     0.000 &     0.000 &     0.000 &     0.000 &     0.00 &     0.00 & NA & NA\\\\\n",
       "\t HBK & ASB0661 & EASH & highbank & Hydro & Hydro & 2020-12-23 &     0.000 &     0.000 &     0.000 & ⋯ &     0.000 &     0.000 &     0.000 &     0.000 &     0.000 &     0.000 &     0.00 &     0.00 & NA & NA\\\\\n",
       "\t HBK & ASB0661 & EASH & highbank & Hydro & Hydro & 2020-12-24 &     0.000 &     0.000 &     0.000 & ⋯ &  4342.390 &  4382.717 &  5286.051 &  5370.390 &  6327.713 &  6345.314 &  6347.73 &  6349.67 & NA & NA\\\\\n",
       "\t HBK & ASB0661 & EASH & highbank & Hydro & Hydro & 2020-12-25 &  6350.008 &  5135.729 &  4259.678 & ⋯ &  7084.567 &  7797.654 &  7829.524 &  8297.983 &  8320.474 &  8319.102 &  8325.92 &  8318.18 & NA & NA\\\\\n",
       "\t HBK & ASB0661 & EASH & highbank & Hydro & Hydro & 2020-12-26 &  8316.496 &  8805.016 &  8826.664 & ⋯ &  9302.591 &  9303.160 &  9302.542 &  9778.930 &  9807.634 & 10270.792 & 10287.70 & 10283.20 & NA & NA\\\\\n",
       "\t HBK & ASB0661 & EASH & highbank & Hydro & Hydro & 2020-12-27 & 10286.854 & 10284.884 & 10291.352 & ⋯ & 10046.989 & 10049.802 & 10048.508 & 10047.421 & 10365.901 & 10392.655 & 10390.20 & 10392.80 & NA & NA\\\\\n",
       "\t HBK & ASB0661 & EASH & highbank & Hydro & Hydro & 2020-12-28 & 10405.434 & 10392.322 & 10395.448 & ⋯ & 10779.716 & 10779.118 & 10781.264 & 10779.706 & 10784.096 & 10780.833 & 10404.40 & 10390.30 & NA & NA\\\\\n",
       "\t HBK & ASB0661 & EASH & highbank & Hydro & Hydro & 2020-12-29 & 10393.184 & 10392.234 & 10391.283 & ⋯ & 10634.597 & 10415.597 & 10393.282 & 10401.622 & 10400.358 & 10401.387 & 10402.80 & 10402.10 & NA & NA\\\\\n",
       "\t HBK & ASB0661 & EASH & highbank & Hydro & Hydro & 2020-12-30 & 10401.749 & 10398.878 & 10400.250 & ⋯ & 10148.762 & 10151.065 & 10149.811 & 10149.399 & 10150.556 & 10148.988 & 10151.10 & 10283.80 & NA & NA\\\\\n",
       "\t ⋮ & ⋮ & ⋮ & ⋮ & ⋮ & ⋮ & ⋮ & ⋮ & ⋮ & ⋮ & ⋱ & ⋮ & ⋮ & ⋮ & ⋮ & ⋮ & ⋮ & ⋮ & ⋮ & ⋮ & ⋮\\\\\n",
       "\t HBK & ASB0661 & EASH & highbank & Hydro & Hydro & 2015-01-02 & 0 & 0 & 0 & ⋯ &    0.00 &   0.000 & 0 & 0 & 0 & 0 & 0 & 0 & NA & NA\\\\\n",
       "\t HBK & ASB0661 & EASH & highbank & Hydro & Hydro & 2015-01-03 & 0 & 0 & 0 & ⋯ &    0.00 &   0.000 & 0 & 0 & 0 & 0 & 0 & 0 & NA & NA\\\\\n",
       "\t HBK & ASB0661 & EASH & highbank & Hydro & Hydro & 2015-01-04 & 0 & 0 & 0 & ⋯ &    0.00 &   0.000 & 0 & 0 & 0 & 0 & 0 & 0 & NA & NA\\\\\n",
       "\t HBK & ASB0661 & EASH & highbank & Hydro & Hydro & 2015-01-05 & 0 & 0 & 0 & ⋯ &    0.00 &   0.000 & 0 & 0 & 0 & 0 & 0 & 0 & NA & NA\\\\\n",
       "\t HBK & ASB0661 & EASH & highbank & Hydro & Hydro & 2015-01-06 & 0 & 0 & 0 & ⋯ &    0.00 &   0.000 & 0 & 0 & 0 & 0 & 0 & 0 & NA & NA\\\\\n",
       "\t HBK & ASB0661 & EASH & highbank & Hydro & Hydro & 2015-01-07 & 0 & 0 & 0 & ⋯ &    0.00 &   0.000 & 0 & 0 & 0 & 0 & 0 & 0 & NA & NA\\\\\n",
       "\t HBK & ASB0661 & EASH & highbank & Hydro & Hydro & 2015-01-08 & 0 & 0 & 0 & ⋯ &    0.00 &   0.000 & 0 & 0 & 0 & 0 & 0 & 0 & NA & NA\\\\\n",
       "\t HBK & ASB0661 & EASH & highbank & Hydro & Hydro & 2015-01-09 & 0 & 0 & 0 & ⋯ &    0.00 &   0.000 & 0 & 0 & 0 & 0 & 0 & 0 & NA & NA\\\\\n",
       "\t HBK & ASB0661 & EASH & highbank & Hydro & Hydro & 2015-01-10 & 0 & 0 & 0 & ⋯ &    0.00 &   0.000 & 0 & 0 & 0 & 0 & 0 & 0 & NA & NA\\\\\n",
       "\t HBK & ASB0661 & EASH & highbank & Hydro & Hydro & 2015-01-11 & 0 & 0 & 0 & ⋯ &    0.00 &   0.000 & 0 & 0 & 0 & 0 & 0 & 0 & NA & NA\\\\\n",
       "\t HBK & ASB0661 & EASH & highbank & Hydro & Hydro & 2015-01-12 & 0 & 0 & 0 & ⋯ &    0.00 &   0.000 & 0 & 0 & 0 & 0 & 0 & 0 & NA & NA\\\\\n",
       "\t HBK & ASB0661 & EASH & highbank & Hydro & Hydro & 2015-01-13 & 0 & 0 & 0 & ⋯ &    0.00 &   0.000 & 0 & 0 & 0 & 0 & 0 & 0 & NA & NA\\\\\n",
       "\t HBK & ASB0661 & EASH & highbank & Hydro & Hydro & 2015-01-14 & 0 & 0 & 0 & ⋯ &    0.00 &   0.000 & 0 & 0 & 0 & 0 & 0 & 0 & NA & NA\\\\\n",
       "\t HBK & ASB0661 & EASH & highbank & Hydro & Hydro & 2015-01-15 & 0 & 0 & 0 & ⋯ &    0.00 &   0.000 & 0 & 0 & 0 & 0 & 0 & 0 & NA & NA\\\\\n",
       "\t HBK & ASB0661 & EASH & highbank & Hydro & Hydro & 2015-01-16 & 0 & 0 & 0 & ⋯ &    0.00 &   0.000 & 0 & 0 & 0 & 0 & 0 & 0 & NA & NA\\\\\n",
       "\t HBK & ASB0661 & EASH & highbank & Hydro & Hydro & 2015-01-17 & 0 & 0 & 0 & ⋯ &    0.00 &   0.000 & 0 & 0 & 0 & 0 & 0 & 0 & NA & NA\\\\\n",
       "\t HBK & ASB0661 & EASH & highbank & Hydro & Hydro & 2015-01-18 & 0 & 0 & 0 & ⋯ &    0.00 &   0.000 & 0 & 0 & 0 & 0 & 0 & 0 & NA & NA\\\\\n",
       "\t HBK & ASB0661 & EASH & highbank & Hydro & Hydro & 2015-01-19 & 0 & 0 & 0 & ⋯ &    0.00 &   0.000 & 0 & 0 & 0 & 0 & 0 & 0 & NA & NA\\\\\n",
       "\t HBK & ASB0661 & EASH & highbank & Hydro & Hydro & 2015-01-20 & 0 & 0 & 0 & ⋯ &    0.00 &   0.000 & 0 & 0 & 0 & 0 & 0 & 0 & NA & NA\\\\\n",
       "\t HBK & ASB0661 & EASH & highbank & Hydro & Hydro & 2015-01-21 & 0 & 0 & 0 & ⋯ &    0.00 &   0.000 & 0 & 0 & 0 & 0 & 0 & 0 & NA & NA\\\\\n",
       "\t HBK & ASB0661 & EASH & highbank & Hydro & Hydro & 2015-01-22 & 0 & 0 & 0 & ⋯ &    0.00 &   0.000 & 0 & 0 & 0 & 0 & 0 & 0 & NA & NA\\\\\n",
       "\t HBK & ASB0661 & EASH & highbank & Hydro & Hydro & 2015-01-23 & 0 & 0 & 0 & ⋯ &    0.00 &   0.000 & 0 & 0 & 0 & 0 & 0 & 0 & NA & NA\\\\\n",
       "\t HBK & ASB0661 & EASH & highbank & Hydro & Hydro & 2015-01-24 & 0 & 0 & 0 & ⋯ &    0.00 &   0.000 & 0 & 0 & 0 & 0 & 0 & 0 & NA & NA\\\\\n",
       "\t HBK & ASB0661 & EASH & highbank & Hydro & Hydro & 2015-01-25 & 0 & 0 & 0 & ⋯ &    0.00 &   0.000 & 0 & 0 & 0 & 0 & 0 & 0 & NA & NA\\\\\n",
       "\t HBK & ASB0661 & EASH & highbank & Hydro & Hydro & 2015-01-26 & 0 & 0 & 0 & ⋯ &    0.00 &   0.000 & 0 & 0 & 0 & 0 & 0 & 0 & NA & NA\\\\\n",
       "\t HBK & ASB0661 & EASH & highbank & Hydro & Hydro & 2015-01-27 & 0 & 0 & 0 & ⋯ &    0.00 &   0.000 & 0 & 0 & 0 & 0 & 0 & 0 & NA & NA\\\\\n",
       "\t HBK & ASB0661 & EASH & highbank & Hydro & Hydro & 2015-01-28 & 0 & 0 & 0 & ⋯ & 2342.42 & 973.957 & 0 & 0 & 0 & 0 & 0 & 0 & NA & NA\\\\\n",
       "\t HBK & ASB0661 & EASH & highbank & Hydro & Hydro & 2015-01-29 & 0 & 0 & 0 & ⋯ &    0.00 &   0.000 & 0 & 0 & 0 & 0 & 0 & 0 & NA & NA\\\\\n",
       "\t HBK & ASB0661 & EASH & highbank & Hydro & Hydro & 2015-01-30 & 0 & 0 & 0 & ⋯ &    0.00 &   0.000 & 0 & 0 & 0 & 0 & 0 & 0 & NA & NA\\\\\n",
       "\t HBK & ASB0661 & EASH & highbank & Hydro & Hydro & 2015-01-31 & 0 & 0 & 0 & ⋯ &    0.00 &   0.000 & 0 & 0 & 0 & 0 & 0 & 0 & NA & NA\\\\\n",
       "\\end{tabular}\n"
      ],
      "text/markdown": [
       "\n",
       "A spec_tbl_df: 6260 × 57\n",
       "\n",
       "| Site_Code &lt;chr&gt; | POC_Code &lt;chr&gt; | Nwk_Code &lt;chr&gt; | Gen_Code &lt;chr&gt; | Fuel_Code &lt;chr&gt; | Tech_Code &lt;chr&gt; | Trading_date &lt;date&gt; | TP1 &lt;dbl&gt; | TP2 &lt;dbl&gt; | TP3 &lt;dbl&gt; | ⋯ ⋯ | TP41 &lt;dbl&gt; | TP42 &lt;dbl&gt; | TP43 &lt;dbl&gt; | TP44 &lt;dbl&gt; | TP45 &lt;dbl&gt; | TP46 &lt;dbl&gt; | TP47 &lt;dbl&gt; | TP48 &lt;dbl&gt; | TP49 &lt;dbl&gt; | TP50 &lt;dbl&gt; |\n",
       "|---|---|---|---|---|---|---|---|---|---|---|---|---|---|---|---|---|---|---|---|---|\n",
       "| HBK | ASB0661 | EASH | highbank | Hydro | Hydro | 2020-12-01 | 10394.654 | 10402.396 | 10400.515 | ⋯ | 10770.984 | 10779.275 | 10777.726 | 10787.507 | 10778.765 | 10776.972 | 10780.90 | 10781.60 | NA | NA |\n",
       "| HBK | ASB0661 | EASH | highbank | Hydro | Hydro | 2020-12-02 | 10774.541 | 10779.167 | 10776.531 | ⋯ | 10287.001 | 10300.329 | 10288.844 | 10294.949 | 10295.537 | 10296.272 | 10308.60 | 10298.00 | NA | NA |\n",
       "| HBK | ASB0661 | EASH | highbank | Hydro | Hydro | 2020-12-03 | 10282.572 | 10294.136 | 10296.615 | ⋯ |  9656.420 |  9431.461 |  9409.842 |  8952.222 |  8913.463 |  8924.997 |  8928.25 |  8926.29 | NA | NA |\n",
       "| HBK | ASB0661 | EASH | highbank | Hydro | Hydro | 2020-12-04 |  9050.878 |  9072.595 |  9059.610 | ⋯ |  5953.667 |  5956.185 |  5956.146 |  5497.241 |  5465.989 |  5464.470 |  5466.65 |  5466.53 | NA | NA |\n",
       "| HBK | ASB0661 | EASH | highbank | Hydro | Hydro | 2020-12-05 |  5465.519 |  4542.917 |  4492.036 | ⋯ |     0.000 |     0.000 |     0.000 |     0.000 |     0.000 |     0.000 |     0.00 |     0.00 | NA | NA |\n",
       "| HBK | ASB0661 | EASH | highbank | Hydro | Hydro | 2020-12-06 |     0.000 |     0.000 |     0.000 | ⋯ |     0.000 |     0.000 |     0.000 |     0.000 |     0.000 |     0.000 |     0.00 |     0.00 | NA | NA |\n",
       "| HBK | ASB0661 | EASH | highbank | Hydro | Hydro | 2020-12-07 |     0.000 |     0.000 |     0.000 | ⋯ |     0.000 |     0.000 |     0.000 |     0.000 |     0.000 |     0.000 |     0.00 |     0.00 | NA | NA |\n",
       "| HBK | ASB0661 | EASH | highbank | Hydro | Hydro | 2020-12-08 |     0.000 |     0.000 |     0.000 | ⋯ |     0.000 |     0.000 |     0.000 |     0.000 |     0.000 |     0.000 |     0.00 |     0.00 | NA | NA |\n",
       "| HBK | ASB0661 | EASH | highbank | Hydro | Hydro | 2020-12-09 |     0.000 |     0.000 |     0.000 | ⋯ |     0.000 |     0.000 |     0.000 |     0.000 |     0.000 |     0.000 |     0.00 |     0.00 | NA | NA |\n",
       "| HBK | ASB0661 | EASH | highbank | Hydro | Hydro | 2020-12-10 |     0.000 |     0.000 |     0.000 | ⋯ |     0.000 |     0.000 |     0.000 |     0.000 |     0.000 |     0.000 |     0.00 |     0.00 | NA | NA |\n",
       "| HBK | ASB0661 | EASH | highbank | Hydro | Hydro | 2020-12-11 |     0.000 |     0.000 |     0.000 | ⋯ |     0.000 |     0.000 |     0.000 |     0.000 |     0.000 |     0.000 |     0.00 |     0.00 | NA | NA |\n",
       "| HBK | ASB0661 | EASH | highbank | Hydro | Hydro | 2020-12-12 |     0.000 |     0.000 |     0.000 | ⋯ |     0.000 |     0.000 |     0.000 |     0.000 |     0.000 |     0.000 |     0.00 |     0.00 | NA | NA |\n",
       "| HBK | ASB0661 | EASH | highbank | Hydro | Hydro | 2020-12-13 |     0.000 |     0.000 |     0.000 | ⋯ |     0.000 |     0.000 |     0.000 |     0.000 |     0.000 |     0.000 |     0.00 |     0.00 | NA | NA |\n",
       "| HBK | ASB0661 | EASH | highbank | Hydro | Hydro | 2020-12-14 |     0.000 |     0.000 |     0.000 | ⋯ |     0.000 |     0.000 |     0.000 |     0.000 |     0.000 |     0.000 |     0.00 |     0.00 | NA | NA |\n",
       "| HBK | ASB0661 | EASH | highbank | Hydro | Hydro | 2020-12-15 |     0.000 |     0.000 |     0.000 | ⋯ |     0.000 |     0.000 |     0.000 |     0.000 |     0.000 |     0.000 |     0.00 |     0.00 | NA | NA |\n",
       "| HBK | ASB0661 | EASH | highbank | Hydro | Hydro | 2020-12-16 |     0.000 |     0.000 |     0.000 | ⋯ |     0.000 |     0.000 |     0.000 |     0.000 |     0.000 |     0.000 |     0.00 |     0.00 | NA | NA |\n",
       "| HBK | ASB0661 | EASH | highbank | Hydro | Hydro | 2020-12-17 |     0.000 |     0.000 |     0.000 | ⋯ |     0.000 |     0.000 |     0.000 |     0.000 |     0.000 |     0.000 |     0.00 |     0.00 | NA | NA |\n",
       "| HBK | ASB0661 | EASH | highbank | Hydro | Hydro | 2020-12-18 |     0.000 |     0.000 |     0.000 | ⋯ |     0.000 |     0.000 |     0.000 |     0.000 |     0.000 |     0.000 |     0.00 |     0.00 | NA | NA |\n",
       "| HBK | ASB0661 | EASH | highbank | Hydro | Hydro | 2020-12-19 |     0.000 |     0.000 |     0.000 | ⋯ |     0.000 |     0.000 |     0.000 |     0.000 |     0.000 |     0.000 |     0.00 |     0.00 | NA | NA |\n",
       "| HBK | ASB0661 | EASH | highbank | Hydro | Hydro | 2020-12-20 |     0.000 |     0.000 |     0.000 | ⋯ |     0.000 |     0.000 |     0.000 |     0.000 |     0.000 |     0.000 |     0.00 |     0.00 | NA | NA |\n",
       "| HBK | ASB0661 | EASH | highbank | Hydro | Hydro | 2020-12-21 |     0.000 |     0.000 |     0.000 | ⋯ |     0.000 |     0.000 |     0.000 |     0.000 |     0.000 |     0.000 |     0.00 |     0.00 | NA | NA |\n",
       "| HBK | ASB0661 | EASH | highbank | Hydro | Hydro | 2020-12-22 |     0.000 |     0.000 |     0.000 | ⋯ |     0.000 |     0.000 |     0.000 |     0.000 |     0.000 |     0.000 |     0.00 |     0.00 | NA | NA |\n",
       "| HBK | ASB0661 | EASH | highbank | Hydro | Hydro | 2020-12-23 |     0.000 |     0.000 |     0.000 | ⋯ |     0.000 |     0.000 |     0.000 |     0.000 |     0.000 |     0.000 |     0.00 |     0.00 | NA | NA |\n",
       "| HBK | ASB0661 | EASH | highbank | Hydro | Hydro | 2020-12-24 |     0.000 |     0.000 |     0.000 | ⋯ |  4342.390 |  4382.717 |  5286.051 |  5370.390 |  6327.713 |  6345.314 |  6347.73 |  6349.67 | NA | NA |\n",
       "| HBK | ASB0661 | EASH | highbank | Hydro | Hydro | 2020-12-25 |  6350.008 |  5135.729 |  4259.678 | ⋯ |  7084.567 |  7797.654 |  7829.524 |  8297.983 |  8320.474 |  8319.102 |  8325.92 |  8318.18 | NA | NA |\n",
       "| HBK | ASB0661 | EASH | highbank | Hydro | Hydro | 2020-12-26 |  8316.496 |  8805.016 |  8826.664 | ⋯ |  9302.591 |  9303.160 |  9302.542 |  9778.930 |  9807.634 | 10270.792 | 10287.70 | 10283.20 | NA | NA |\n",
       "| HBK | ASB0661 | EASH | highbank | Hydro | Hydro | 2020-12-27 | 10286.854 | 10284.884 | 10291.352 | ⋯ | 10046.989 | 10049.802 | 10048.508 | 10047.421 | 10365.901 | 10392.655 | 10390.20 | 10392.80 | NA | NA |\n",
       "| HBK | ASB0661 | EASH | highbank | Hydro | Hydro | 2020-12-28 | 10405.434 | 10392.322 | 10395.448 | ⋯ | 10779.716 | 10779.118 | 10781.264 | 10779.706 | 10784.096 | 10780.833 | 10404.40 | 10390.30 | NA | NA |\n",
       "| HBK | ASB0661 | EASH | highbank | Hydro | Hydro | 2020-12-29 | 10393.184 | 10392.234 | 10391.283 | ⋯ | 10634.597 | 10415.597 | 10393.282 | 10401.622 | 10400.358 | 10401.387 | 10402.80 | 10402.10 | NA | NA |\n",
       "| HBK | ASB0661 | EASH | highbank | Hydro | Hydro | 2020-12-30 | 10401.749 | 10398.878 | 10400.250 | ⋯ | 10148.762 | 10151.065 | 10149.811 | 10149.399 | 10150.556 | 10148.988 | 10151.10 | 10283.80 | NA | NA |\n",
       "| ⋮ | ⋮ | ⋮ | ⋮ | ⋮ | ⋮ | ⋮ | ⋮ | ⋮ | ⋮ | ⋱ | ⋮ | ⋮ | ⋮ | ⋮ | ⋮ | ⋮ | ⋮ | ⋮ | ⋮ | ⋮ |\n",
       "| HBK | ASB0661 | EASH | highbank | Hydro | Hydro | 2015-01-02 | 0 | 0 | 0 | ⋯ |    0.00 |   0.000 | 0 | 0 | 0 | 0 | 0 | 0 | NA | NA |\n",
       "| HBK | ASB0661 | EASH | highbank | Hydro | Hydro | 2015-01-03 | 0 | 0 | 0 | ⋯ |    0.00 |   0.000 | 0 | 0 | 0 | 0 | 0 | 0 | NA | NA |\n",
       "| HBK | ASB0661 | EASH | highbank | Hydro | Hydro | 2015-01-04 | 0 | 0 | 0 | ⋯ |    0.00 |   0.000 | 0 | 0 | 0 | 0 | 0 | 0 | NA | NA |\n",
       "| HBK | ASB0661 | EASH | highbank | Hydro | Hydro | 2015-01-05 | 0 | 0 | 0 | ⋯ |    0.00 |   0.000 | 0 | 0 | 0 | 0 | 0 | 0 | NA | NA |\n",
       "| HBK | ASB0661 | EASH | highbank | Hydro | Hydro | 2015-01-06 | 0 | 0 | 0 | ⋯ |    0.00 |   0.000 | 0 | 0 | 0 | 0 | 0 | 0 | NA | NA |\n",
       "| HBK | ASB0661 | EASH | highbank | Hydro | Hydro | 2015-01-07 | 0 | 0 | 0 | ⋯ |    0.00 |   0.000 | 0 | 0 | 0 | 0 | 0 | 0 | NA | NA |\n",
       "| HBK | ASB0661 | EASH | highbank | Hydro | Hydro | 2015-01-08 | 0 | 0 | 0 | ⋯ |    0.00 |   0.000 | 0 | 0 | 0 | 0 | 0 | 0 | NA | NA |\n",
       "| HBK | ASB0661 | EASH | highbank | Hydro | Hydro | 2015-01-09 | 0 | 0 | 0 | ⋯ |    0.00 |   0.000 | 0 | 0 | 0 | 0 | 0 | 0 | NA | NA |\n",
       "| HBK | ASB0661 | EASH | highbank | Hydro | Hydro | 2015-01-10 | 0 | 0 | 0 | ⋯ |    0.00 |   0.000 | 0 | 0 | 0 | 0 | 0 | 0 | NA | NA |\n",
       "| HBK | ASB0661 | EASH | highbank | Hydro | Hydro | 2015-01-11 | 0 | 0 | 0 | ⋯ |    0.00 |   0.000 | 0 | 0 | 0 | 0 | 0 | 0 | NA | NA |\n",
       "| HBK | ASB0661 | EASH | highbank | Hydro | Hydro | 2015-01-12 | 0 | 0 | 0 | ⋯ |    0.00 |   0.000 | 0 | 0 | 0 | 0 | 0 | 0 | NA | NA |\n",
       "| HBK | ASB0661 | EASH | highbank | Hydro | Hydro | 2015-01-13 | 0 | 0 | 0 | ⋯ |    0.00 |   0.000 | 0 | 0 | 0 | 0 | 0 | 0 | NA | NA |\n",
       "| HBK | ASB0661 | EASH | highbank | Hydro | Hydro | 2015-01-14 | 0 | 0 | 0 | ⋯ |    0.00 |   0.000 | 0 | 0 | 0 | 0 | 0 | 0 | NA | NA |\n",
       "| HBK | ASB0661 | EASH | highbank | Hydro | Hydro | 2015-01-15 | 0 | 0 | 0 | ⋯ |    0.00 |   0.000 | 0 | 0 | 0 | 0 | 0 | 0 | NA | NA |\n",
       "| HBK | ASB0661 | EASH | highbank | Hydro | Hydro | 2015-01-16 | 0 | 0 | 0 | ⋯ |    0.00 |   0.000 | 0 | 0 | 0 | 0 | 0 | 0 | NA | NA |\n",
       "| HBK | ASB0661 | EASH | highbank | Hydro | Hydro | 2015-01-17 | 0 | 0 | 0 | ⋯ |    0.00 |   0.000 | 0 | 0 | 0 | 0 | 0 | 0 | NA | NA |\n",
       "| HBK | ASB0661 | EASH | highbank | Hydro | Hydro | 2015-01-18 | 0 | 0 | 0 | ⋯ |    0.00 |   0.000 | 0 | 0 | 0 | 0 | 0 | 0 | NA | NA |\n",
       "| HBK | ASB0661 | EASH | highbank | Hydro | Hydro | 2015-01-19 | 0 | 0 | 0 | ⋯ |    0.00 |   0.000 | 0 | 0 | 0 | 0 | 0 | 0 | NA | NA |\n",
       "| HBK | ASB0661 | EASH | highbank | Hydro | Hydro | 2015-01-20 | 0 | 0 | 0 | ⋯ |    0.00 |   0.000 | 0 | 0 | 0 | 0 | 0 | 0 | NA | NA |\n",
       "| HBK | ASB0661 | EASH | highbank | Hydro | Hydro | 2015-01-21 | 0 | 0 | 0 | ⋯ |    0.00 |   0.000 | 0 | 0 | 0 | 0 | 0 | 0 | NA | NA |\n",
       "| HBK | ASB0661 | EASH | highbank | Hydro | Hydro | 2015-01-22 | 0 | 0 | 0 | ⋯ |    0.00 |   0.000 | 0 | 0 | 0 | 0 | 0 | 0 | NA | NA |\n",
       "| HBK | ASB0661 | EASH | highbank | Hydro | Hydro | 2015-01-23 | 0 | 0 | 0 | ⋯ |    0.00 |   0.000 | 0 | 0 | 0 | 0 | 0 | 0 | NA | NA |\n",
       "| HBK | ASB0661 | EASH | highbank | Hydro | Hydro | 2015-01-24 | 0 | 0 | 0 | ⋯ |    0.00 |   0.000 | 0 | 0 | 0 | 0 | 0 | 0 | NA | NA |\n",
       "| HBK | ASB0661 | EASH | highbank | Hydro | Hydro | 2015-01-25 | 0 | 0 | 0 | ⋯ |    0.00 |   0.000 | 0 | 0 | 0 | 0 | 0 | 0 | NA | NA |\n",
       "| HBK | ASB0661 | EASH | highbank | Hydro | Hydro | 2015-01-26 | 0 | 0 | 0 | ⋯ |    0.00 |   0.000 | 0 | 0 | 0 | 0 | 0 | 0 | NA | NA |\n",
       "| HBK | ASB0661 | EASH | highbank | Hydro | Hydro | 2015-01-27 | 0 | 0 | 0 | ⋯ |    0.00 |   0.000 | 0 | 0 | 0 | 0 | 0 | 0 | NA | NA |\n",
       "| HBK | ASB0661 | EASH | highbank | Hydro | Hydro | 2015-01-28 | 0 | 0 | 0 | ⋯ | 2342.42 | 973.957 | 0 | 0 | 0 | 0 | 0 | 0 | NA | NA |\n",
       "| HBK | ASB0661 | EASH | highbank | Hydro | Hydro | 2015-01-29 | 0 | 0 | 0 | ⋯ |    0.00 |   0.000 | 0 | 0 | 0 | 0 | 0 | 0 | NA | NA |\n",
       "| HBK | ASB0661 | EASH | highbank | Hydro | Hydro | 2015-01-30 | 0 | 0 | 0 | ⋯ |    0.00 |   0.000 | 0 | 0 | 0 | 0 | 0 | 0 | NA | NA |\n",
       "| HBK | ASB0661 | EASH | highbank | Hydro | Hydro | 2015-01-31 | 0 | 0 | 0 | ⋯ |    0.00 |   0.000 | 0 | 0 | 0 | 0 | 0 | 0 | NA | NA |\n",
       "\n"
      ],
      "text/plain": [
       "     Site_Code POC_Code Nwk_Code Gen_Code Fuel_Code Tech_Code Trading_date\n",
       "1    HBK       ASB0661  EASH     highbank Hydro     Hydro     2020-12-01  \n",
       "2    HBK       ASB0661  EASH     highbank Hydro     Hydro     2020-12-02  \n",
       "3    HBK       ASB0661  EASH     highbank Hydro     Hydro     2020-12-03  \n",
       "4    HBK       ASB0661  EASH     highbank Hydro     Hydro     2020-12-04  \n",
       "5    HBK       ASB0661  EASH     highbank Hydro     Hydro     2020-12-05  \n",
       "6    HBK       ASB0661  EASH     highbank Hydro     Hydro     2020-12-06  \n",
       "7    HBK       ASB0661  EASH     highbank Hydro     Hydro     2020-12-07  \n",
       "8    HBK       ASB0661  EASH     highbank Hydro     Hydro     2020-12-08  \n",
       "9    HBK       ASB0661  EASH     highbank Hydro     Hydro     2020-12-09  \n",
       "10   HBK       ASB0661  EASH     highbank Hydro     Hydro     2020-12-10  \n",
       "11   HBK       ASB0661  EASH     highbank Hydro     Hydro     2020-12-11  \n",
       "12   HBK       ASB0661  EASH     highbank Hydro     Hydro     2020-12-12  \n",
       "13   HBK       ASB0661  EASH     highbank Hydro     Hydro     2020-12-13  \n",
       "14   HBK       ASB0661  EASH     highbank Hydro     Hydro     2020-12-14  \n",
       "15   HBK       ASB0661  EASH     highbank Hydro     Hydro     2020-12-15  \n",
       "16   HBK       ASB0661  EASH     highbank Hydro     Hydro     2020-12-16  \n",
       "17   HBK       ASB0661  EASH     highbank Hydro     Hydro     2020-12-17  \n",
       "18   HBK       ASB0661  EASH     highbank Hydro     Hydro     2020-12-18  \n",
       "19   HBK       ASB0661  EASH     highbank Hydro     Hydro     2020-12-19  \n",
       "20   HBK       ASB0661  EASH     highbank Hydro     Hydro     2020-12-20  \n",
       "21   HBK       ASB0661  EASH     highbank Hydro     Hydro     2020-12-21  \n",
       "22   HBK       ASB0661  EASH     highbank Hydro     Hydro     2020-12-22  \n",
       "23   HBK       ASB0661  EASH     highbank Hydro     Hydro     2020-12-23  \n",
       "24   HBK       ASB0661  EASH     highbank Hydro     Hydro     2020-12-24  \n",
       "25   HBK       ASB0661  EASH     highbank Hydro     Hydro     2020-12-25  \n",
       "26   HBK       ASB0661  EASH     highbank Hydro     Hydro     2020-12-26  \n",
       "27   HBK       ASB0661  EASH     highbank Hydro     Hydro     2020-12-27  \n",
       "28   HBK       ASB0661  EASH     highbank Hydro     Hydro     2020-12-28  \n",
       "29   HBK       ASB0661  EASH     highbank Hydro     Hydro     2020-12-29  \n",
       "30   HBK       ASB0661  EASH     highbank Hydro     Hydro     2020-12-30  \n",
       "⋮    ⋮         ⋮        ⋮        ⋮        ⋮         ⋮         ⋮           \n",
       "6231 HBK       ASB0661  EASH     highbank Hydro     Hydro     2015-01-02  \n",
       "6232 HBK       ASB0661  EASH     highbank Hydro     Hydro     2015-01-03  \n",
       "6233 HBK       ASB0661  EASH     highbank Hydro     Hydro     2015-01-04  \n",
       "6234 HBK       ASB0661  EASH     highbank Hydro     Hydro     2015-01-05  \n",
       "6235 HBK       ASB0661  EASH     highbank Hydro     Hydro     2015-01-06  \n",
       "6236 HBK       ASB0661  EASH     highbank Hydro     Hydro     2015-01-07  \n",
       "6237 HBK       ASB0661  EASH     highbank Hydro     Hydro     2015-01-08  \n",
       "6238 HBK       ASB0661  EASH     highbank Hydro     Hydro     2015-01-09  \n",
       "6239 HBK       ASB0661  EASH     highbank Hydro     Hydro     2015-01-10  \n",
       "6240 HBK       ASB0661  EASH     highbank Hydro     Hydro     2015-01-11  \n",
       "6241 HBK       ASB0661  EASH     highbank Hydro     Hydro     2015-01-12  \n",
       "6242 HBK       ASB0661  EASH     highbank Hydro     Hydro     2015-01-13  \n",
       "6243 HBK       ASB0661  EASH     highbank Hydro     Hydro     2015-01-14  \n",
       "6244 HBK       ASB0661  EASH     highbank Hydro     Hydro     2015-01-15  \n",
       "6245 HBK       ASB0661  EASH     highbank Hydro     Hydro     2015-01-16  \n",
       "6246 HBK       ASB0661  EASH     highbank Hydro     Hydro     2015-01-17  \n",
       "6247 HBK       ASB0661  EASH     highbank Hydro     Hydro     2015-01-18  \n",
       "6248 HBK       ASB0661  EASH     highbank Hydro     Hydro     2015-01-19  \n",
       "6249 HBK       ASB0661  EASH     highbank Hydro     Hydro     2015-01-20  \n",
       "6250 HBK       ASB0661  EASH     highbank Hydro     Hydro     2015-01-21  \n",
       "6251 HBK       ASB0661  EASH     highbank Hydro     Hydro     2015-01-22  \n",
       "6252 HBK       ASB0661  EASH     highbank Hydro     Hydro     2015-01-23  \n",
       "6253 HBK       ASB0661  EASH     highbank Hydro     Hydro     2015-01-24  \n",
       "6254 HBK       ASB0661  EASH     highbank Hydro     Hydro     2015-01-25  \n",
       "6255 HBK       ASB0661  EASH     highbank Hydro     Hydro     2015-01-26  \n",
       "6256 HBK       ASB0661  EASH     highbank Hydro     Hydro     2015-01-27  \n",
       "6257 HBK       ASB0661  EASH     highbank Hydro     Hydro     2015-01-28  \n",
       "6258 HBK       ASB0661  EASH     highbank Hydro     Hydro     2015-01-29  \n",
       "6259 HBK       ASB0661  EASH     highbank Hydro     Hydro     2015-01-30  \n",
       "6260 HBK       ASB0661  EASH     highbank Hydro     Hydro     2015-01-31  \n",
       "     TP1       TP2       TP3       ⋯ TP41      TP42      TP43      TP44     \n",
       "1    10394.654 10402.396 10400.515 ⋯ 10770.984 10779.275 10777.726 10787.507\n",
       "2    10774.541 10779.167 10776.531 ⋯ 10287.001 10300.329 10288.844 10294.949\n",
       "3    10282.572 10294.136 10296.615 ⋯  9656.420  9431.461  9409.842  8952.222\n",
       "4     9050.878  9072.595  9059.610 ⋯  5953.667  5956.185  5956.146  5497.241\n",
       "5     5465.519  4542.917  4492.036 ⋯     0.000     0.000     0.000     0.000\n",
       "6        0.000     0.000     0.000 ⋯     0.000     0.000     0.000     0.000\n",
       "7        0.000     0.000     0.000 ⋯     0.000     0.000     0.000     0.000\n",
       "8        0.000     0.000     0.000 ⋯     0.000     0.000     0.000     0.000\n",
       "9        0.000     0.000     0.000 ⋯     0.000     0.000     0.000     0.000\n",
       "10       0.000     0.000     0.000 ⋯     0.000     0.000     0.000     0.000\n",
       "11       0.000     0.000     0.000 ⋯     0.000     0.000     0.000     0.000\n",
       "12       0.000     0.000     0.000 ⋯     0.000     0.000     0.000     0.000\n",
       "13       0.000     0.000     0.000 ⋯     0.000     0.000     0.000     0.000\n",
       "14       0.000     0.000     0.000 ⋯     0.000     0.000     0.000     0.000\n",
       "15       0.000     0.000     0.000 ⋯     0.000     0.000     0.000     0.000\n",
       "16       0.000     0.000     0.000 ⋯     0.000     0.000     0.000     0.000\n",
       "17       0.000     0.000     0.000 ⋯     0.000     0.000     0.000     0.000\n",
       "18       0.000     0.000     0.000 ⋯     0.000     0.000     0.000     0.000\n",
       "19       0.000     0.000     0.000 ⋯     0.000     0.000     0.000     0.000\n",
       "20       0.000     0.000     0.000 ⋯     0.000     0.000     0.000     0.000\n",
       "21       0.000     0.000     0.000 ⋯     0.000     0.000     0.000     0.000\n",
       "22       0.000     0.000     0.000 ⋯     0.000     0.000     0.000     0.000\n",
       "23       0.000     0.000     0.000 ⋯     0.000     0.000     0.000     0.000\n",
       "24       0.000     0.000     0.000 ⋯  4342.390  4382.717  5286.051  5370.390\n",
       "25    6350.008  5135.729  4259.678 ⋯  7084.567  7797.654  7829.524  8297.983\n",
       "26    8316.496  8805.016  8826.664 ⋯  9302.591  9303.160  9302.542  9778.930\n",
       "27   10286.854 10284.884 10291.352 ⋯ 10046.989 10049.802 10048.508 10047.421\n",
       "28   10405.434 10392.322 10395.448 ⋯ 10779.716 10779.118 10781.264 10779.706\n",
       "29   10393.184 10392.234 10391.283 ⋯ 10634.597 10415.597 10393.282 10401.622\n",
       "30   10401.749 10398.878 10400.250 ⋯ 10148.762 10151.065 10149.811 10149.399\n",
       "⋮    ⋮         ⋮         ⋮         ⋱ ⋮         ⋮         ⋮         ⋮        \n",
       "6231 0         0         0         ⋯    0.00     0.000   0         0        \n",
       "6232 0         0         0         ⋯    0.00     0.000   0         0        \n",
       "6233 0         0         0         ⋯    0.00     0.000   0         0        \n",
       "6234 0         0         0         ⋯    0.00     0.000   0         0        \n",
       "6235 0         0         0         ⋯    0.00     0.000   0         0        \n",
       "6236 0         0         0         ⋯    0.00     0.000   0         0        \n",
       "6237 0         0         0         ⋯    0.00     0.000   0         0        \n",
       "6238 0         0         0         ⋯    0.00     0.000   0         0        \n",
       "6239 0         0         0         ⋯    0.00     0.000   0         0        \n",
       "6240 0         0         0         ⋯    0.00     0.000   0         0        \n",
       "6241 0         0         0         ⋯    0.00     0.000   0         0        \n",
       "6242 0         0         0         ⋯    0.00     0.000   0         0        \n",
       "6243 0         0         0         ⋯    0.00     0.000   0         0        \n",
       "6244 0         0         0         ⋯    0.00     0.000   0         0        \n",
       "6245 0         0         0         ⋯    0.00     0.000   0         0        \n",
       "6246 0         0         0         ⋯    0.00     0.000   0         0        \n",
       "6247 0         0         0         ⋯    0.00     0.000   0         0        \n",
       "6248 0         0         0         ⋯    0.00     0.000   0         0        \n",
       "6249 0         0         0         ⋯    0.00     0.000   0         0        \n",
       "6250 0         0         0         ⋯    0.00     0.000   0         0        \n",
       "6251 0         0         0         ⋯    0.00     0.000   0         0        \n",
       "6252 0         0         0         ⋯    0.00     0.000   0         0        \n",
       "6253 0         0         0         ⋯    0.00     0.000   0         0        \n",
       "6254 0         0         0         ⋯    0.00     0.000   0         0        \n",
       "6255 0         0         0         ⋯    0.00     0.000   0         0        \n",
       "6256 0         0         0         ⋯    0.00     0.000   0         0        \n",
       "6257 0         0         0         ⋯ 2342.42   973.957   0         0        \n",
       "6258 0         0         0         ⋯    0.00     0.000   0         0        \n",
       "6259 0         0         0         ⋯    0.00     0.000   0         0        \n",
       "6260 0         0         0         ⋯    0.00     0.000   0         0        \n",
       "     TP45      TP46      TP47     TP48     TP49 TP50\n",
       "1    10778.765 10776.972 10780.90 10781.60 NA   NA  \n",
       "2    10295.537 10296.272 10308.60 10298.00 NA   NA  \n",
       "3     8913.463  8924.997  8928.25  8926.29 NA   NA  \n",
       "4     5465.989  5464.470  5466.65  5466.53 NA   NA  \n",
       "5        0.000     0.000     0.00     0.00 NA   NA  \n",
       "6        0.000     0.000     0.00     0.00 NA   NA  \n",
       "7        0.000     0.000     0.00     0.00 NA   NA  \n",
       "8        0.000     0.000     0.00     0.00 NA   NA  \n",
       "9        0.000     0.000     0.00     0.00 NA   NA  \n",
       "10       0.000     0.000     0.00     0.00 NA   NA  \n",
       "11       0.000     0.000     0.00     0.00 NA   NA  \n",
       "12       0.000     0.000     0.00     0.00 NA   NA  \n",
       "13       0.000     0.000     0.00     0.00 NA   NA  \n",
       "14       0.000     0.000     0.00     0.00 NA   NA  \n",
       "15       0.000     0.000     0.00     0.00 NA   NA  \n",
       "16       0.000     0.000     0.00     0.00 NA   NA  \n",
       "17       0.000     0.000     0.00     0.00 NA   NA  \n",
       "18       0.000     0.000     0.00     0.00 NA   NA  \n",
       "19       0.000     0.000     0.00     0.00 NA   NA  \n",
       "20       0.000     0.000     0.00     0.00 NA   NA  \n",
       "21       0.000     0.000     0.00     0.00 NA   NA  \n",
       "22       0.000     0.000     0.00     0.00 NA   NA  \n",
       "23       0.000     0.000     0.00     0.00 NA   NA  \n",
       "24    6327.713  6345.314  6347.73  6349.67 NA   NA  \n",
       "25    8320.474  8319.102  8325.92  8318.18 NA   NA  \n",
       "26    9807.634 10270.792 10287.70 10283.20 NA   NA  \n",
       "27   10365.901 10392.655 10390.20 10392.80 NA   NA  \n",
       "28   10784.096 10780.833 10404.40 10390.30 NA   NA  \n",
       "29   10400.358 10401.387 10402.80 10402.10 NA   NA  \n",
       "30   10150.556 10148.988 10151.10 10283.80 NA   NA  \n",
       "⋮    ⋮         ⋮         ⋮        ⋮        ⋮    ⋮   \n",
       "6231 0         0         0        0        NA   NA  \n",
       "6232 0         0         0        0        NA   NA  \n",
       "6233 0         0         0        0        NA   NA  \n",
       "6234 0         0         0        0        NA   NA  \n",
       "6235 0         0         0        0        NA   NA  \n",
       "6236 0         0         0        0        NA   NA  \n",
       "6237 0         0         0        0        NA   NA  \n",
       "6238 0         0         0        0        NA   NA  \n",
       "6239 0         0         0        0        NA   NA  \n",
       "6240 0         0         0        0        NA   NA  \n",
       "6241 0         0         0        0        NA   NA  \n",
       "6242 0         0         0        0        NA   NA  \n",
       "6243 0         0         0        0        NA   NA  \n",
       "6244 0         0         0        0        NA   NA  \n",
       "6245 0         0         0        0        NA   NA  \n",
       "6246 0         0         0        0        NA   NA  \n",
       "6247 0         0         0        0        NA   NA  \n",
       "6248 0         0         0        0        NA   NA  \n",
       "6249 0         0         0        0        NA   NA  \n",
       "6250 0         0         0        0        NA   NA  \n",
       "6251 0         0         0        0        NA   NA  \n",
       "6252 0         0         0        0        NA   NA  \n",
       "6253 0         0         0        0        NA   NA  \n",
       "6254 0         0         0        0        NA   NA  \n",
       "6255 0         0         0        0        NA   NA  \n",
       "6256 0         0         0        0        NA   NA  \n",
       "6257 0         0         0        0        NA   NA  \n",
       "6258 0         0         0        0        NA   NA  \n",
       "6259 0         0         0        0        NA   NA  \n",
       "6260 0         0         0        0        NA   NA  "
      ]
     },
     "metadata": {},
     "output_type": "display_data"
    }
   ],
   "source": [
    "## Hydrostations -> rivers\n",
    "# waitaki -> Waitaki\n",
    "# highbank -> Rakaia\n",
    "matching_gen_codes <- c(\"highbank\", \"waitaki\")\n",
    "generation_md %>% filter(Gen_Code %in% matching_gen_codes)"
   ]
  },
  {
   "cell_type": "code",
   "execution_count": null,
   "id": "195d1d3d-4805-4440-b4f4-8fec2cb53b58",
   "metadata": {},
   "outputs": [],
   "source": [
    "#Graphing code"
   ]
  }
 ],
 "metadata": {
  "kernelspec": {
   "display_name": "R",
   "language": "R",
   "name": "ir"
  },
  "language_info": {
   "codemirror_mode": "r",
   "file_extension": ".r",
   "mimetype": "text/x-r-source",
   "name": "R",
   "pygments_lexer": "r",
   "version": "4.1.1"
  }
 },
 "nbformat": 4,
 "nbformat_minor": 5
}
