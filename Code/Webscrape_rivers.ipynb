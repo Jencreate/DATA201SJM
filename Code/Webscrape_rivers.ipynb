{
 "cells": [
  {
   "cell_type": "code",
   "execution_count": 1,
   "id": "aaf9dcbf-e257-496d-9719-d100b0c69ef2",
   "metadata": {},
   "outputs": [
    {
     "name": "stderr",
     "output_type": "stream",
     "text": [
      "-- \u001b[1mAttaching packages\u001b[22m --------------------------------------- tidyverse 1.3.1 --\n",
      "\n",
      "\u001b[32mv\u001b[39m \u001b[34mggplot2\u001b[39m 3.3.5     \u001b[32mv\u001b[39m \u001b[34mpurrr  \u001b[39m 0.3.4\n",
      "\u001b[32mv\u001b[39m \u001b[34mtibble \u001b[39m 3.1.4     \u001b[32mv\u001b[39m \u001b[34mdplyr  \u001b[39m 1.0.7\n",
      "\u001b[32mv\u001b[39m \u001b[34mtidyr  \u001b[39m 1.1.3     \u001b[32mv\u001b[39m \u001b[34mstringr\u001b[39m 1.4.0\n",
      "\u001b[32mv\u001b[39m \u001b[34mreadr  \u001b[39m 2.0.1     \u001b[32mv\u001b[39m \u001b[34mforcats\u001b[39m 0.5.1\n",
      "\n",
      "-- \u001b[1mConflicts\u001b[22m ------------------------------------------ tidyverse_conflicts() --\n",
      "\u001b[31mx\u001b[39m \u001b[34mtidyr\u001b[39m::\u001b[32mcomplete()\u001b[39m masks \u001b[34mRCurl\u001b[39m::complete()\n",
      "\u001b[31mx\u001b[39m \u001b[34mdplyr\u001b[39m::\u001b[32mfilter()\u001b[39m   masks \u001b[34mstats\u001b[39m::filter()\n",
      "\u001b[31mx\u001b[39m \u001b[34mdplyr\u001b[39m::\u001b[32mlag()\u001b[39m      masks \u001b[34mstats\u001b[39m::lag()\n",
      "\n"
     ]
    },
    {
     "name": "stdout",
     "output_type": "stream",
     "text": [
      "[1] \"Opuha Aquired\"\n",
      "[1] \"Rakaia Aquired\"\n",
      "[1] \"Waitaki Aquired\"\n",
      "[1] \"Kawarau Aquired\"\n",
      "[1] \"Clutha Aquired\"\n",
      "[1] \"Mataura Aquired\"\n"
     ]
    }
   ],
   "source": [
    "#install.packages(\"RCurl\")\n",
    "library(RCurl)\n",
    "library(tidyverse, warn.conflicts = FALSE)\n",
    "# not required, legacy, library(lubridate, warn.conflicts = FALSE)\n",
    "#just initialising packages required, didnt end up needing lubridate\n",
    "\n",
    "row_calc1 <- function(tibble){\n",
    "    n = as.integer(nrow(tibble)) #figuring out the size of tibble\n",
    "    data <- tail(tibble, (n-4)) #removing the first 4 rows as they are irrelevant and not required\n",
    "    names(data) <- c('Time','Value(m^3/s)') #setting names of the columns\n",
    "    return(data) #returning the data\n",
    "}\n",
    "\n",
    "row_calc2 <- function(tibble){\n",
    "    n = as.integer(nrow(tibble)) #figuring out the size of tibble\n",
    "    data <- tail(tibble, (n-4)) %>% select(-X) #removing the first 4 rows and column -X as they are irrelevant and not required\n",
    "    names(data) <- c('Time','Value(m^3/s)') #setting names of the columns\n",
    "    return(data) #returning the data  \n",
    "}\n",
    "\n",
    "opuha <- as_tibble(read.csv(text = getURL(\"https://hydrowebportal.niwa.co.nz/Export/BulkExport?DateRange=Custom&StartTime=2015-01-01%2000%3A00&EndTime=2020-12-31%2000%3A00&TimeZone=12&Calendar=CALENDARYEAR&Interval=Monthly&Step=1&ExportFormat=csv&TimeAligned=True&RoundData=False&IncludeGradeCodes=False&IncludeApprovalLevels=False&IncludeInterpolationTypes=False&Datasets[0].DatasetName=Discharge%20Value.NRWQN%40TK3&Datasets[0].Calculation=Aggregate&Datasets[0].UnitId=140\"))) %>% row_calc2()\n",
    "print(\"Opuha Aquired\")\n",
    "rakaia <- as_tibble(read.csv(text = getURL(\"https://hydrowebportal.niwa.co.nz/Export/BulkExport?DateRange=Custom&StartTime=2015-01-01%2000%3A00&EndTime=2020-12-31%2000%3A00&TimeZone=12&Calendar=CALENDARYEAR&Interval=Monthly&Step=1&ExportFormat=csv&TimeAligned=True&RoundData=False&IncludeGradeCodes=False&IncludeApprovalLevels=False&IncludeInterpolationTypes=False&Datasets[0].DatasetName=Discharge.Master%4068526&Datasets[0].Calculation=Instantaneous&Datasets[0].UnitId=140\"))) %>% row_calc2()\n",
    "print(\"Rakaia Aquired\")\n",
    "waitaki <- as_tibble(read.csv(text = getURL(\"https://hydrowebportal.niwa.co.nz/Export/BulkExport?DateRange=Custom&StartTime=2015-01-01%2000%3A00&EndTime=2020-12-31%2000%3A00&TimeZone=12&Calendar=CALENDARYEAR&Interval=PointsAsRecorded&Step=1&ExportFormat=csv&TimeAligned=True&RoundData=False&IncludeGradeCodes=False&IncludeApprovalLevels=False&IncludeInterpolationTypes=False&Datasets[0].DatasetName=Discharge%20Value.NRWQN%40TK6&Datasets[0].Calculation=Instantaneous&Datasets[0].UnitId=140\"))) %>% row_calc1()\n",
    "print(\"Waitaki Aquired\")\n",
    "kawarau <- as_tibble(read.csv(text = getURL(\"https://hydrowebportal.niwa.co.nz/Export/BulkExport?DateRange=Custom&StartTime=2015-01-01%2000%3A00&EndTime=2020-12-31%2000%3A00&TimeZone=12&Calendar=CALENDARYEAR&Interval=PointsAsRecorded&Step=1&ExportFormat=csv&TimeAligned=True&RoundData=False&IncludeGradeCodes=False&IncludeApprovalLevels=False&IncludeInterpolationTypes=False&Datasets[0].DatasetName=Discharge%20Value.NRWQN%40AX2&Datasets[0].Calculation=Instantaneous&Datasets[0].UnitId=140\"))) %>% row_calc1() \n",
    "print(\"Kawarau Aquired\")\n",
    "clutha <- as_tibble(read.csv(text = getURL(\"https://hydrowebportal.niwa.co.nz/Export/BulkExport?DateRange=Custom&StartTime=2015-01-01%2000%3A00&EndTime=2020-12-31%2000%3A00&TimeZone=12&Calendar=CALENDARYEAR&Interval=Monthly&Step=1&ExportFormat=csv&TimeAligned=True&RoundData=False&IncludeGradeCodes=False&IncludeApprovalLevels=False&IncludeInterpolationTypes=False&Datasets[0].DatasetName=Discharge.Master%4075207&Datasets[0].Calculation=Instantaneous&Datasets[0].UnitId=140\"))) %>% row_calc2()     \n",
    "print(\"Clutha Aquired\")\n",
    "mataura <- as_tibble(read.csv(text = getURL(\"https://hydrowebportal.niwa.co.nz/Export/BulkExport?DateRange=Custom&StartTime=2015-01-01%2000%3A00&EndTime=2020-12-31%2000%3A00&TimeZone=12&Calendar=CALENDARYEAR&Interval=PointsAsRecorded&Step=1&ExportFormat=csv&TimeAligned=True&RoundData=False&IncludeGradeCodes=False&IncludeApprovalLevels=False&IncludeInterpolationTypes=False&Datasets[0].DatasetName=Discharge%20Value.NRWQN%40DN5&Datasets[0].Calculation=Instantaneous&Datasets[0].UnitId=140\"))) %>% row_calc1() \n",
    "print(\"Mataura Aquired\")\n",
    "#this lot of code was using the download urls from NIWAs aquarius portal, reading them in as a comma seperated file, and converting them to a tibble\n",
    "#empty data set, legacy, monowai <- read.csv(text = getURL(\"https://hydrowebportal.niwa.co.nz/Export/BulkExport?DateRange=Custom&StartTime=2020-01-01%2000%3A00&EndTime=2020-12-31%2000%3A00&TimeZone=12&Calendar=CALENDARYEAR&Interval=PointsAsRecorded&Step=1&ExportFormat=csv&TimeAligned=True&RoundData=False&IncludeGradeCodes=False&IncludeApprovalLevels=False&IncludeInterpolationTypes=False&Datasets[0].DatasetName=Discharge%20Value.NRWQN%40DN10&Datasets[0].Calculation=Instantaneous&Datasets[0].UnitId=140\"))                    \n",
    "#empty data set, legacy, taieri <- read.csv(text = getURL(\"https://hydrowebportal.niwa.co.nz/Export/BulkExport?DateRange=Custom&StartTime=2020-01-01%2000%3A00&EndTime=2020-12-31%2000%3A00&TimeZone=12&Calendar=CALENDARYEAR&Interval=PointsAsRecorded&Step=1&ExportFormat=csv&TimeAligned=True&RoundData=False&IncludeGradeCodes=False&IncludeApprovalLevels=False&IncludeInterpolationTypes=False&Datasets[0].DatasetName=Discharge%20Value.NRWQN%40DN3&Datasets[0].Calculation=Instantaneous&Datasets[0].UnitId=140\"))\n",
    "#head(opuha, 10)\n",
    "#head(rakaia, 10)\n",
    "#head(waitaki, 10)\n",
    "#head(kawarau, 10)\n",
    "#head(clutha, 10)\n",
    "#head(mataura, 10)\n",
    "#head function used to check first 10 rows of each data frame\n",
    "\n",
    "\n"
   ]
  },
  {
   "cell_type": "code",
   "execution_count": null,
   "id": "d473375a-1878-4920-acb4-1214d3e0c897",
   "metadata": {},
   "outputs": [],
   "source": []
  }
 ],
 "metadata": {
  "kernelspec": {
   "display_name": "R",
   "language": "R",
   "name": "ir"
  },
  "language_info": {
   "codemirror_mode": "r",
   "file_extension": ".r",
   "mimetype": "text/x-r-source",
   "name": "R",
   "pygments_lexer": "r",
   "version": "4.1.1"
  }
 },
 "nbformat": 4,
 "nbformat_minor": 5
}
